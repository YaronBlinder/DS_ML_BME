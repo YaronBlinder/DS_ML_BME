{
 "cells": [
  {
   "cell_type": "markdown",
   "metadata": {
    "nbpresent": {
     "id": "755e49c3-ca97-41ce-84bb-89d2fd6f4ca4"
    }
   },
   "source": [
    "<!--BOOK_INFORMATION-->\n",
    "<img align=\"left\" style=\"padding-right:10px;\" src=\"WhirlwindTourOfPython/fig/cover-small.jpg\">\n",
    "*This notebook is based on the [Whirlwind Tour of Python](http://www.oreilly.com/programming/free/a-whirlwind-tour-of-python.csp) by Jake VanderPlas; the content is available [on GitHub](https://github.com/jakevdp/WhirlwindTourOfPython).*\n",
    "\n",
    "*The text and code are released under the [CC0](https://github.com/jakevdp/WhirlwindTourOfPython/blob/master/LICENSE) license; see also the companion project, the [Python Data Science Handbook](https://github.com/jakevdp/PythonDataScienceHandbook).*\n"
   ]
  },
  {
   "cell_type": "markdown",
   "metadata": {},
   "source": [
    "# The zen of python:"
   ]
  },
  {
   "cell_type": "code",
   "execution_count": null,
   "metadata": {},
   "outputs": [],
   "source": [
    "import this"
   ]
  },
  {
   "cell_type": "markdown",
   "metadata": {
    "nbpresent": {
     "id": "fa7d5007-e04c-4b5c-a778-9ed3bf319109"
    }
   },
   "source": [
    "# 1. How to run python code"
   ]
  },
  {
   "cell_type": "markdown",
   "metadata": {
    "nbpresent": {
     "id": "4331f03a-df6f-4a5f-8afc-8b3e69ce1503"
    }
   },
   "source": [
    "\n",
    "\n",
    "- The python interpreter\n",
    "- The ipython interpreter\n",
    "- Self-contained python scripts\n",
    "- the Jupyter notebook"
   ]
  },
  {
   "cell_type": "markdown",
   "metadata": {
    "nbpresent": {
     "id": "d65f1d30-19ae-4338-97f1-db0cd2413c39"
    }
   },
   "source": [
    "# 2.  Basics of python language syntax\n",
    "consider the following code example:"
   ]
  },
  {
   "cell_type": "code",
   "execution_count": null,
   "metadata": {
    "nbpresent": {
     "id": "cb04a9ae-1ca5-4189-8242-bdcd56f1dbd7"
    }
   },
   "outputs": [],
   "source": [
    "# set the midpoint\n",
    "midpoint = 5\n",
    "\n",
    "# make two empty lists\n",
    "lower = []; upper = []\n",
    "\n",
    "# split the numbers into lower and upper\n",
    "for i in range(10):\n",
    "    \n",
    "    \n",
    "    \n",
    "    \n",
    "    if (i < midpoint):\n",
    "        lower.append(i)\n",
    "    else:\n",
    "        upper.append(i)\n",
    "        \n",
    "print(\"lower:\", lower)\n",
    "print(\"upper:\", upper)"
   ]
  },
  {
   "cell_type": "markdown",
   "metadata": {
    "nbpresent": {
     "id": "0740a7e1-5bce-4408-bd0d-b53f27fb65f1"
    }
   },
   "source": [
    "This script is a bit silly, but it compactly illustrates several of the important aspects of Python syntax.\n",
    "Let's walk through it and discuss some of the syntactical features of Python:\n",
    "\n",
    "- Comments are marked by #"
   ]
  },
  {
   "cell_type": "code",
   "execution_count": null,
   "metadata": {
    "nbpresent": {
     "id": "c8efe021-34f6-4c90-8b53-e7b2e42e5939"
    }
   },
   "outputs": [],
   "source": [
    "# set the midpoint"
   ]
  },
  {
   "cell_type": "code",
   "execution_count": null,
   "metadata": {
    "nbpresent": {
     "id": "d068912f-73b7-4ffb-9935-c3395b707962"
    }
   },
   "outputs": [],
   "source": [
    "# x = 2\n",
    "x += 2 #Comments can come after code. This is shorthand for x = x+2\n",
    "x"
   ]
  },
  {
   "cell_type": "code",
   "execution_count": null,
   "metadata": {},
   "outputs": [],
   "source": [
    "print(x)"
   ]
  },
  {
   "cell_type": "markdown",
   "metadata": {
    "nbpresent": {
     "id": "c4a5cbb1-8d0d-45b0-a9fc-0b3592cd61ef"
    }
   },
   "source": [
    "\n",
    "- End-of-Line terminates a statement"
   ]
  },
  {
   "cell_type": "code",
   "execution_count": null,
   "metadata": {
    "nbpresent": {
     "id": "39adfec8-bf76-4cb7-a948-31d817a8c500"
    }
   },
   "outputs": [],
   "source": [
    "midpoint = 5"
   ]
  },
  {
   "cell_type": "code",
   "execution_count": null,
   "metadata": {
    "nbpresent": {
     "id": "5157c98b-de01-4896-b9d5-3a7f34b3c291"
    }
   },
   "outputs": [],
   "source": [
    "x = 1 + 2 + 3 + 4 +\\\n",
    "    5 + 6 + 7 + 8    "
   ]
  },
  {
   "cell_type": "code",
   "execution_count": null,
   "metadata": {
    "nbpresent": {
     "id": "3f008c9f-c434-4cbb-91f7-5daf3ff44376"
    }
   },
   "outputs": [],
   "source": [
    "x"
   ]
  },
  {
   "cell_type": "code",
   "execution_count": null,
   "metadata": {
    "nbpresent": {
     "id": "4810dd5d-5bdb-4ad5-a58b-b94120923802"
    }
   },
   "outputs": [],
   "source": [
    "y = (1 + 2 + 3 + 4 +\n",
    "     5 + 6 + 7 + 8)"
   ]
  },
  {
   "cell_type": "code",
   "execution_count": null,
   "metadata": {
    "nbpresent": {
     "id": "c8699867-289c-463c-b17c-975fb442c410"
    }
   },
   "outputs": [],
   "source": [
    "y"
   ]
  },
  {
   "cell_type": "markdown",
   "metadata": {
    "nbpresent": {
     "id": "fc856cec-a4f5-49c4-bb96-239bb74b7401"
    }
   },
   "source": [
    "# 3. Variables and objects"
   ]
  },
  {
   "cell_type": "markdown",
   "metadata": {
    "nbpresent": {
     "id": "0ad09dac-0345-4b21-b352-e3622b82d7b4"
    }
   },
   "source": [
    "- Python variables are pointers"
   ]
  },
  {
   "cell_type": "code",
   "execution_count": null,
   "metadata": {
    "nbpresent": {
     "id": "df659cdd-4f09-446f-8041-473203347a97"
    },
    "scrolled": true
   },
   "outputs": [],
   "source": [
    "x = 1         # x is an integer\n",
    "print('x = ', x, type(x))\n",
    "\n",
    "x = 'hello'   # now x is a string\n",
    "print('x = ', x, type(x))\n",
    "\n",
    "x = [1, 2, 3] # now x is a list\n",
    "print('x = ', x, type(x))"
   ]
  },
  {
   "cell_type": "code",
   "execution_count": null,
   "metadata": {
    "nbpresent": {
     "id": "1edec62a-b2e5-4166-b24c-5a7987a3cfc4"
    }
   },
   "outputs": [],
   "source": [
    "x = [1, 2, 3]\n",
    "y = x"
   ]
  },
  {
   "cell_type": "code",
   "execution_count": null,
   "metadata": {
    "nbpresent": {
     "id": "b86746b7-2c76-438a-b0f4-3e244fac08b6"
    },
    "scrolled": true
   },
   "outputs": [],
   "source": [
    "print(y)"
   ]
  },
  {
   "cell_type": "code",
   "execution_count": null,
   "metadata": {
    "nbpresent": {
     "id": "ba402bcd-d676-412f-b706-54ce75721551"
    },
    "scrolled": true
   },
   "outputs": [],
   "source": [
    "x.append(4)\n",
    "print('x = ', x)\n",
    "print('y = ', y)"
   ]
  },
  {
   "cell_type": "code",
   "execution_count": null,
   "metadata": {
    "nbpresent": {
     "id": "8f67586b-b1d9-40fa-8cd2-8fac0674f238"
    }
   },
   "outputs": [],
   "source": [
    "x = 'something else'\n",
    "print('x = ', x)"
   ]
  },
  {
   "cell_type": "code",
   "execution_count": null,
   "metadata": {
    "nbpresent": {
     "id": "0e250ff0-07d1-47c5-9d97-9125086249e1"
    }
   },
   "outputs": [],
   "source": [
    "print('y = ', y)"
   ]
  },
  {
   "cell_type": "markdown",
   "metadata": {
    "nbpresent": {
     "id": "07699500-d57d-42e8-9c34-759eb057dba9"
    }
   },
   "source": [
    "- Everything is an object"
   ]
  },
  {
   "cell_type": "code",
   "execution_count": null,
   "metadata": {
    "nbpresent": {
     "id": "307b8900-a733-418c-9761-6d70c756c26a"
    }
   },
   "outputs": [],
   "source": [
    "a = 1.5"
   ]
  },
  {
   "cell_type": "code",
   "execution_count": null,
   "metadata": {},
   "outputs": [],
   "source": [
    "type(a)"
   ]
  },
  {
   "cell_type": "code",
   "execution_count": null,
   "metadata": {
    "nbpresent": {
     "id": "761408d1-e529-4655-92ea-7d92529e5548"
    }
   },
   "outputs": [],
   "source": [
    "a.real"
   ]
  },
  {
   "cell_type": "code",
   "execution_count": null,
   "metadata": {
    "nbpresent": {
     "id": "8b97ad57-208c-4b0b-aeec-a7b00b305e9f"
    }
   },
   "outputs": [],
   "source": [
    "a.imag"
   ]
  },
  {
   "cell_type": "code",
   "execution_count": null,
   "metadata": {
    "nbpresent": {
     "id": "5f3e807d-b2ab-4e32-986d-c8a877f259e7"
    }
   },
   "outputs": [],
   "source": [
    "a.as_integer_ratio()"
   ]
  },
  {
   "cell_type": "code",
   "execution_count": null,
   "metadata": {
    "nbpresent": {
     "id": "121e4365-f9a1-4716-8232-ee01e03e8b48"
    }
   },
   "outputs": [],
   "source": [
    "a.as_integer_ratio()[0]"
   ]
  },
  {
   "cell_type": "code",
   "execution_count": null,
   "metadata": {
    "nbpresent": {
     "id": "e40417ac-725b-413d-9252-33b59e5fde1b"
    }
   },
   "outputs": [],
   "source": [
    "a.as_integer_ratio()[1]"
   ]
  },
  {
   "cell_type": "code",
   "execution_count": null,
   "metadata": {},
   "outputs": [],
   "source": [
    "a = 1.2"
   ]
  },
  {
   "cell_type": "code",
   "execution_count": null,
   "metadata": {},
   "outputs": [],
   "source": [
    "a.as_integer_ratio()"
   ]
  },
  {
   "cell_type": "code",
   "execution_count": null,
   "metadata": {},
   "outputs": [],
   "source": [
    "#### try a = 1.2, can you explain the result?"
   ]
  },
  {
   "cell_type": "markdown",
   "metadata": {
    "nbpresent": {
     "id": "5408c944-2581-4083-91db-d443deb4eb78"
    }
   },
   "source": [
    "# 4. Operators"
   ]
  },
  {
   "cell_type": "markdown",
   "metadata": {
    "nbpresent": {
     "id": "ebf94fff-6fc4-4234-85ff-2ed9f540373a"
    }
   },
   "source": [
    "## Arithmetic Operations\n",
    "Python implements seven basic binary arithmetic operators, two of which can double as unary operators.\n",
    "They are summarized in the following table:\n",
    "\n",
    "| Operator     | Name           | Description                                            |\n",
    "|--------------|----------------|--------------------------------------------------------|\n",
    "| ``a + b``    | Addition       | Sum of ``a`` and ``b``                                 |\n",
    "| ``a - b``    | Subtraction    | Difference of ``a`` and ``b``                          |\n",
    "| ``a * b``    | Multiplication | Product of ``a`` and ``b``                             |\n",
    "| ``a / b``    | True division  | Quotient of ``a`` and ``b``                            |\n",
    "| ``a // b``   | Floor division | Quotient of ``a`` and ``b``, removing fractional parts |\n",
    "| ``a % b``    | Modulus        | Integer remainder after division of ``a`` by ``b``     |\n",
    "| ``a ** b``   | Exponentiation | ``a`` raised to the power of ``b``                     |\n",
    "| ``-a``       | Negation       | The negative of ``a``                                  |\n",
    "| ``+a``       | Unary plus     | ``a`` unchanged (rarely used)                          |\n",
    "\n",
    "These operators can be used and combined in intuitive ways, using standard parentheses to group operations.\n",
    "For example:"
   ]
  },
  {
   "cell_type": "code",
   "execution_count": null,
   "metadata": {},
   "outputs": [],
   "source": [
    "# addition, subtraction, multiplication\n",
    "(4 + 8) * (6.5 - 3)"
   ]
  },
  {
   "cell_type": "code",
   "execution_count": null,
   "metadata": {},
   "outputs": [],
   "source": [
    "# True division\n",
    "print(11 / 2)"
   ]
  },
  {
   "cell_type": "code",
   "execution_count": null,
   "metadata": {
    "nbpresent": {
     "id": "10622ff0-93d6-4f8d-a62e-862b8510a2c6"
    }
   },
   "outputs": [],
   "source": [
    "# Floor division\n",
    "print(11 // 2)"
   ]
  },
  {
   "cell_type": "code",
   "execution_count": null,
   "metadata": {},
   "outputs": [],
   "source": [
    "# Modulus\n",
    "print(11 % 2)"
   ]
  },
  {
   "cell_type": "markdown",
   "metadata": {
    "nbpresent": {
     "id": "7a166c7d-264f-479e-b6a8-41485ffe86a7"
    }
   },
   "source": [
    "## Bitwise Operations\n",
    "In addition to the standard numerical operations, Python includes operators to perform bitwise logical operations on integers.\n",
    "These are much less commonly used than the standard arithmetic operations, but it's useful to know that they exist.\n",
    "The six bitwise operators are summarized in the following table:\n",
    "\n",
    "| Operator     | Name            | Description                                 |\n",
    "|--------------|-----------------|---------------------------------------------|\n",
    "| ``a & b``    | Bitwise AND     | Bits defined in both ``a`` and ``b``        |\n",
    "| <code>a &#124; b</code>| Bitwise OR      | Bits defined in ``a`` or ``b`` or both      |\n",
    "| ``a ^ b``    | Bitwise XOR     | Bits defined in ``a`` or ``b`` but not both |\n",
    "| ``a << b``   | Bit shift left  | Shift bits of ``a`` left by ``b`` units     |\n",
    "| ``a >> b``   | Bit shift right | Shift bits of ``a`` right by ``b`` units    |\n",
    "| ``~a``       | Bitwise NOT     | Bitwise negation of ``a``                          |\n",
    "\n",
    "These bitwise operators only make sense in terms of the binary representation of numbers, which you can see using the built-in ``bin`` function:"
   ]
  },
  {
   "cell_type": "code",
   "execution_count": null,
   "metadata": {
    "nbpresent": {
     "id": "86103bf5-0442-41e6-a77b-e5f67f8b52ea"
    }
   },
   "outputs": [],
   "source": [
    "bin(10)"
   ]
  },
  {
   "cell_type": "code",
   "execution_count": null,
   "metadata": {},
   "outputs": [],
   "source": [
    "bin(4)"
   ]
  },
  {
   "cell_type": "code",
   "execution_count": null,
   "metadata": {},
   "outputs": [],
   "source": [
    "4 | 10"
   ]
  },
  {
   "cell_type": "code",
   "execution_count": null,
   "metadata": {},
   "outputs": [],
   "source": [
    "bin(4 | 10)"
   ]
  },
  {
   "cell_type": "markdown",
   "metadata": {
    "nbpresent": {
     "id": "b3872a02-8651-42db-8df3-ad64214b31d9"
    }
   },
   "source": [
    "## Assignment Operations\n",
    "There is an augmented assignment operator corresponding to each of the binary operators listed earlier; in brief, they are:\n",
    "\n",
    "|||||\n",
    "|-|-|\n",
    "|``a += b``| ``a -= b``|``a *= b``| ``a /= b``|\n",
    "|``a //= b``| ``a %= b``|``a **= b``|``a &= b``|\n",
    "|<code>a &#124;= b</code>| ``a ^= b``|``a <<= b``| ``a >>= b``|\n",
    "\n",
    "Each one is equivalent to the corresponding operation followed by assignment: that is, for any operator \"``■``\", the expression ``a ■= b`` is equivalent to ``a = a ■ b``, with a slight catch.\n",
    "For mutable objects like lists, arrays, or DataFrames, these augmented assignment operations are actually subtly different than their more verbose counterparts: they modify the contents of the original object rather than creating a new object to store the result."
   ]
  },
  {
   "cell_type": "code",
   "execution_count": null,
   "metadata": {
    "nbpresent": {
     "id": "92c27ea2-9cfb-445d-9e9a-1fcf424d590d"
    }
   },
   "outputs": [],
   "source": [
    "a = 2\n",
    "b = 3\n",
    "print(a, b)"
   ]
  },
  {
   "cell_type": "code",
   "execution_count": null,
   "metadata": {},
   "outputs": [],
   "source": [
    "a **= b"
   ]
  },
  {
   "cell_type": "code",
   "execution_count": null,
   "metadata": {},
   "outputs": [],
   "source": [
    "a"
   ]
  },
  {
   "cell_type": "markdown",
   "metadata": {
    "nbpresent": {
     "id": "fea885d3-fd3e-41e8-9f14-5135f9f88423"
    }
   },
   "source": [
    "## Comparison Operations\n",
    "\n",
    "Another type of operation which can be very useful is comparison of different values.\n",
    "For this, Python implements standard comparison operators, which return Boolean values ``True`` and ``False``.\n",
    "The comparison operations are listed in the following table:\n",
    "\n",
    "| Operation     | Description                       || Operation     | Description                          |\n",
    "|---------------|-----------------------------------||---------------|--------------------------------------|\n",
    "| ``a == b``    | ``a`` equal to ``b``              || ``a != b``    | ``a`` not equal to ``b``             |\n",
    "| ``a < b``     | ``a`` less than ``b``             || ``a > b``     | ``a`` greater than ``b``             |\n",
    "| ``a <= b``    | ``a`` less than or equal to ``b`` || ``a >= b``    | ``a`` greater than or equal to ``b`` |\n",
    "\n",
    "These comparison operators can be combined with the arithmetic and bitwise operators to express a virtually limitless range of tests for the numbers.\n",
    "For example, we can check if a number is odd by checking that the modulus with 2 returns 1:"
   ]
  },
  {
   "cell_type": "code",
   "execution_count": null,
   "metadata": {
    "nbpresent": {
     "id": "55033908-dbf9-4ad3-a414-767073069f0e"
    }
   },
   "outputs": [],
   "source": [
    "# 25 is odd\n",
    "25 % 2 == 1"
   ]
  },
  {
   "cell_type": "code",
   "execution_count": null,
   "metadata": {},
   "outputs": [],
   "source": [
    "# 66 is odd\n",
    "66 % 2 == 1"
   ]
  },
  {
   "cell_type": "code",
   "execution_count": null,
   "metadata": {},
   "outputs": [],
   "source": [
    "# check if a is between 15 and 30\n",
    "a = 25\n",
    "15 < a < 30"
   ]
  },
  {
   "cell_type": "code",
   "execution_count": null,
   "metadata": {},
   "outputs": [],
   "source": [
    "-1 == ~0"
   ]
  },
  {
   "cell_type": "markdown",
   "metadata": {
    "nbpresent": {
     "id": "5eac69b5-a6e9-48e9-ada7-fd88047dd4c3"
    }
   },
   "source": [
    "## Boolean Operations\n",
    "When working with Boolean values, Python provides operators to combine the values using the standard concepts of \"and\", \"or\", and \"not\".\n",
    "Predictably, these operators are expressed using the words ``and``, ``or``, and ``not``:"
   ]
  },
  {
   "cell_type": "code",
   "execution_count": null,
   "metadata": {
    "nbpresent": {
     "id": "840a8b0c-6728-4fff-ae2a-bc0a03e0b6dd"
    }
   },
   "outputs": [],
   "source": [
    "x = 4\n",
    "(x < 6) and (x > 2)"
   ]
  },
  {
   "cell_type": "code",
   "execution_count": null,
   "metadata": {},
   "outputs": [],
   "source": [
    "(x > 10) or (x % 2 == 0)"
   ]
  },
  {
   "cell_type": "code",
   "execution_count": null,
   "metadata": {},
   "outputs": [],
   "source": [
    "not (x < 6)"
   ]
  },
  {
   "cell_type": "code",
   "execution_count": null,
   "metadata": {},
   "outputs": [],
   "source": [
    "# (x > 1) xor (x < 10)\n",
    "(x > 1) != (x < 10)"
   ]
  },
  {
   "cell_type": "markdown",
   "metadata": {
    "nbpresent": {
     "id": "b83b8679-2b5e-42c9-80ba-357f498069c7"
    }
   },
   "source": [
    "## Identity and Membership Operators\n",
    "\n",
    "Like ``and``, ``or``, and ``not``, Python also contains prose-like operators  to check for identity and membership.\n",
    "They are the following:\n",
    "\n",
    "| Operator      | Description                                       |\n",
    "|---------------|---------------------------------------------------|\n",
    "| ``a is b``    | True if ``a`` and ``b`` are identical objects     |\n",
    "| ``a is not b``| True if ``a`` and ``b`` are not identical objects |\n",
    "| ``a in b``    | True if ``a`` is a member of ``b``                |\n",
    "| ``a not in b``| True if ``a`` is not a member of ``b``            |"
   ]
  },
  {
   "cell_type": "markdown",
   "metadata": {
    "nbpresent": {
     "id": "8a622e0b-cffe-40c9-910a-51df9139e59e"
    }
   },
   "source": [
    "### Identity Operators: \"``is``\" and \"``is not``\"\n",
    "\n",
    "The identity operators, \"``is``\" and \"``is not``\" check for *object identity*.\n",
    "Object identity is different than equality, as we can see here:"
   ]
  },
  {
   "cell_type": "code",
   "execution_count": null,
   "metadata": {
    "nbpresent": {
     "id": "c3ca0c91-cf33-44ef-94dc-8ed3170cfc19"
    }
   },
   "outputs": [],
   "source": [
    "a = [1, 2, 3]\n",
    "b = [1, 2, 3]"
   ]
  },
  {
   "cell_type": "code",
   "execution_count": null,
   "metadata": {},
   "outputs": [],
   "source": [
    "a == b"
   ]
  },
  {
   "cell_type": "code",
   "execution_count": null,
   "metadata": {},
   "outputs": [],
   "source": [
    "a is b"
   ]
  },
  {
   "cell_type": "code",
   "execution_count": null,
   "metadata": {},
   "outputs": [],
   "source": [
    "a is not b"
   ]
  },
  {
   "cell_type": "code",
   "execution_count": null,
   "metadata": {},
   "outputs": [],
   "source": [
    "a = [1, 2, 3]\n",
    "b = a\n",
    "a is b"
   ]
  },
  {
   "cell_type": "markdown",
   "metadata": {
    "nbpresent": {
     "id": "4fb30f16-4df3-4df0-aafd-59bd1db3bfec"
    }
   },
   "source": [
    "### Membership operators\n",
    "Membership operators check for membership within compound objects.\n",
    "So, for example, we can write:"
   ]
  },
  {
   "cell_type": "code",
   "execution_count": null,
   "metadata": {
    "nbpresent": {
     "id": "4e0c6a9b-ccdc-40f7-b550-153f97a8fe44"
    }
   },
   "outputs": [],
   "source": [
    "1 in [1, 2, 3]"
   ]
  },
  {
   "cell_type": "code",
   "execution_count": null,
   "metadata": {},
   "outputs": [],
   "source": [
    "2 not in [1, 2, 3]"
   ]
  },
  {
   "cell_type": "markdown",
   "metadata": {
    "nbpresent": {
     "id": "c2bb41cc-8392-4368-be2d-de6ddfd2b2e5"
    }
   },
   "source": [
    "# 5. Built-in types"
   ]
  },
  {
   "cell_type": "markdown",
   "metadata": {
    "nbpresent": {
     "id": "6e851657-0b46-4834-b091-1e7d8b7abec9"
    }
   },
   "source": [
    "When discussing Python variables and objects, we mentioned the fact that all Python objects have type information attached. Here we'll briefly walk through the built-in simple types offered by Python.\n",
    "We say \"simple types\" to contrast with several compound types, which will be discussed in the following section.\n",
    "\n",
    "Python's simple types are summarized in the following table:\n",
    "\n",
    "<center>**Python Scalar Types**</center>\n",
    "\n",
    "| Type        | Example        | Description                                                  |\n",
    "|-------------|----------------|--------------------------------------------------------------|\n",
    "| ``int``     | ``x = 1``      | integers (i.e., whole numbers)                               |\n",
    "| ``float``   | ``x = 1.0``    | floating-point numbers (i.e., real numbers)                  |\n",
    "| ``complex`` | ``x = 1 + 2j`` | Complex numbers (i.e., numbers with real and imaginary part) |\n",
    "| ``bool``    | ``x = True``   | Boolean: True/False values                                   |\n",
    "| ``str``     | ``x = 'abc'``  | String: characters or text                                   |\n",
    "| ``NoneType``| ``x = None``   | Special object indicating nulls                              |\n",
    "\n",
    "We'll take a quick look at each of these in turn."
   ]
  },
  {
   "cell_type": "markdown",
   "metadata": {
    "nbpresent": {
     "id": "b1cb48e2-17bb-4beb-9637-95f4e876ef07"
    }
   },
   "source": [
    "- integers"
   ]
  },
  {
   "cell_type": "code",
   "execution_count": null,
   "metadata": {
    "nbpresent": {
     "id": "71d15ed1-649b-4241-bf03-cadb45c5e1fe"
    }
   },
   "outputs": [],
   "source": [
    "x = 1\n",
    "type(x)"
   ]
  },
  {
   "cell_type": "code",
   "execution_count": null,
   "metadata": {},
   "outputs": [],
   "source": [
    " 2 ** 200"
   ]
  },
  {
   "cell_type": "code",
   "execution_count": null,
   "metadata": {},
   "outputs": [],
   "source": [
    "5 / 2"
   ]
  },
  {
   "cell_type": "code",
   "execution_count": null,
   "metadata": {},
   "outputs": [],
   "source": [
    "2 *** 3 "
   ]
  },
  {
   "cell_type": "markdown",
   "metadata": {
    "nbpresent": {
     "id": "6cdde6b6-8ddb-4a1e-b9ac-06c635055a4b"
    }
   },
   "source": [
    "- floating-point number"
   ]
  },
  {
   "cell_type": "code",
   "execution_count": null,
   "metadata": {
    "nbpresent": {
     "id": "8f7725f4-9c43-40af-8a30-822525c4b54b"
    }
   },
   "outputs": [],
   "source": [
    "x = 0.000005\n",
    "y = 5e-6\n",
    "print(x == y)"
   ]
  },
  {
   "cell_type": "code",
   "execution_count": null,
   "metadata": {},
   "outputs": [],
   "source": [
    "x = 1400000.00\n",
    "y = 1.4e6\n",
    "print(x == y)"
   ]
  },
  {
   "cell_type": "code",
   "execution_count": null,
   "metadata": {},
   "outputs": [],
   "source": [
    "float(1)"
   ]
  },
  {
   "cell_type": "code",
   "execution_count": null,
   "metadata": {},
   "outputs": [],
   "source": [
    "140 == 140.0"
   ]
  },
  {
   "cell_type": "code",
   "execution_count": null,
   "metadata": {},
   "outputs": [],
   "source": [
    "type(1.4e6)"
   ]
  },
  {
   "cell_type": "markdown",
   "metadata": {
    "nbpresent": {
     "id": "fd43f27e-7785-4c3c-8873-cb774f83b286"
    }
   },
   "source": [
    "- complex numbers"
   ]
  },
  {
   "cell_type": "code",
   "execution_count": null,
   "metadata": {
    "nbpresent": {
     "id": "0fcb9112-b896-42af-b785-3ee5d3522a21"
    }
   },
   "outputs": [],
   "source": [
    "complex(1,2)"
   ]
  },
  {
   "cell_type": "code",
   "execution_count": null,
   "metadata": {},
   "outputs": [],
   "source": [
    "1 + 2j"
   ]
  },
  {
   "cell_type": "code",
   "execution_count": null,
   "metadata": {},
   "outputs": [],
   "source": [
    "c = 3 + 4j"
   ]
  },
  {
   "cell_type": "code",
   "execution_count": null,
   "metadata": {},
   "outputs": [],
   "source": [
    "c.real"
   ]
  },
  {
   "cell_type": "code",
   "execution_count": null,
   "metadata": {},
   "outputs": [],
   "source": [
    "c.imag"
   ]
  },
  {
   "cell_type": "code",
   "execution_count": null,
   "metadata": {},
   "outputs": [],
   "source": [
    "c.conjugate()"
   ]
  },
  {
   "cell_type": "code",
   "execution_count": null,
   "metadata": {},
   "outputs": [],
   "source": [
    "abs(c)"
   ]
  },
  {
   "cell_type": "markdown",
   "metadata": {
    "nbpresent": {
     "id": "3e58f544-4db9-49f4-92df-d49c970e0b1d"
    }
   },
   "source": [
    "- boolean type"
   ]
  },
  {
   "cell_type": "code",
   "execution_count": null,
   "metadata": {
    "nbpresent": {
     "id": "c34d7860-0b23-42a3-82d8-514d66439d6e"
    }
   },
   "outputs": [],
   "source": [
    "result  = (4 < 5)\n",
    "result"
   ]
  },
  {
   "cell_type": "code",
   "execution_count": null,
   "metadata": {},
   "outputs": [],
   "source": [
    "type(result)"
   ]
  },
  {
   "cell_type": "code",
   "execution_count": null,
   "metadata": {},
   "outputs": [],
   "source": [
    "bool(0)"
   ]
  },
  {
   "cell_type": "code",
   "execution_count": null,
   "metadata": {},
   "outputs": [],
   "source": [
    "bool('almost anything else')"
   ]
  },
  {
   "cell_type": "code",
   "execution_count": null,
   "metadata": {},
   "outputs": [],
   "source": [
    "bool(None)"
   ]
  },
  {
   "cell_type": "code",
   "execution_count": null,
   "metadata": {},
   "outputs": [],
   "source": [
    "bool(5)"
   ]
  },
  {
   "cell_type": "markdown",
   "metadata": {
    "nbpresent": {
     "id": "6187c8b2-c470-459a-a90c-ac84685010e9"
    }
   },
   "source": [
    "- string type"
   ]
  },
  {
   "cell_type": "code",
   "execution_count": null,
   "metadata": {
    "nbpresent": {
     "id": "b04abfa2-4633-405a-a269-c635b18ee261"
    }
   },
   "outputs": [],
   "source": [
    "message = 'this is a string'"
   ]
  },
  {
   "cell_type": "code",
   "execution_count": null,
   "metadata": {},
   "outputs": [],
   "source": [
    "type(message)"
   ]
  },
  {
   "cell_type": "code",
   "execution_count": null,
   "metadata": {},
   "outputs": [],
   "source": [
    "message.capitalize()"
   ]
  },
  {
   "cell_type": "code",
   "execution_count": null,
   "metadata": {},
   "outputs": [],
   "source": [
    "message.count('is')"
   ]
  },
  {
   "cell_type": "code",
   "execution_count": null,
   "metadata": {},
   "outputs": [],
   "source": [
    "words = ['list', 'of', 'separate', 'words']"
   ]
  },
  {
   "cell_type": "code",
   "execution_count": null,
   "metadata": {},
   "outputs": [],
   "source": [
    "' '.join(words)"
   ]
  },
  {
   "cell_type": "code",
   "execution_count": null,
   "metadata": {},
   "outputs": [],
   "source": [
    "5 * 'swa'"
   ]
  },
  {
   "cell_type": "code",
   "execution_count": null,
   "metadata": {},
   "outputs": [],
   "source": [
    "'word' + 5 * 'swa'"
   ]
  },
  {
   "cell_type": "code",
   "execution_count": null,
   "metadata": {},
   "outputs": [],
   "source": [
    "message[:4]"
   ]
  },
  {
   "cell_type": "markdown",
   "metadata": {
    "nbpresent": {
     "id": "0207fd58-ace3-427d-812e-3c5a619db856"
    }
   },
   "source": [
    "- None type"
   ]
  },
  {
   "cell_type": "code",
   "execution_count": null,
   "metadata": {
    "nbpresent": {
     "id": "7ca24526-1019-41cc-ba3b-a8aebde2a846"
    }
   },
   "outputs": [],
   "source": [
    "type(None)"
   ]
  },
  {
   "cell_type": "code",
   "execution_count": null,
   "metadata": {},
   "outputs": [],
   "source": [
    "return_value = print('abc')"
   ]
  },
  {
   "cell_type": "code",
   "execution_count": null,
   "metadata": {},
   "outputs": [],
   "source": [
    "print(return_value)"
   ]
  },
  {
   "cell_type": "markdown",
   "metadata": {
    "nbpresent": {
     "id": "8b63c089-d913-4ba4-8e23-a9d0ca546edf"
    }
   },
   "source": [
    "# 5. Built-in data structures"
   ]
  },
  {
   "cell_type": "markdown",
   "metadata": {},
   "source": [
    "We have seen Python's simple types: ``int``, ``float``, ``complex``, ``bool``, ``str``, and so on.\n",
    "Python also has several built-in compound types, which act as containers for other types.\n",
    "These compound types are:\n",
    "\n",
    "| Type Name | Example                   |Description                            |\n",
    "|-----------|---------------------------|---------------------------------------|\n",
    "| ``list``  | ``[1, 2, 3]``             | Ordered collection                    |\n",
    "| ``tuple`` | ``(1, 2, 3)``             | Immutable ordered collection          |\n",
    "| ``dict``  | ``{'a':1, 'b':2, 'c':3}`` | Unordered (key,value) mapping         |\n",
    "| ``set``   | ``{1, 2, 3}``             | Unordered collection of unique values |\n",
    "\n",
    "As you can see, round, square, and curly brackets have distinct meanings when it comes to the type of collection produced.\n",
    "We'll take a quick tour of these data structures here."
   ]
  },
  {
   "cell_type": "markdown",
   "metadata": {
    "nbpresent": {
     "id": "570fb9d7-aed6-4ed6-b092-df3a46d85fad"
    }
   },
   "source": [
    "- Lists"
   ]
  },
  {
   "cell_type": "code",
   "execution_count": null,
   "metadata": {
    "nbpresent": {
     "id": "2ffeb610-075a-4254-9798-465b1a1ee07b"
    }
   },
   "outputs": [],
   "source": [
    "L = [2, 3, 5, 7]"
   ]
  },
  {
   "cell_type": "code",
   "execution_count": null,
   "metadata": {},
   "outputs": [],
   "source": [
    "\n",
    "L"
   ]
  },
  {
   "cell_type": "code",
   "execution_count": null,
   "metadata": {},
   "outputs": [],
   "source": [
    "L = list(range(10))"
   ]
  },
  {
   "cell_type": "code",
   "execution_count": null,
   "metadata": {},
   "outputs": [],
   "source": [
    "L"
   ]
  },
  {
   "cell_type": "code",
   "execution_count": null,
   "metadata": {},
   "outputs": [],
   "source": [
    "# Length of a list\n",
    "len(L)"
   ]
  },
  {
   "cell_type": "code",
   "execution_count": null,
   "metadata": {},
   "outputs": [],
   "source": [
    "# Addition concatenates lists\n",
    "L + [13, 17, 19]"
   ]
  },
  {
   "cell_type": "code",
   "execution_count": null,
   "metadata": {},
   "outputs": [],
   "source": [
    "# sort() method sorts in-place\n",
    "L = [2, 5, 1, 6, 3, 4]\n",
    "L.sort()\n",
    "L"
   ]
  },
  {
   "cell_type": "code",
   "execution_count": null,
   "metadata": {},
   "outputs": [],
   "source": [
    "L = [1, 'two', 3.14, [0, 3, 5]]"
   ]
  },
  {
   "cell_type": "code",
   "execution_count": null,
   "metadata": {},
   "outputs": [],
   "source": [
    "L.sort()"
   ]
  },
  {
   "cell_type": "markdown",
   "metadata": {},
   "source": [
    "<b>Indexing:</b>"
   ]
  },
  {
   "cell_type": "code",
   "execution_count": null,
   "metadata": {},
   "outputs": [],
   "source": [
    "L = list(range(10))\n",
    "L"
   ]
  },
  {
   "cell_type": "code",
   "execution_count": null,
   "metadata": {},
   "outputs": [],
   "source": [
    "L[0]"
   ]
  },
  {
   "cell_type": "code",
   "execution_count": null,
   "metadata": {},
   "outputs": [],
   "source": [
    "L[-1]"
   ]
  },
  {
   "cell_type": "markdown",
   "metadata": {},
   "source": [
    "<b>Slicing:</b>"
   ]
  },
  {
   "cell_type": "code",
   "execution_count": null,
   "metadata": {},
   "outputs": [],
   "source": [
    "L[0:3]"
   ]
  },
  {
   "cell_type": "code",
   "execution_count": null,
   "metadata": {},
   "outputs": [],
   "source": [
    "L[:3]"
   ]
  },
  {
   "cell_type": "code",
   "execution_count": null,
   "metadata": {},
   "outputs": [],
   "source": [
    "L[-3:]"
   ]
  },
  {
   "cell_type": "code",
   "execution_count": null,
   "metadata": {},
   "outputs": [],
   "source": [
    "L[2:9:3]"
   ]
  },
  {
   "cell_type": "code",
   "execution_count": null,
   "metadata": {
    "scrolled": true
   },
   "outputs": [],
   "source": [
    "L[::2]  # equivalent to L[0:len(L):2]"
   ]
  },
  {
   "cell_type": "code",
   "execution_count": null,
   "metadata": {},
   "outputs": [],
   "source": [
    "L[::-1]"
   ]
  },
  {
   "cell_type": "markdown",
   "metadata": {},
   "source": [
    "<b>Combined indexing and slicing:</b>"
   ]
  },
  {
   "cell_type": "code",
   "execution_count": null,
   "metadata": {},
   "outputs": [],
   "source": [
    "L[0] = 100\n",
    "print(L)"
   ]
  },
  {
   "cell_type": "code",
   "execution_count": null,
   "metadata": {},
   "outputs": [],
   "source": [
    "L[1:3] = [55, 56]\n",
    "print(L)"
   ]
  },
  {
   "cell_type": "markdown",
   "metadata": {
    "nbpresent": {
     "id": "4b267af7-264f-409d-96ea-bc01925dd93a"
    }
   },
   "source": [
    "- Tuples"
   ]
  },
  {
   "cell_type": "code",
   "execution_count": null,
   "metadata": {
    "nbpresent": {
     "id": "54f70dc6-16f8-4376-a57e-ff0905275d43"
    }
   },
   "outputs": [],
   "source": [
    "t = (1, 2, 3)\n",
    "t"
   ]
  },
  {
   "cell_type": "code",
   "execution_count": null,
   "metadata": {},
   "outputs": [],
   "source": [
    "t = 1, 2, 3\n",
    "t"
   ]
  },
  {
   "cell_type": "code",
   "execution_count": null,
   "metadata": {},
   "outputs": [],
   "source": [
    "len(t)"
   ]
  },
  {
   "cell_type": "code",
   "execution_count": null,
   "metadata": {},
   "outputs": [],
   "source": [
    "t[0]"
   ]
  },
  {
   "cell_type": "code",
   "execution_count": null,
   "metadata": {},
   "outputs": [],
   "source": [
    "t[1] = 4"
   ]
  },
  {
   "cell_type": "code",
   "execution_count": null,
   "metadata": {},
   "outputs": [],
   "source": [
    "t.append(4)"
   ]
  },
  {
   "cell_type": "code",
   "execution_count": null,
   "metadata": {},
   "outputs": [],
   "source": [
    "t = (1, 1, 2, 2,4)\n",
    "# t.count(2)\n",
    "t.index(2)"
   ]
  },
  {
   "cell_type": "code",
   "execution_count": null,
   "metadata": {},
   "outputs": [],
   "source": [
    "x = 0.12\n",
    "x.as_integer_ratio()"
   ]
  },
  {
   "cell_type": "code",
   "execution_count": null,
   "metadata": {},
   "outputs": [],
   "source": [
    "numerator, denominator = x.as_integer_ratio()\n",
    "print(numerator / denominator)"
   ]
  },
  {
   "cell_type": "markdown",
   "metadata": {
    "nbpresent": {
     "id": "b484ab67-cbbc-4672-be0e-8784cd2718e8"
    }
   },
   "source": [
    "- Dictionaries"
   ]
  },
  {
   "cell_type": "code",
   "execution_count": null,
   "metadata": {
    "nbpresent": {
     "id": "c54aa88e-e1c7-4633-9c63-e7666c200035"
    }
   },
   "outputs": [],
   "source": [
    "numbers = {'one':1, 'two':2, 'three':3}\n",
    "numbers"
   ]
  },
  {
   "cell_type": "code",
   "execution_count": null,
   "metadata": {},
   "outputs": [],
   "source": [
    "# Access a value via the key\n",
    "numbers['two']"
   ]
  },
  {
   "cell_type": "code",
   "execution_count": null,
   "metadata": {},
   "outputs": [],
   "source": [
    "# Set a new key:value pair\n",
    "numbers['ninety'] = 'bla'\n",
    "print(numbers)"
   ]
  },
  {
   "cell_type": "code",
   "execution_count": null,
   "metadata": {},
   "outputs": [],
   "source": []
  },
  {
   "cell_type": "markdown",
   "metadata": {
    "nbpresent": {
     "id": "2674e0c5-6dca-4c9f-b984-fe8a981031ad"
    }
   },
   "source": [
    "- Sets"
   ]
  },
  {
   "cell_type": "code",
   "execution_count": null,
   "metadata": {
    "nbpresent": {
     "id": "f5ac7bc4-e8d4-489d-9f2b-49cdb91df355"
    }
   },
   "outputs": [],
   "source": [
    "primes = {2, 3, 5, 7}\n",
    "odds = {1, 3, 5, 7, 9}"
   ]
  },
  {
   "cell_type": "code",
   "execution_count": null,
   "metadata": {},
   "outputs": [],
   "source": [
    "# union: items appearing in either\n",
    "primes | odds      # with an operator\n",
    "primes.union(odds) # equivalently with a method"
   ]
  },
  {
   "cell_type": "code",
   "execution_count": null,
   "metadata": {},
   "outputs": [],
   "source": [
    "# intersection: items appearing in both\n",
    "primes & odds             # with an operator\n",
    "primes.intersection(odds) # equivalently with a method"
   ]
  },
  {
   "cell_type": "code",
   "execution_count": null,
   "metadata": {},
   "outputs": [],
   "source": [
    "# difference: items in primes but not in odds\n",
    "primes - odds           # with an operator\n",
    "primes.difference(odds) # equivalently with a method"
   ]
  },
  {
   "cell_type": "code",
   "execution_count": null,
   "metadata": {},
   "outputs": [],
   "source": [
    "# symmetric difference: items appearing in only one set\n",
    "primes ^ odds                     # with an operator\n",
    "primes.symmetric_difference(odds) # equivalently with a method"
   ]
  },
  {
   "cell_type": "markdown",
   "metadata": {
    "nbpresent": {
     "id": "3440411b-0cd7-464e-9109-939c95b915d6"
    }
   },
   "source": [
    "- Collections (namedtuple, defaultdict, OrderedDict):\n",
    "\n",
    "\n",
    "``collections.namedtuple``: Like a tuple, but each value has a name\n",
    "\n",
    "``collections.defaultdict``: Like a dictionary, but unspecified keys have a user-specified default value\n",
    "\n",
    "``collections.OrderedDict``: Like a dictionary, but the order of keys is maintained"
   ]
  },
  {
   "cell_type": "markdown",
   "metadata": {
    "nbpresent": {
     "id": "f48665c3-ac23-4996-ad0a-8fcbba9c12f0"
    }
   },
   "source": [
    "# 6. Control flow"
   ]
  },
  {
   "cell_type": "markdown",
   "metadata": {
    "nbpresent": {
     "id": "f8439204-e435-487b-b91c-3d3016cb5f45"
    }
   },
   "source": [
    "- Conditional Statements: ``if``-``elif``-``else``:"
   ]
  },
  {
   "cell_type": "code",
   "execution_count": null,
   "metadata": {
    "nbpresent": {
     "id": "9116bf47-dd42-4646-8d4e-7cf3c04c8cfa"
    }
   },
   "outputs": [],
   "source": [
    "x = -15\n",
    "\n",
    "if x == 0:\n",
    "    print(x, \"is zero\")\n",
    "elif x > 0:\n",
    "    print(x, \"is positive\")\n",
    "elif x < 0:\n",
    "    print(x, \"is negative\")\n",
    "else:\n",
    "    print(x, \"is unlike anything I've ever seen...\")\n",
    "    \n",
    "if x == -15:\n",
    "    print('hurray')\n",
    "        "
   ]
  },
  {
   "cell_type": "markdown",
   "metadata": {
    "nbpresent": {
     "id": "7d5fc738-da5d-4299-927c-bf49a8b363ed"
    }
   },
   "source": [
    "- `for`  loops:"
   ]
  },
  {
   "cell_type": "code",
   "execution_count": null,
   "metadata": {
    "nbpresent": {
     "id": "5424fc25-2ffa-416a-aafd-748b054ae5cd"
    }
   },
   "outputs": [],
   "source": [
    "for N in [2, 3, 5, 7]:\n",
    "    print(N, end=' ') # print all on same line"
   ]
  },
  {
   "cell_type": "code",
   "execution_count": null,
   "metadata": {},
   "outputs": [],
   "source": [
    "for i in range(10):\n",
    "    print(i, end=' ')"
   ]
  },
  {
   "cell_type": "markdown",
   "metadata": {
    "nbpresent": {
     "id": "4bb475a4-0ef8-449b-99f9-61a3c4b348dd"
    }
   },
   "source": [
    "- `while` loops:"
   ]
  },
  {
   "cell_type": "code",
   "execution_count": null,
   "metadata": {
    "nbpresent": {
     "id": "18460c50-cec4-43b2-87e4-211266f0446a"
    }
   },
   "outputs": [],
   "source": [
    "i = 0\n",
    "while i < 10:\n",
    "    print(i, end=' ')\n",
    "    i += 1"
   ]
  },
  {
   "cell_type": "markdown",
   "metadata": {
    "nbpresent": {
     "id": "1dfad069-81d6-4e81-9bc8-1724b8c66e07"
    }
   },
   "source": [
    "- `break` and `continue`:\n",
    "\n",
    "There are two useful statements that can be used within loops to fine-tune how they are executed:\n",
    "\n",
    "- The ``break`` statement breaks-out of the loop entirely\n",
    "- The ``continue`` statement skips the remainder of the current loop, and goes to the next iteration"
   ]
  },
  {
   "cell_type": "code",
   "execution_count": null,
   "metadata": {
    "nbpresent": {
     "id": "b07b7a7b-1e86-4741-a4e2-753319a5de57"
    }
   },
   "outputs": [],
   "source": [
    "for n in range(20):\n",
    "    # if the remainder of n / 2 is 0, skip the rest of the loop\n",
    "    if n % 2 == 0:\n",
    "        continue\n",
    "    print(n, end=' ')"
   ]
  },
  {
   "cell_type": "code",
   "execution_count": null,
   "metadata": {},
   "outputs": [],
   "source": [
    "a, b = 0, 1\n",
    "amax = 100\n",
    "L = []\n",
    "\n",
    "while True:\n",
    "    (a, b) = (b, a + b)\n",
    "    if a > amax:\n",
    "        break\n",
    "    L.append(a)\n",
    "\n",
    "print(L)"
   ]
  },
  {
   "cell_type": "markdown",
   "metadata": {
    "nbpresent": {
     "id": "61f65804-406d-447b-8ea7-00f8886dc993"
    }
   },
   "source": [
    "- Special case: `for`/`while` loop for an `else` block:"
   ]
  },
  {
   "cell_type": "markdown",
   "metadata": {
    "nbpresent": {
     "id": "fa609476-1bf2-4619-a529-376ce1a56ee7"
    }
   },
   "source": [
    "One rarely used pattern available in Python is the ``else`` statement as part of a ``for`` or ``while`` loop.\n",
    "We discussed the ``else`` block earlier: it executes if all the ``if`` and ``elif`` statements evaluate to ``False``.\n",
    "The loop-``else`` is perhaps one of the more confusingly-named statements in Python; I prefer to think of it as a ``nobreak`` statement: that is, the ``else`` block is executed only if the loop ends naturally, without encountering a ``break`` statement.\n",
    "\n",
    "As an example of where this might be useful, consider the following (non-optimized) implementation of the *Sieve of Eratosthenes*, a well-known algorithm for finding prime numbers:"
   ]
  },
  {
   "cell_type": "code",
   "execution_count": null,
   "metadata": {
    "nbpresent": {
     "id": "0957501b-3358-4f01-84ba-0ec573cdb718"
    }
   },
   "outputs": [],
   "source": [
    "L = []\n",
    "nmax = 30\n",
    "\n",
    "for n in range(2, nmax):\n",
    "    for factor in L:\n",
    "        if n % factor == 0:\n",
    "            break\n",
    "    else: # no break\n",
    "        L.append(n)\n",
    "print(L)"
   ]
  },
  {
   "cell_type": "markdown",
   "metadata": {
    "nbpresent": {
     "id": "0fffe06b-10e4-41eb-8e6e-7c652f361cbf"
    }
   },
   "source": [
    "The ``else`` statement only executes if none of the factors divide the given number.\n",
    "The ``else`` statement works similarly with the ``while`` loop."
   ]
  },
  {
   "cell_type": "markdown",
   "metadata": {
    "nbpresent": {
     "id": "7e91f969-a38b-40b9-9ea6-817f5cd987f5"
    }
   },
   "source": [
    "# 7. Defining and using functions"
   ]
  },
  {
   "cell_type": "markdown",
   "metadata": {
    "nbpresent": {
     "id": "d73f9ddd-5386-4b91-8f19-a2bfb2eb95ad"
    }
   },
   "source": [
    "- Using functions"
   ]
  },
  {
   "cell_type": "code",
   "execution_count": null,
   "metadata": {
    "nbpresent": {
     "id": "ab8d0d53-889e-48c7-9b5f-24dbfeb4930b"
    }
   },
   "outputs": [],
   "source": [
    "print('abc')"
   ]
  },
  {
   "cell_type": "code",
   "execution_count": null,
   "metadata": {},
   "outputs": [],
   "source": [
    "print(1, 2, 3)"
   ]
  },
  {
   "cell_type": "code",
   "execution_count": null,
   "metadata": {},
   "outputs": [],
   "source": [
    "print(1, 2, 3, sep='--')"
   ]
  },
  {
   "cell_type": "markdown",
   "metadata": {
    "nbpresent": {
     "id": "a87ec383-1c3e-45c9-ae92-09723fd623d6"
    }
   },
   "source": [
    "- Defining functions"
   ]
  },
  {
   "cell_type": "code",
   "execution_count": null,
   "metadata": {
    "nbpresent": {
     "id": "f8c43cda-ad33-4e50-b2ee-d543355739b6"
    }
   },
   "outputs": [],
   "source": [
    "def fibonacci(N):\n",
    "    L = []\n",
    "    a, b = 0, 1\n",
    "    while len(L) < N:\n",
    "        a, b = b, a + b\n",
    "        L.append(a)\n",
    "    return L"
   ]
  },
  {
   "cell_type": "code",
   "execution_count": null,
   "metadata": {},
   "outputs": [],
   "source": [
    "fibonacci(10)"
   ]
  },
  {
   "cell_type": "code",
   "execution_count": null,
   "metadata": {},
   "outputs": [],
   "source": [
    "def real_imag_conj(val):\n",
    "    return val.real, val.imag, val.conjugate()\n",
    "\n",
    "r, i, c = real_imag_conj(3 + 4j)\n",
    "print(r, i, c)"
   ]
  },
  {
   "cell_type": "markdown",
   "metadata": {},
   "source": [
    "- Default argument values"
   ]
  },
  {
   "cell_type": "code",
   "execution_count": null,
   "metadata": {},
   "outputs": [],
   "source": [
    "L=[]\n",
    "if L:\n",
    "    print('yay')"
   ]
  },
  {
   "cell_type": "code",
   "execution_count": null,
   "metadata": {},
   "outputs": [],
   "source": [
    "def fibonacci(N, a=0, b=1):\n",
    "    L = []\n",
    "    while len(L) < N:\n",
    "        a, b = b, a + b\n",
    "        L.append(a)\n",
    "    return L"
   ]
  },
  {
   "cell_type": "code",
   "execution_count": null,
   "metadata": {},
   "outputs": [],
   "source": [
    "fibonacci(10)"
   ]
  },
  {
   "cell_type": "code",
   "execution_count": null,
   "metadata": {},
   "outputs": [],
   "source": [
    "fibonacci(10, 0, 2)"
   ]
  },
  {
   "cell_type": "code",
   "execution_count": null,
   "metadata": {},
   "outputs": [],
   "source": [
    "fibonacci(10, b=3, a=1)"
   ]
  },
  {
   "cell_type": "code",
   "execution_count": null,
   "metadata": {},
   "outputs": [],
   "source": [
    "fibonacci(N=10, 3, 1)"
   ]
  },
  {
   "cell_type": "markdown",
   "metadata": {
    "nbpresent": {
     "id": "c2487bc5-22d0-4ad2-8f75-955368cd8310"
    }
   },
   "source": [
    "- ``*args`` and ``**kwargs``: Flexible Arguments"
   ]
  },
  {
   "cell_type": "code",
   "execution_count": 4,
   "metadata": {
    "nbpresent": {
     "id": "1b638bbc-a732-4393-85cb-e633026139b6"
    }
   },
   "outputs": [],
   "source": [
    "def catch_all(*args, **kwargs):\n",
    "    print(\"args =\", args)\n",
    "    print(\"kwargs = \", kwargs)\n",
    "    Cradius = kwargs['Cradius']\n",
    "    print(Cradius)"
   ]
  },
  {
   "cell_type": "code",
   "execution_count": 5,
   "metadata": {},
   "outputs": [
    {
     "name": "stdout",
     "output_type": "stream",
     "text": [
      "args = (1, 2, 3)\n",
      "kwargs =  {'a': 4, 'b': 5, 'Cradius': 22}\n",
      "22\n"
     ]
    }
   ],
   "source": [
    "catch_all(1, 2, 3, a=4, b=5, Cradius=22)"
   ]
  },
  {
   "cell_type": "code",
   "execution_count": 6,
   "metadata": {},
   "outputs": [
    {
     "name": "stdout",
     "output_type": "stream",
     "text": [
      "args = ('a',)\n",
      "kwargs =  {'keyword': 2}\n"
     ]
    },
    {
     "ename": "KeyError",
     "evalue": "'Cradius'",
     "output_type": "error",
     "traceback": [
      "\u001b[1;31m---------------------------------------------------------------------------\u001b[0m",
      "\u001b[1;31mKeyError\u001b[0m                                  Traceback (most recent call last)",
      "\u001b[1;32m<ipython-input-6-00c1399c5b48>\u001b[0m in \u001b[0;36m<module>\u001b[1;34m()\u001b[0m\n\u001b[1;32m----> 1\u001b[1;33m \u001b[0mcatch_all\u001b[0m\u001b[1;33m(\u001b[0m\u001b[1;34m'a'\u001b[0m\u001b[1;33m,\u001b[0m \u001b[0mkeyword\u001b[0m\u001b[1;33m=\u001b[0m\u001b[1;36m2\u001b[0m\u001b[1;33m)\u001b[0m\u001b[1;33m\u001b[0m\u001b[0m\n\u001b[0m",
      "\u001b[1;32m<ipython-input-4-d2257f6bac86>\u001b[0m in \u001b[0;36mcatch_all\u001b[1;34m(*args, **kwargs)\u001b[0m\n\u001b[0;32m      2\u001b[0m     \u001b[0mprint\u001b[0m\u001b[1;33m(\u001b[0m\u001b[1;34m\"args =\"\u001b[0m\u001b[1;33m,\u001b[0m \u001b[0margs\u001b[0m\u001b[1;33m)\u001b[0m\u001b[1;33m\u001b[0m\u001b[0m\n\u001b[0;32m      3\u001b[0m     \u001b[0mprint\u001b[0m\u001b[1;33m(\u001b[0m\u001b[1;34m\"kwargs = \"\u001b[0m\u001b[1;33m,\u001b[0m \u001b[0mkwargs\u001b[0m\u001b[1;33m)\u001b[0m\u001b[1;33m\u001b[0m\u001b[0m\n\u001b[1;32m----> 4\u001b[1;33m     \u001b[0mCradius\u001b[0m \u001b[1;33m=\u001b[0m \u001b[0mkwargs\u001b[0m\u001b[1;33m[\u001b[0m\u001b[1;34m'Cradius'\u001b[0m\u001b[1;33m]\u001b[0m\u001b[1;33m\u001b[0m\u001b[0m\n\u001b[0m\u001b[0;32m      5\u001b[0m     \u001b[0mprint\u001b[0m\u001b[1;33m(\u001b[0m\u001b[0mCradius\u001b[0m\u001b[1;33m)\u001b[0m\u001b[1;33m\u001b[0m\u001b[0m\n",
      "\u001b[1;31mKeyError\u001b[0m: 'Cradius'"
     ]
    }
   ],
   "source": [
    "catch_all('a', keyword=2)"
   ]
  },
  {
   "cell_type": "code",
   "execution_count": null,
   "metadata": {},
   "outputs": [],
   "source": [
    "inputs = (1, 2, 3)\n",
    "keywords = {'pi': 3.14}\n",
    "\n",
    "catch_all(*inputs, **keywords)"
   ]
  },
  {
   "cell_type": "markdown",
   "metadata": {
    "nbpresent": {
     "id": "f0b2043e-d139-4167-8336-c3fb3794d54b"
    }
   },
   "source": [
    "- Anonymous (``lambda``) Functions"
   ]
  },
  {
   "cell_type": "code",
   "execution_count": null,
   "metadata": {
    "nbpresent": {
     "id": "0ad08e2f-a401-47ab-8a54-1866b2981b80"
    }
   },
   "outputs": [],
   "source": [
    "add = lambda x, y: x + y\n",
    "add(1, 2)"
   ]
  },
  {
   "cell_type": "code",
   "execution_count": null,
   "metadata": {},
   "outputs": [],
   "source": [
    "data = [{'first':'Guido', 'last':'Van Rossum', 'YOB':1956},\n",
    "        {'first':'Grace', 'last':'Hopper',     'YOB':1906},\n",
    "        {'first':'Alan',  'last':'Turing',     'YOB':1912}]"
   ]
  },
  {
   "cell_type": "code",
   "execution_count": null,
   "metadata": {},
   "outputs": [],
   "source": [
    "sorted([2,4,3,5,1,6])"
   ]
  },
  {
   "cell_type": "code",
   "execution_count": null,
   "metadata": {},
   "outputs": [],
   "source": [
    "# sort alphabetically by first name\n",
    "sorted(data, key=lambda item: item['YOB'])"
   ]
  },
  {
   "cell_type": "code",
   "execution_count": null,
   "metadata": {},
   "outputs": [],
   "source": [
    "# sort by year of birth\n",
    "sorted(data, key=lambda item: item['YOB'])"
   ]
  },
  {
   "cell_type": "markdown",
   "metadata": {
    "nbpresent": {
     "id": "ce2ddc36-7993-4797-bd43-0f2c8c0f5a09"
    }
   },
   "source": [
    "# 8. Iterators"
   ]
  },
  {
   "cell_type": "code",
   "execution_count": null,
   "metadata": {
    "nbpresent": {
     "id": "27828f12-9d3b-406b-82f1-b5c09a40d411"
    }
   },
   "outputs": [],
   "source": [
    "for i in range(10):\n",
    "    print(i, end=' ')"
   ]
  },
  {
   "cell_type": "markdown",
   "metadata": {
    "nbpresent": {
     "id": "48c0178e-636a-483d-8330-ab5a3f03506d"
    }
   },
   "source": [
    "- Iterating over lists"
   ]
  },
  {
   "cell_type": "code",
   "execution_count": null,
   "metadata": {
    "nbpresent": {
     "id": "9141c546-4cb4-4bd6-b87b-2b00e1e5589a"
    }
   },
   "outputs": [],
   "source": [
    "for value in [2, 4, 6, 8, 10]:\n",
    "    # do some operation\n",
    "    print(value + 1, end=' ')"
   ]
  },
  {
   "cell_type": "code",
   "execution_count": null,
   "metadata": {},
   "outputs": [],
   "source": [
    "iter([2, 4, 6, 8, 10])"
   ]
  },
  {
   "cell_type": "code",
   "execution_count": null,
   "metadata": {},
   "outputs": [],
   "source": [
    "I = iter([2, 4, 6, 8, 10])"
   ]
  },
  {
   "cell_type": "code",
   "execution_count": null,
   "metadata": {},
   "outputs": [],
   "source": [
    "print(next(I))"
   ]
  },
  {
   "cell_type": "code",
   "execution_count": null,
   "metadata": {},
   "outputs": [],
   "source": [
    "print(next(I))"
   ]
  },
  {
   "cell_type": "code",
   "execution_count": null,
   "metadata": {},
   "outputs": [],
   "source": [
    "print(next(I))"
   ]
  },
  {
   "cell_type": "markdown",
   "metadata": {
    "nbpresent": {
     "id": "0272075c-1d1d-491d-a5cf-a7cb1749634c"
    }
   },
   "source": [
    "- ``range()``: A List Is Not Always a List"
   ]
  },
  {
   "cell_type": "code",
   "execution_count": null,
   "metadata": {
    "nbpresent": {
     "id": "7ce06778-8ba9-4053-94eb-db0af5385a39"
    }
   },
   "outputs": [],
   "source": [
    "range(10)"
   ]
  },
  {
   "cell_type": "code",
   "execution_count": null,
   "metadata": {},
   "outputs": [],
   "source": [
    "iter(range(10))"
   ]
  },
  {
   "cell_type": "code",
   "execution_count": null,
   "metadata": {},
   "outputs": [],
   "source": [
    "N = 10 ** 12\n",
    "for i in range(N):\n",
    "    if i >= 10: break\n",
    "    print(i, end=', ')"
   ]
  },
  {
   "cell_type": "code",
   "execution_count": null,
   "metadata": {},
   "outputs": [],
   "source": [
    "from itertools import count\n",
    "\n",
    "for i in count():\n",
    "    if i >= 10:\n",
    "        break\n",
    "    print(i, end=', ')"
   ]
  },
  {
   "cell_type": "markdown",
   "metadata": {
    "nbpresent": {
     "id": "11423590-385c-4098-a68c-cf2e3432bdb9"
    }
   },
   "source": [
    "## Useful iterators"
   ]
  },
  {
   "cell_type": "markdown",
   "metadata": {
    "nbpresent": {
     "id": "7c1b4143-f7f4-4205-b3c1-a8f9bfc56077"
    }
   },
   "source": [
    "- enumerate"
   ]
  },
  {
   "cell_type": "code",
   "execution_count": null,
   "metadata": {
    "nbpresent": {
     "id": "298622fc-019f-450d-afac-6ecefdff15f3"
    }
   },
   "outputs": [],
   "source": [
    "L = [2, 4, 6, 8, 10]\n",
    "for i in range(len(L)):\n",
    "    print(i, L[i])"
   ]
  },
  {
   "cell_type": "code",
   "execution_count": null,
   "metadata": {},
   "outputs": [],
   "source": [
    "for i, val in enumerate(L):\n",
    "    print(i, val)"
   ]
  },
  {
   "cell_type": "markdown",
   "metadata": {
    "nbpresent": {
     "id": "80303f63-e801-42fe-8f2b-2f67afa2fce1"
    }
   },
   "source": [
    "- zip"
   ]
  },
  {
   "cell_type": "code",
   "execution_count": null,
   "metadata": {
    "nbpresent": {
     "id": "429bbb4c-9a71-4da4-b21f-9d71d95daf30"
    }
   },
   "outputs": [],
   "source": [
    "L = [2, 4, 6, 8, 10]\n",
    "R = [3, 6, 9, 12, 15]\n",
    "for rval in zip(L, R):\n",
    "    print(rval[0])"
   ]
  },
  {
   "cell_type": "markdown",
   "metadata": {
    "nbpresent": {
     "id": "561f47a7-3742-4781-baf7-96461bb0c8ef"
    }
   },
   "source": [
    "- `map` and `filter`"
   ]
  },
  {
   "cell_type": "code",
   "execution_count": null,
   "metadata": {
    "nbpresent": {
     "id": "12a6ee52-d55d-4522-a51f-26c9513ea79a"
    }
   },
   "outputs": [],
   "source": [
    "# find the first 10 square numbers\n",
    "square = lambda x: x ** 2\n",
    "for val in map(square, range(10)):\n",
    "    print(val, end=' ')"
   ]
  },
  {
   "cell_type": "code",
   "execution_count": null,
   "metadata": {},
   "outputs": [],
   "source": [
    "# find values up to 10 for which x % 2 is zero\n",
    "is_even = lambda x: x % 2 == 0\n",
    "for val in filter(is_even, range(10)):\n",
    "    print(val, end=' ')"
   ]
  },
  {
   "cell_type": "markdown",
   "metadata": {},
   "source": [
    "- Iterators as function arguments"
   ]
  },
  {
   "cell_type": "code",
   "execution_count": null,
   "metadata": {},
   "outputs": [],
   "source": [
    "print(*range(10))"
   ]
  },
  {
   "cell_type": "code",
   "execution_count": null,
   "metadata": {},
   "outputs": [],
   "source": [
    "print(*map(lambda x: x ** 2, range(10)))"
   ]
  },
  {
   "cell_type": "code",
   "execution_count": null,
   "metadata": {},
   "outputs": [],
   "source": [
    "L1 = (1, 2, 3, 4)\n",
    "L2 = ('a', 'b', 'c', 'd')"
   ]
  },
  {
   "cell_type": "code",
   "execution_count": null,
   "metadata": {},
   "outputs": [],
   "source": [
    "z = zip(L1, L2)\n",
    "print(*z)"
   ]
  },
  {
   "cell_type": "markdown",
   "metadata": {},
   "source": [
    "- Challenge:"
   ]
  },
  {
   "cell_type": "code",
   "execution_count": null,
   "metadata": {},
   "outputs": [],
   "source": [
    "z = zip(L1, L2)\n",
    "new_L1, new_L2 = zip(*z)\n",
    "print(new_L1, new_L2)"
   ]
  },
  {
   "cell_type": "markdown",
   "metadata": {
    "nbpresent": {
     "id": "41e68fd6-7822-4c46-aa17-91e00aad2e9c"
    }
   },
   "source": [
    "- Specialized Iterators: ``itertools``"
   ]
  },
  {
   "cell_type": "code",
   "execution_count": null,
   "metadata": {
    "nbpresent": {
     "id": "358b9f0e-d97d-4ba4-931f-3b604483e7d5"
    }
   },
   "outputs": [],
   "source": [
    "from itertools import permutations\n",
    "p = permutations(range(3))\n",
    "print(*p)"
   ]
  },
  {
   "cell_type": "code",
   "execution_count": null,
   "metadata": {},
   "outputs": [],
   "source": [
    "from itertools import combinations\n",
    "c = combinations(range(4), 2)\n",
    "print(*c)"
   ]
  },
  {
   "cell_type": "code",
   "execution_count": null,
   "metadata": {},
   "outputs": [],
   "source": [
    "from itertools import product\n",
    "p = product('ab', range(3))\n",
    "print(*p)"
   ]
  },
  {
   "cell_type": "markdown",
   "metadata": {
    "nbpresent": {
     "id": "73da587d-9d81-468a-b5ef-5fc7820e829a"
    }
   },
   "source": [
    "# 9. List comprehension"
   ]
  },
  {
   "cell_type": "code",
   "execution_count": null,
   "metadata": {
    "nbpresent": {
     "id": "1db20f13-b57e-435a-b94c-f54768de9986"
    }
   },
   "outputs": [],
   "source": [
    "[i for i in range(20) if i % 3 > 0]"
   ]
  },
  {
   "cell_type": "markdown",
   "metadata": {
    "nbpresent": {
     "id": "b886b64d-1c3c-452a-9667-752fa47a79e6"
    }
   },
   "source": [
    "- Basic list comprehension"
   ]
  },
  {
   "cell_type": "code",
   "execution_count": null,
   "metadata": {
    "nbpresent": {
     "id": "c957587b-b868-49b8-a9c3-6bc312d93077"
    }
   },
   "outputs": [],
   "source": [
    "L = []\n",
    "for n in range(12):\n",
    "    L.append(n ** 2)\n",
    "L"
   ]
  },
  {
   "cell_type": "code",
   "execution_count": null,
   "metadata": {},
   "outputs": [],
   "source": [
    "a = [n ** 2 for n in range(12)]"
   ]
  },
  {
   "cell_type": "code",
   "execution_count": null,
   "metadata": {},
   "outputs": [],
   "source": []
  },
  {
   "cell_type": "markdown",
   "metadata": {
    "nbpresent": {
     "id": "5e9f354d-9c97-4451-901a-4e570b778b36"
    }
   },
   "source": [
    "- Multiple iteration"
   ]
  },
  {
   "cell_type": "code",
   "execution_count": null,
   "metadata": {
    "nbpresent": {
     "id": "3f18bb32-cccb-4480-9a64-0bc9f5bd97c1"
    }
   },
   "outputs": [],
   "source": [
    "[(i, j) for i in range(2) for j in range(3)]"
   ]
  },
  {
   "cell_type": "markdown",
   "metadata": {
    "nbpresent": {
     "id": "06226955-5293-4410-9a70-cda808984874"
    }
   },
   "source": [
    "- Conditionals on the iterator"
   ]
  },
  {
   "cell_type": "code",
   "execution_count": null,
   "metadata": {
    "nbpresent": {
     "id": "940c7244-88b1-4261-a1be-5e35380d0195"
    }
   },
   "outputs": [],
   "source": [
    "[val for val in range(20) if val % 3 > 0]"
   ]
  },
  {
   "cell_type": "code",
   "execution_count": null,
   "metadata": {
    "nbpresent": {
     "id": "2a921012-bbca-46ae-96e5-7fe4fc0efb67"
    }
   },
   "outputs": [],
   "source": [
    "L = []\n",
    "for val in range(20):\n",
    "    if val % 3:\n",
    "        L.append(val)\n",
    "L"
   ]
  },
  {
   "cell_type": "markdown",
   "metadata": {
    "nbpresent": {
     "id": "52936c6f-5dca-4c6a-8bc7-2d4cb39d7363"
    }
   },
   "source": [
    "- Conditionals on the value"
   ]
  },
  {
   "cell_type": "code",
   "execution_count": null,
   "metadata": {},
   "outputs": [],
   "source": [
    "val = -10\n",
    "val if val >= 0 else -val"
   ]
  },
  {
   "cell_type": "code",
   "execution_count": null,
   "metadata": {},
   "outputs": [],
   "source": [
    "[val if val % 2 else -val\n",
    " for val in range(20) if val % 3]"
   ]
  },
  {
   "cell_type": "markdown",
   "metadata": {},
   "source": [
    "#### Some exercises:\n",
    "*Easy:*\n",
    "1. Find all of the numbers from 1-1000 that are divisible by 7\n",
    "2. Find all of the numbers from 1-1000 that have a 3 in them\n",
    "3. Count the number of spaces in a string\n",
    "4. Remove all of the vowels in a string\n",
    "5. Find all of the words in a string that are less than 4 letters"
   ]
  },
  {
   "cell_type": "markdown",
   "metadata": {},
   "source": [
    "*Harder:*\n",
    "- Use a dictionary comprehension to count the length of each word in a sentence.\n",
    "- Use a nested list comprehension to find all of the numbers from 1-1000 that are divisible by any single digit besides 1 (2-9)\n",
    "- For all the numbers 1-1000, use a nested list/dictionary comprehension to find the highest single digit any of the numbers is divisible by"
   ]
  },
  {
   "cell_type": "code",
   "execution_count": 1,
   "metadata": {},
   "outputs": [
    {
     "data": {
      "text/plain": [
       "[2,\n",
       " 3,\n",
       " 4,\n",
       " 5,\n",
       " 6,\n",
       " 7,\n",
       " 8,\n",
       " 9,\n",
       " 10,\n",
       " 12,\n",
       " 14,\n",
       " 15,\n",
       " 16,\n",
       " 18,\n",
       " 20,\n",
       " 21,\n",
       " 22,\n",
       " 24,\n",
       " 25,\n",
       " 26,\n",
       " 27,\n",
       " 28,\n",
       " 30,\n",
       " 32,\n",
       " 33,\n",
       " 34,\n",
       " 35,\n",
       " 36,\n",
       " 38,\n",
       " 39,\n",
       " 40,\n",
       " 42,\n",
       " 44,\n",
       " 45,\n",
       " 46,\n",
       " 48,\n",
       " 49,\n",
       " 50,\n",
       " 51,\n",
       " 52,\n",
       " 54,\n",
       " 55,\n",
       " 56,\n",
       " 57,\n",
       " 58,\n",
       " 60,\n",
       " 62,\n",
       " 63,\n",
       " 64,\n",
       " 65,\n",
       " 66,\n",
       " 68,\n",
       " 69,\n",
       " 70,\n",
       " 72,\n",
       " 74,\n",
       " 75,\n",
       " 76,\n",
       " 77,\n",
       " 78,\n",
       " 80,\n",
       " 81,\n",
       " 82,\n",
       " 84,\n",
       " 85,\n",
       " 86,\n",
       " 87,\n",
       " 88,\n",
       " 90,\n",
       " 91,\n",
       " 92,\n",
       " 93,\n",
       " 94,\n",
       " 95,\n",
       " 96,\n",
       " 98,\n",
       " 99,\n",
       " 100,\n",
       " 102,\n",
       " 104,\n",
       " 105,\n",
       " 106,\n",
       " 108,\n",
       " 110,\n",
       " 111,\n",
       " 112,\n",
       " 114,\n",
       " 115,\n",
       " 116,\n",
       " 117,\n",
       " 118,\n",
       " 119,\n",
       " 120,\n",
       " 122,\n",
       " 123,\n",
       " 124,\n",
       " 125,\n",
       " 126,\n",
       " 128,\n",
       " 129,\n",
       " 130,\n",
       " 132,\n",
       " 133,\n",
       " 134,\n",
       " 135,\n",
       " 136,\n",
       " 138,\n",
       " 140,\n",
       " 141,\n",
       " 142,\n",
       " 144,\n",
       " 145,\n",
       " 146,\n",
       " 147,\n",
       " 148,\n",
       " 150,\n",
       " 152,\n",
       " 153,\n",
       " 154,\n",
       " 155,\n",
       " 156,\n",
       " 158,\n",
       " 159,\n",
       " 160,\n",
       " 161,\n",
       " 162,\n",
       " 164,\n",
       " 165,\n",
       " 166,\n",
       " 168,\n",
       " 170,\n",
       " 171,\n",
       " 172,\n",
       " 174,\n",
       " 175,\n",
       " 176,\n",
       " 177,\n",
       " 178,\n",
       " 180,\n",
       " 182,\n",
       " 183,\n",
       " 184,\n",
       " 185,\n",
       " 186,\n",
       " 188,\n",
       " 189,\n",
       " 190,\n",
       " 192,\n",
       " 194,\n",
       " 195,\n",
       " 196,\n",
       " 198,\n",
       " 200,\n",
       " 201,\n",
       " 202,\n",
       " 203,\n",
       " 204,\n",
       " 205,\n",
       " 206,\n",
       " 207,\n",
       " 208,\n",
       " 210,\n",
       " 212,\n",
       " 213,\n",
       " 214,\n",
       " 215,\n",
       " 216,\n",
       " 217,\n",
       " 218,\n",
       " 219,\n",
       " 220,\n",
       " 222,\n",
       " 224,\n",
       " 225,\n",
       " 226,\n",
       " 228,\n",
       " 230,\n",
       " 231,\n",
       " 232,\n",
       " 234,\n",
       " 235,\n",
       " 236,\n",
       " 237,\n",
       " 238,\n",
       " 240,\n",
       " 242,\n",
       " 243,\n",
       " 244,\n",
       " 245,\n",
       " 246,\n",
       " 248,\n",
       " 249,\n",
       " 250,\n",
       " 252,\n",
       " 254,\n",
       " 255,\n",
       " 256,\n",
       " 258,\n",
       " 259,\n",
       " 260,\n",
       " 261,\n",
       " 262,\n",
       " 264,\n",
       " 265,\n",
       " 266,\n",
       " 267,\n",
       " 268,\n",
       " 270,\n",
       " 272,\n",
       " 273,\n",
       " 274,\n",
       " 275,\n",
       " 276,\n",
       " 278,\n",
       " 279,\n",
       " 280,\n",
       " 282,\n",
       " 284,\n",
       " 285,\n",
       " 286,\n",
       " 287,\n",
       " 288,\n",
       " 290,\n",
       " 291,\n",
       " 292,\n",
       " 294,\n",
       " 295,\n",
       " 296,\n",
       " 297,\n",
       " 298,\n",
       " 300,\n",
       " 301,\n",
       " 302,\n",
       " 303,\n",
       " 304,\n",
       " 305,\n",
       " 306,\n",
       " 308,\n",
       " 309,\n",
       " 310,\n",
       " 312,\n",
       " 314,\n",
       " 315,\n",
       " 316,\n",
       " 318,\n",
       " 320,\n",
       " 321,\n",
       " 322,\n",
       " 324,\n",
       " 325,\n",
       " 326,\n",
       " 327,\n",
       " 328,\n",
       " 329,\n",
       " 330,\n",
       " 332,\n",
       " 333,\n",
       " 334,\n",
       " 335,\n",
       " 336,\n",
       " 338,\n",
       " 339,\n",
       " 340,\n",
       " 342,\n",
       " 343,\n",
       " 344,\n",
       " 345,\n",
       " 346,\n",
       " 348,\n",
       " 350,\n",
       " 351,\n",
       " 352,\n",
       " 354,\n",
       " 355,\n",
       " 356,\n",
       " 357,\n",
       " 358,\n",
       " 360,\n",
       " 362,\n",
       " 363,\n",
       " 364,\n",
       " 365,\n",
       " 366,\n",
       " 368,\n",
       " 369,\n",
       " 370,\n",
       " 371,\n",
       " 372,\n",
       " 374,\n",
       " 375,\n",
       " 376,\n",
       " 378,\n",
       " 380,\n",
       " 381,\n",
       " 382,\n",
       " 384,\n",
       " 385,\n",
       " 386,\n",
       " 387,\n",
       " 388,\n",
       " 390,\n",
       " 392,\n",
       " 393,\n",
       " 394,\n",
       " 395,\n",
       " 396,\n",
       " 398,\n",
       " 399,\n",
       " 400,\n",
       " 402,\n",
       " 404,\n",
       " 405,\n",
       " 406,\n",
       " 408,\n",
       " 410,\n",
       " 411,\n",
       " 412,\n",
       " 413,\n",
       " 414,\n",
       " 415,\n",
       " 416,\n",
       " 417,\n",
       " 418,\n",
       " 420,\n",
       " 422,\n",
       " 423,\n",
       " 424,\n",
       " 425,\n",
       " 426,\n",
       " 427,\n",
       " 428,\n",
       " 429,\n",
       " 430,\n",
       " 432,\n",
       " 434,\n",
       " 435,\n",
       " 436,\n",
       " 438,\n",
       " 440,\n",
       " 441,\n",
       " 442,\n",
       " 444,\n",
       " 445,\n",
       " 446,\n",
       " 447,\n",
       " 448,\n",
       " 450,\n",
       " 452,\n",
       " 453,\n",
       " 454,\n",
       " 455,\n",
       " 456,\n",
       " 458,\n",
       " 459,\n",
       " 460,\n",
       " 462,\n",
       " 464,\n",
       " 465,\n",
       " 466,\n",
       " 468,\n",
       " 469,\n",
       " 470,\n",
       " 471,\n",
       " 472,\n",
       " 474,\n",
       " 475,\n",
       " 476,\n",
       " 477,\n",
       " 478,\n",
       " 480,\n",
       " 482,\n",
       " 483,\n",
       " 484,\n",
       " 485,\n",
       " 486,\n",
       " 488,\n",
       " 489,\n",
       " 490,\n",
       " 492,\n",
       " 494,\n",
       " 495,\n",
       " 496,\n",
       " 497,\n",
       " 498,\n",
       " 500,\n",
       " 501,\n",
       " 502,\n",
       " 504,\n",
       " 505,\n",
       " 506,\n",
       " 507,\n",
       " 508,\n",
       " 510,\n",
       " 511,\n",
       " 512,\n",
       " 513,\n",
       " 514,\n",
       " 515,\n",
       " 516,\n",
       " 518,\n",
       " 519,\n",
       " 520,\n",
       " 522,\n",
       " 524,\n",
       " 525,\n",
       " 526,\n",
       " 528,\n",
       " 530,\n",
       " 531,\n",
       " 532,\n",
       " 534,\n",
       " 535,\n",
       " 536,\n",
       " 537,\n",
       " 538,\n",
       " 539,\n",
       " 540,\n",
       " 542,\n",
       " 543,\n",
       " 544,\n",
       " 545,\n",
       " 546,\n",
       " 548,\n",
       " 549,\n",
       " 550,\n",
       " 552,\n",
       " 553,\n",
       " 554,\n",
       " 555,\n",
       " 556,\n",
       " 558,\n",
       " 560,\n",
       " 561,\n",
       " 562,\n",
       " 564,\n",
       " 565,\n",
       " 566,\n",
       " 567,\n",
       " 568,\n",
       " 570,\n",
       " 572,\n",
       " 573,\n",
       " 574,\n",
       " 575,\n",
       " 576,\n",
       " 578,\n",
       " 579,\n",
       " 580,\n",
       " 581,\n",
       " 582,\n",
       " 584,\n",
       " 585,\n",
       " 586,\n",
       " 588,\n",
       " 590,\n",
       " 591,\n",
       " 592,\n",
       " 594,\n",
       " 595,\n",
       " 596,\n",
       " 597,\n",
       " 598,\n",
       " 600,\n",
       " 602,\n",
       " 603,\n",
       " 604,\n",
       " 605,\n",
       " 606,\n",
       " 608,\n",
       " 609,\n",
       " 610,\n",
       " 612,\n",
       " 614,\n",
       " 615,\n",
       " 616,\n",
       " 618,\n",
       " 620,\n",
       " 621,\n",
       " 622,\n",
       " 623,\n",
       " 624,\n",
       " 625,\n",
       " 626,\n",
       " 627,\n",
       " 628,\n",
       " 630,\n",
       " 632,\n",
       " 633,\n",
       " 634,\n",
       " 635,\n",
       " 636,\n",
       " 637,\n",
       " 638,\n",
       " 639,\n",
       " 640,\n",
       " 642,\n",
       " 644,\n",
       " 645,\n",
       " 646,\n",
       " 648,\n",
       " 650,\n",
       " 651,\n",
       " 652,\n",
       " 654,\n",
       " 655,\n",
       " 656,\n",
       " 657,\n",
       " 658,\n",
       " 660,\n",
       " 662,\n",
       " 663,\n",
       " 664,\n",
       " 665,\n",
       " 666,\n",
       " 668,\n",
       " 669,\n",
       " 670,\n",
       " 672,\n",
       " 674,\n",
       " 675,\n",
       " 676,\n",
       " 678,\n",
       " 679,\n",
       " 680,\n",
       " 681,\n",
       " 682,\n",
       " 684,\n",
       " 685,\n",
       " 686,\n",
       " 687,\n",
       " 688,\n",
       " 690,\n",
       " 692,\n",
       " 693,\n",
       " 694,\n",
       " 695,\n",
       " 696,\n",
       " 698,\n",
       " 699,\n",
       " 700,\n",
       " 702,\n",
       " 704,\n",
       " 705,\n",
       " 706,\n",
       " 707,\n",
       " 708,\n",
       " 710,\n",
       " 711,\n",
       " 712,\n",
       " 714,\n",
       " 715,\n",
       " 716,\n",
       " 717,\n",
       " 718,\n",
       " 720,\n",
       " 721,\n",
       " 722,\n",
       " 723,\n",
       " 724,\n",
       " 725,\n",
       " 726,\n",
       " 728,\n",
       " 729,\n",
       " 730,\n",
       " 732,\n",
       " 734,\n",
       " 735,\n",
       " 736,\n",
       " 738,\n",
       " 740,\n",
       " 741,\n",
       " 742,\n",
       " 744,\n",
       " 745,\n",
       " 746,\n",
       " 747,\n",
       " 748,\n",
       " 749,\n",
       " 750,\n",
       " 752,\n",
       " 753,\n",
       " 754,\n",
       " 755,\n",
       " 756,\n",
       " 758,\n",
       " 759,\n",
       " 760,\n",
       " 762,\n",
       " 763,\n",
       " 764,\n",
       " 765,\n",
       " 766,\n",
       " 768,\n",
       " 770,\n",
       " 771,\n",
       " 772,\n",
       " 774,\n",
       " 775,\n",
       " 776,\n",
       " 777,\n",
       " 778,\n",
       " 780,\n",
       " 782,\n",
       " 783,\n",
       " 784,\n",
       " 785,\n",
       " 786,\n",
       " 788,\n",
       " 789,\n",
       " 790,\n",
       " 791,\n",
       " 792,\n",
       " 794,\n",
       " 795,\n",
       " 796,\n",
       " 798,\n",
       " 800,\n",
       " 801,\n",
       " 802,\n",
       " 804,\n",
       " 805,\n",
       " 806,\n",
       " 807,\n",
       " 808,\n",
       " 810,\n",
       " 812,\n",
       " 813,\n",
       " 814,\n",
       " 815,\n",
       " 816,\n",
       " 818,\n",
       " 819,\n",
       " 820,\n",
       " 822,\n",
       " 824,\n",
       " 825,\n",
       " 826,\n",
       " 828,\n",
       " 830,\n",
       " 831,\n",
       " 832,\n",
       " 833,\n",
       " 834,\n",
       " 835,\n",
       " 836,\n",
       " 837,\n",
       " 838,\n",
       " 840,\n",
       " 842,\n",
       " 843,\n",
       " 844,\n",
       " 845,\n",
       " 846,\n",
       " 847,\n",
       " 848,\n",
       " 849,\n",
       " 850,\n",
       " 852,\n",
       " 854,\n",
       " 855,\n",
       " 856,\n",
       " 858,\n",
       " 860,\n",
       " 861,\n",
       " 862,\n",
       " 864,\n",
       " 865,\n",
       " 866,\n",
       " 867,\n",
       " 868,\n",
       " 870,\n",
       " 872,\n",
       " 873,\n",
       " 874,\n",
       " 875,\n",
       " 876,\n",
       " 878,\n",
       " 879,\n",
       " 880,\n",
       " 882,\n",
       " 884,\n",
       " 885,\n",
       " 886,\n",
       " 888,\n",
       " 889,\n",
       " 890,\n",
       " 891,\n",
       " 892,\n",
       " 894,\n",
       " 895,\n",
       " 896,\n",
       " 897,\n",
       " 898,\n",
       " 900,\n",
       " 902,\n",
       " 903,\n",
       " 904,\n",
       " 905,\n",
       " 906,\n",
       " 908,\n",
       " 909,\n",
       " 910,\n",
       " 912,\n",
       " 914,\n",
       " 915,\n",
       " 916,\n",
       " 917,\n",
       " 918,\n",
       " 920,\n",
       " 921,\n",
       " 922,\n",
       " 924,\n",
       " 925,\n",
       " 926,\n",
       " 927,\n",
       " 928,\n",
       " 930,\n",
       " 931,\n",
       " 932,\n",
       " 933,\n",
       " 934,\n",
       " 935,\n",
       " 936,\n",
       " 938,\n",
       " 939,\n",
       " 940,\n",
       " 942,\n",
       " 944,\n",
       " 945,\n",
       " 946,\n",
       " 948,\n",
       " 950,\n",
       " 951,\n",
       " 952,\n",
       " 954,\n",
       " 955,\n",
       " 956,\n",
       " 957,\n",
       " 958,\n",
       " 959,\n",
       " 960,\n",
       " 962,\n",
       " 963,\n",
       " 964,\n",
       " 965,\n",
       " 966,\n",
       " 968,\n",
       " 969,\n",
       " 970,\n",
       " 972,\n",
       " 973,\n",
       " 974,\n",
       " 975,\n",
       " 976,\n",
       " 978,\n",
       " 980,\n",
       " 981,\n",
       " 982,\n",
       " 984,\n",
       " 985,\n",
       " 986,\n",
       " 987,\n",
       " 988,\n",
       " 990,\n",
       " 992,\n",
       " 993,\n",
       " 994,\n",
       " 995,\n",
       " 996,\n",
       " 998,\n",
       " 999,\n",
       " 1000]"
      ]
     },
     "execution_count": 1,
     "metadata": {},
     "output_type": "execute_result"
    }
   ],
   "source": [
    "results = [number for number in range(1,1001) if True in [True for divisor in range(2,10) if number % divisor == 0]]\n",
    "results"
   ]
  },
  {
   "cell_type": "markdown",
   "metadata": {
    "nbpresent": {
     "id": "82b5f17d-b08f-4860-9290-1ca0ff17f0ab"
    }
   },
   "source": [
    "# 10. Modules and packages"
   ]
  },
  {
   "cell_type": "markdown",
   "metadata": {
    "nbpresent": {
     "id": "66889b69-25a7-4dc6-804f-1cf35bd3008d"
    }
   },
   "source": [
    "## Loading Modules: the ``import`` Statement"
   ]
  },
  {
   "cell_type": "markdown",
   "metadata": {
    "nbpresent": {
     "id": "d723bd3c-50c8-4cd5-bad8-998435556cf2"
    }
   },
   "source": [
    "- Explicit module import"
   ]
  },
  {
   "cell_type": "code",
   "execution_count": null,
   "metadata": {
    "nbpresent": {
     "id": "2c69de8c-9cd7-4e4d-bb6a-170b5cf21622"
    }
   },
   "outputs": [],
   "source": [
    "import math"
   ]
  },
  {
   "cell_type": "code",
   "execution_count": null,
   "metadata": {},
   "outputs": [],
   "source": [
    "math.pi"
   ]
  },
  {
   "cell_type": "code",
   "execution_count": null,
   "metadata": {},
   "outputs": [],
   "source": [
    "math.cos(math.pi)"
   ]
  },
  {
   "cell_type": "markdown",
   "metadata": {
    "nbpresent": {
     "id": "e511c464-e804-40ae-a5af-33271ae46e22"
    }
   },
   "source": [
    "- Explicit module import by alias"
   ]
  },
  {
   "cell_type": "code",
   "execution_count": null,
   "metadata": {
    "nbpresent": {
     "id": "7595569e-f46c-47c0-8d0f-da2ca07afe18"
    }
   },
   "outputs": [],
   "source": [
    "import numpy as np\n",
    "np.cos(np.pi)"
   ]
  },
  {
   "cell_type": "markdown",
   "metadata": {
    "nbpresent": {
     "id": "39bedd36-685f-4d13-879b-6e1d0b2f703b"
    }
   },
   "source": [
    "- Explicit import of module contents"
   ]
  },
  {
   "cell_type": "code",
   "execution_count": null,
   "metadata": {
    "nbpresent": {
     "id": "7a7dec77-ca20-49c8-9553-c15ac7b4414c"
    }
   },
   "outputs": [],
   "source": [
    "from math import cos, pi\n",
    "cos(pi)"
   ]
  },
  {
   "cell_type": "markdown",
   "metadata": {
    "nbpresent": {
     "id": "fa47bfdf-6be2-45d6-b1dd-f8ff77c9aab7"
    }
   },
   "source": [
    "- Implicit import of module contents (don't do this)"
   ]
  },
  {
   "cell_type": "code",
   "execution_count": null,
   "metadata": {
    "nbpresent": {
     "id": "c044a24f-2263-4ebb-bac9-32a2b1499bfd"
    }
   },
   "outputs": [],
   "source": [
    "from math import *\n",
    "sin(pi) ** 2 + cos(pi) ** 2"
   ]
  },
  {
   "cell_type": "markdown",
   "metadata": {
    "nbpresent": {
     "id": "92de2996-c482-4678-8723-2c422cd1e68d"
    }
   },
   "source": [
    "## Importing from Python's Standard Library\n",
    "\n",
    "Python's standard library contains many useful built-in modules, which you can read about fully in [Python's documentation](https://docs.python.org/3/library/).\n",
    "Any of these can be imported with the ``import`` statement, and then explored using the help function seen in the previous section.\n",
    "Here is an extremely incomplete list of some of the modules you might wish to explore and learn about:\n",
    "\n",
    "- ``os`` and ``sys``: Tools for interfacing with the operating system, including navigating file directory structures and executing shell commands\n",
    "- ``math`` and ``cmath``: Mathematical functions and operations on real and complex numbers\n",
    "- ``itertools``: Tools for constructing and interacting with iterators and generators\n",
    "- ``functools``: Tools that assist with functional programming\n",
    "- ``random``: Tools for generating pseudorandom numbers\n",
    "- ``pickle``: Tools for object persistence: saving objects to and loading objects from disk\n",
    "- ``json`` and ``csv``: Tools for reading JSON-formatted and CSV-formatted files.\n",
    "- ``urllib``: Tools for doing HTTP and other web requests.\n",
    "\n",
    "You can find information on these, and many more, in the Python standard library documentation: https://docs.python.org/3/library/."
   ]
  },
  {
   "cell_type": "markdown",
   "metadata": {
    "nbpresent": {
     "id": "1e5f4d2a-5515-43b7-b974-438cf8e10c2e"
    }
   },
   "source": [
    "## Importing from Third-Party Modules\n",
    "\n",
    "One of the things that makes Python useful, especially within the world of data science, is its ecosystem of third-party modules.\n",
    "These can be imported just as the built-in modules, but first the modules must be installed on your system.\n",
    "The standard registry for such modules is the Python Package Index (*PyPI* for short), found on the Web at http://pypi.python.org/.\n",
    "For convenience, Python comes with a program called ``pip`` (a recursive acronym meaning \"pip installs packages\"), which will automatically fetch packages released and listed on PyPI (if you use Python version 2, ``pip`` must be installed separately).\n",
    "For example, if you'd like to install the ``scikit-learn`` package that we will use for machine learning later on simply type the following in your command prompt:\n",
    "```\n",
    "$ pip install scikit-learn\n",
    "```\n",
    "The source code for the package will be automatically downloaded from the PyPI repository, and the package installed in the standard Python path (assuming you have permission to do so on the computer you're using).\n",
    "\n",
    "For more information about PyPI and the ``pip`` installer, refer to the documentation at http://pypi.python.org/."
   ]
  },
  {
   "cell_type": "markdown",
   "metadata": {
    "nbpresent": {
     "id": "aa15db6c-9227-4b2c-bdae-ee941c6dcab0"
    }
   },
   "source": [
    "# 11. Preview of important packages for data science"
   ]
  },
  {
   "cell_type": "markdown",
   "metadata": {
    "nbpresent": {
     "id": "37d834c8-a594-4f0a-9a84-191837d8424a"
    }
   },
   "source": [
    "## NumPy: Numerical Python\n",
    "\n",
    "NumPy provides an efficient way to store and manipulate multi-dimensional dense arrays in Python.\n",
    "The important features of NumPy are:\n",
    "\n",
    "- It provides an ``ndarray`` structure, which allows efficient storage and manipulation of vectors, matrices, and higher-dimensional datasets.\n",
    "- It provides a readable and efficient syntax for operating on this data, from simple element-wise arithmetic to more complicated linear algebraic operations.\n",
    "\n",
    "In the simplest case, NumPy arrays look a lot like Python lists.\n",
    "For example, here is an array containing the range of numbers 1 to 9 (compare this with Python's built-in ``range()``):"
   ]
  },
  {
   "cell_type": "code",
   "execution_count": null,
   "metadata": {
    "nbpresent": {
     "id": "69e7e68d-eb10-4e89-a936-2b8656ef9c9b"
    }
   },
   "outputs": [],
   "source": [
    "import numpy as np\n",
    "x = np.arange(1, 10)\n",
    "x"
   ]
  },
  {
   "cell_type": "code",
   "execution_count": null,
   "metadata": {},
   "outputs": [],
   "source": [
    "x ** 2"
   ]
  },
  {
   "cell_type": "code",
   "execution_count": null,
   "metadata": {},
   "outputs": [],
   "source": [
    "[val ** 2 for val in range(1, 10)]"
   ]
  },
  {
   "cell_type": "code",
   "execution_count": null,
   "metadata": {},
   "outputs": [],
   "source": [
    "%timeit x=[val ** 2 for val in range(1, 10)]"
   ]
  },
  {
   "cell_type": "code",
   "execution_count": null,
   "metadata": {},
   "outputs": [],
   "source": [
    "%timeit x=np.arange(1, 10)**2"
   ]
  },
  {
   "cell_type": "code",
   "execution_count": null,
   "metadata": {},
   "outputs": [],
   "source": [
    "M = x.reshape((3, 3))\n",
    "M"
   ]
  },
  {
   "cell_type": "code",
   "execution_count": null,
   "metadata": {},
   "outputs": [],
   "source": [
    "M.T"
   ]
  },
  {
   "cell_type": "code",
   "execution_count": null,
   "metadata": {},
   "outputs": [],
   "source": [
    "np.dot(M, [5, 6, 7])"
   ]
  },
  {
   "cell_type": "code",
   "execution_count": null,
   "metadata": {},
   "outputs": [],
   "source": [
    "np.linalg.eigvals(M)"
   ]
  },
  {
   "cell_type": "markdown",
   "metadata": {
    "nbpresent": {
     "id": "7edbabe8-bf36-4ca7-86af-0f8d75eb48ee"
    }
   },
   "source": [
    "## Pandas: Labeled Column-oriented Data\n",
    "\n",
    "Pandas is a much newer package than NumPy, and is in fact built on top of it.\n",
    "What Pandas provides is a labeled interface to multi-dimensional data, in the form of a DataFrame object that will feel very familiar to users of R and related languages.\n",
    "DataFrames in Pandas look something like this:"
   ]
  },
  {
   "cell_type": "code",
   "execution_count": null,
   "metadata": {
    "nbpresent": {
     "id": "9309bef1-e972-4ed5-95a2-2c30cf8aea88"
    }
   },
   "outputs": [],
   "source": [
    "import pandas as pd\n",
    "df = pd.DataFrame({'label': ['A', 'B', 'C', 'A', 'B', 'C'],\n",
    "                   'value': [1, 2, 3, 4, 5, 6]})\n",
    "df"
   ]
  },
  {
   "cell_type": "code",
   "execution_count": null,
   "metadata": {},
   "outputs": [],
   "source": [
    "df['label']"
   ]
  },
  {
   "cell_type": "code",
   "execution_count": null,
   "metadata": {},
   "outputs": [],
   "source": [
    "df['label'].str.lower()"
   ]
  },
  {
   "cell_type": "code",
   "execution_count": null,
   "metadata": {},
   "outputs": [],
   "source": [
    "df['value'].sum()"
   ]
  },
  {
   "cell_type": "code",
   "execution_count": null,
   "metadata": {},
   "outputs": [],
   "source": [
    "df.groupby('label').sum()"
   ]
  },
  {
   "cell_type": "markdown",
   "metadata": {
    "nbpresent": {
     "id": "289dd424-72a8-4851-bd6d-f82fc124f878"
    }
   },
   "source": [
    "## SciPy: Scientific Python\n",
    "\n",
    "SciPy is a collection of scientific functionality that is built on NumPy.\n",
    "The package began as a set of Python wrappers to well-known Fortran libraries for numerical computing, and has grown from there.\n",
    "The package is arranged as a set of submodules, each implementing some class of numerical algorithms.\n",
    "Here is an incomplete sample of some of the more important ones for data science:\n",
    "\n",
    "- ``scipy.fftpack``: Fast Fourier transforms\n",
    "- ``scipy.integrate``: Numerical integration\n",
    "- ``scipy.interpolate``: Numerical interpolation\n",
    "- ``scipy.linalg``: Linear algebra routines\n",
    "- ``scipy.optimize``: Numerical optimization of functions\n",
    "- ``scipy.sparse``: Sparse matrix storage and linear algebra\n",
    "- ``scipy.stats``: Statistical analysis routines\n",
    "\n",
    "For example, let's take a look at interpolating a smooth curve between some data"
   ]
  },
  {
   "cell_type": "code",
   "execution_count": null,
   "metadata": {
    "nbpresent": {
     "id": "cbed43eb-2a05-4e2a-8cf9-b70dfe6c5295"
    }
   },
   "outputs": [],
   "source": [
    "import matplotlib.pyplot as plt\n",
    "import numpy as np\n",
    "from scipy import interpolate\n",
    "\n",
    "# choose eight points between 0 and 10\n",
    "x = np.linspace(0, 10, 8)\n",
    "y = np.sin(x)\n",
    "\n",
    "# create a cubic interpolation function\n",
    "func = interpolate.interp1d(x, y, kind='cubic')\n",
    "\n",
    "# interpolate on a grid of 1,000 points\n",
    "x_interp = np.linspace(0, 10, 1000)\n",
    "y_interp = func(x_interp)\n",
    "\n",
    "# plot the results\n",
    "plt.figure()  # new figure\n",
    "plt.plot(x, y, 'o')\n",
    "plt.plot(x_interp, y_interp)\n",
    "plt.show()"
   ]
  },
  {
   "cell_type": "markdown",
   "metadata": {
    "nbpresent": {
     "id": "16e1438b-d3cd-41e9-b954-5c08fdec4aa6"
    }
   },
   "source": [
    "What we see is a smooth interpolation between the points."
   ]
  },
  {
   "cell_type": "markdown",
   "metadata": {
    "nbpresent": {
     "id": "f49ca7ab-e161-4cee-ba91-b46cd66c95bc"
    }
   },
   "source": [
    "## Other Data Science Packages\n",
    "\n",
    "Built on top of these tools are a host of other data science packages, including general tools like [Scikit-Learn](http://scikit-learn.org) for machine learning, \n",
    "\n",
    "\n",
    "[Scikit-Image](http://scikit-image.org) for image analysis, and [Statsmodels](http://statsmodels.sourceforge.net/) for statistical modeling, as well as more domain-specific packages like [AstroPy](http://astropy.org) for astronomy and astrophysics, [NiPy](http://nipy.org/) for neuro-imaging, and many, many more.\n",
    "\n",
    "No matter what type of scientific, numerical, or statistical problem you are facing, it's likely there is a Python package out there that can help you solve it."
   ]
  },
  {
   "cell_type": "markdown",
   "metadata": {},
   "source": [
    "## Finally:"
   ]
  },
  {
   "cell_type": "code",
   "execution_count": null,
   "metadata": {},
   "outputs": [],
   "source": [
    "import antigravity"
   ]
  }
 ],
 "metadata": {
  "anaconda-cloud": {},
  "kernelspec": {
   "display_name": "Python [conda env:Radical_1]",
   "language": "python",
   "name": "conda-env-Radical_1-py"
  },
  "language_info": {
   "codemirror_mode": {
    "name": "ipython",
    "version": 3
   },
   "file_extension": ".py",
   "mimetype": "text/x-python",
   "name": "python",
   "nbconvert_exporter": "python",
   "pygments_lexer": "ipython3",
   "version": "3.5.3"
  },
  "nbpresent": {
   "slides": {
    "019040a2-7f2d-41b2-9ca9-85f6500d2996": {
     "id": "019040a2-7f2d-41b2-9ca9-85f6500d2996",
     "prev": "98ea7f48-2d3c-4a2e-8a56-8f89108535b4",
     "regions": {
      "b1612b3b-6e62-4ccd-8882-944e38915bed": {
       "attrs": {
        "height": 0.8,
        "width": 0.8,
        "x": 0.1,
        "y": 0.1
       },
       "content": {
        "cell": "ce2ddc36-7993-4797-bd43-0f2c8c0f5a09",
        "part": "whole"
       },
       "id": "b1612b3b-6e62-4ccd-8882-944e38915bed"
      }
     }
    },
    "03a78d3e-84fa-408e-bf00-309379534488": {
     "id": "03a78d3e-84fa-408e-bf00-309379534488",
     "prev": "c0fa0f26-2c5b-4f41-8c61-0a4b645c8834",
     "regions": {
      "ef10aa5f-1f0c-4942-82b1-c4b6d75cf097": {
       "attrs": {
        "height": 0.8,
        "width": 0.8,
        "x": 0.1,
        "y": 0.1
       },
       "content": {
        "cell": "2ffeb610-075a-4254-9798-465b1a1ee07b",
        "part": "whole"
       },
       "id": "ef10aa5f-1f0c-4942-82b1-c4b6d75cf097"
      }
     }
    },
    "06e9c92b-32df-42f1-9493-832fd34756f8": {
     "id": "06e9c92b-32df-42f1-9493-832fd34756f8",
     "prev": "eb6609e5-1e87-4b8c-bab5-8461837f9d74",
     "regions": {
      "42a2033d-c941-41a9-8f2b-13c92412f31d": {
       "attrs": {
        "height": 0.8,
        "width": 0.8,
        "x": 0.1,
        "y": 0.1
       },
       "content": {
        "cell": "7a7dec77-ca20-49c8-9553-c15ac7b4414c",
        "part": "whole"
       },
       "id": "42a2033d-c941-41a9-8f2b-13c92412f31d"
      }
     }
    },
    "094d0110-d69e-4e55-8f07-722e6ab88166": {
     "id": "094d0110-d69e-4e55-8f07-722e6ab88166",
     "prev": "d68998ec-ab70-45b0-8499-4da44592d181",
     "regions": {
      "fa86b8f1-dbb2-40d4-985c-cd08122473e4": {
       "attrs": {
        "height": 0.8,
        "width": 0.8,
        "x": 0.1,
        "y": 0.1
       },
       "content": {
        "cell": "d73f9ddd-5386-4b91-8f19-a2bfb2eb95ad",
        "part": "whole"
       },
       "id": "fa86b8f1-dbb2-40d4-985c-cd08122473e4"
      }
     }
    },
    "097f7c8f-8b0b-4efb-b847-8b563e8a94b7": {
     "id": "097f7c8f-8b0b-4efb-b847-8b563e8a94b7",
     "prev": "406bab04-8766-40fd-9ac2-178a8cb1a177",
     "regions": {
      "a5f5f981-01b0-433b-b42c-0d09efdf463e": {
       "attrs": {
        "height": 0.8,
        "width": 0.8,
        "x": 0.1,
        "y": 0.1
       },
       "content": {
        "cell": "1edec62a-b2e5-4166-b24c-5a7987a3cfc4",
        "part": "whole"
       },
       "id": "a5f5f981-01b0-433b-b42c-0d09efdf463e"
      }
     }
    },
    "0b335c62-cbb5-40ce-9f9d-77d9384e9496": {
     "id": "0b335c62-cbb5-40ce-9f9d-77d9384e9496",
     "prev": "931a842c-2078-4711-a638-9c80ac279fd3",
     "regions": {
      "9dd69e18-4ba7-45bd-bf43-b938906e89c6": {
       "attrs": {
        "height": 0.8,
        "width": 0.8,
        "x": 0.1,
        "y": 0.1
       },
       "content": {
        "cell": "48c0178e-636a-483d-8330-ab5a3f03506d",
        "part": "whole"
       },
       "id": "9dd69e18-4ba7-45bd-bf43-b938906e89c6"
      }
     }
    },
    "0b75ded3-f219-4767-a51f-26ca6ce5a3b1": {
     "id": "0b75ded3-f219-4767-a51f-26ca6ce5a3b1",
     "prev": "d615bccf-2c8b-49e9-a5ef-a8f8b5a98014",
     "regions": {
      "9b96b4aa-0f73-4a8a-9165-67576c7c4fd0": {
       "attrs": {
        "height": 0.8,
        "width": 0.8,
        "x": 0.1,
        "y": 0.1
       },
       "content": {
        "cell": "cb04a9ae-1ca5-4189-8242-bdcd56f1dbd7",
        "part": "whole"
       },
       "id": "9b96b4aa-0f73-4a8a-9165-67576c7c4fd0"
      }
     }
    },
    "0df0b24b-bef0-4d7c-a577-dce262071bd9": {
     "id": "0df0b24b-bef0-4d7c-a577-dce262071bd9",
     "prev": "0b75ded3-f219-4767-a51f-26ca6ce5a3b1",
     "regions": {
      "d3154018-0d84-4891-a8e1-68fc96b90155": {
       "attrs": {
        "height": 0.8,
        "width": 0.8,
        "x": 0.1,
        "y": 0.1
       },
       "content": {
        "cell": "0740a7e1-5bce-4408-bd0d-b53f27fb65f1",
        "part": "whole"
       },
       "id": "d3154018-0d84-4891-a8e1-68fc96b90155"
      }
     }
    },
    "0f14702a-9be0-4354-b850-f0be4bb9cdfe": {
     "id": "0f14702a-9be0-4354-b850-f0be4bb9cdfe",
     "prev": "68caf88d-5d89-49ae-b88c-e376a74cd1d0",
     "regions": {
      "a115685a-62e4-4cfc-8d20-e74f2272ed5a": {
       "attrs": {
        "height": 0.8,
        "width": 0.8,
        "x": 0.1,
        "y": 0.1
       },
       "content": {
        "cell": "c4a5cbb1-8d0d-45b0-a9fc-0b3592cd61ef",
        "part": "whole"
       },
       "id": "a115685a-62e4-4cfc-8d20-e74f2272ed5a"
      }
     }
    },
    "10762029-8854-4a7f-a8ff-a78fd75fb18f": {
     "id": "10762029-8854-4a7f-a8ff-a78fd75fb18f",
     "prev": "d6ec88d3-7626-45d2-b560-a59f7da006ef",
     "regions": {
      "98e43f14-ddd5-4ff9-b006-89fecf2ae8a0": {
       "attrs": {
        "height": 0.8,
        "width": 0.8,
        "x": 0.1,
        "y": 0.1
       },
       "content": {
        "cell": "cbed43eb-2a05-4e2a-8cf9-b70dfe6c5295",
        "part": "whole"
       },
       "id": "98e43f14-ddd5-4ff9-b006-89fecf2ae8a0"
      }
     }
    },
    "11833ea5-8cc4-4b27-9a8f-e2313b7c75d5": {
     "id": "11833ea5-8cc4-4b27-9a8f-e2313b7c75d5",
     "prev": "76c1b15d-f874-492a-b259-d727e63f0832",
     "regions": {
      "427e1541-bfc2-40ff-a03c-c294b87977cc": {
       "attrs": {
        "height": 0.8,
        "width": 0.8,
        "x": 0.1,
        "y": 0.1
       },
       "content": {
        "cell": "761408d1-e529-4655-92ea-7d92529e5548",
        "part": "whole"
       },
       "id": "427e1541-bfc2-40ff-a03c-c294b87977cc"
      }
     }
    },
    "11b7145f-9a89-4d02-9d29-170e0fa23b5c": {
     "id": "11b7145f-9a89-4d02-9d29-170e0fa23b5c",
     "prev": "f9188e85-0cb7-4113-ab93-6ed3350214d8",
     "regions": {
      "438a1233-c377-4df9-b45a-91793112aef1": {
       "attrs": {
        "height": 0.8,
        "width": 0.8,
        "x": 0.1,
        "y": 0.1
       },
       "content": {
        "cell": "b83b8679-2b5e-42c9-80ba-357f498069c7",
        "part": "whole"
       },
       "id": "438a1233-c377-4df9-b45a-91793112aef1"
      }
     }
    },
    "11c6cdfa-d7e0-4e0a-baa9-67c520aba944": {
     "id": "11c6cdfa-d7e0-4e0a-baa9-67c520aba944",
     "prev": "3597d9d3-7222-4427-9e1c-7409fab934f3",
     "regions": {
      "c6d70a61-7e47-4a37-9589-0aa9774aa6df": {
       "attrs": {
        "height": 0.8,
        "width": 0.8,
        "x": 0.1,
        "y": 0.1
       },
       "content": {
        "cell": "4bb475a4-0ef8-449b-99f9-61a3c4b348dd",
        "part": "whole"
       },
       "id": "c6d70a61-7e47-4a37-9589-0aa9774aa6df"
      }
     }
    },
    "13db7776-8564-4dce-b4f0-251441ccda14": {
     "id": "13db7776-8564-4dce-b4f0-251441ccda14",
     "prev": "a0aa81b8-f150-41ef-b17d-1e853d131028",
     "regions": {
      "ef160152-09a8-44ee-a088-0a73fb0d2bc0": {
       "attrs": {
        "height": 0.8,
        "width": 0.8,
        "x": 0.1,
        "y": 0.1
       },
       "content": {
        "cell": "4fb30f16-4df3-4df0-aafd-59bd1db3bfec",
        "part": "whole"
       },
       "id": "ef160152-09a8-44ee-a088-0a73fb0d2bc0"
      }
     }
    },
    "158fe7d0-553d-4d46-8898-41b2716dfd8d": {
     "id": "158fe7d0-553d-4d46-8898-41b2716dfd8d",
     "prev": "6f41d454-e71d-4932-9013-8bc80896cee1",
     "regions": {
      "2dc10c55-9fd3-47d3-a5b0-95761395674c": {
       "attrs": {
        "height": 0.8,
        "width": 0.8,
        "x": 0.1,
        "y": 0.1
       },
       "content": {
        "cell": "b1cb48e2-17bb-4beb-9637-95f4e876ef07",
        "part": "whole"
       },
       "id": "2dc10c55-9fd3-47d3-a5b0-95761395674c"
      }
     }
    },
    "1927d62d-ed4c-45fb-b771-5ecc3a1c1084": {
     "id": "1927d62d-ed4c-45fb-b771-5ecc3a1c1084",
     "prev": "7bc1287e-2e32-4bb9-8d1e-fbc25dc14420",
     "regions": {
      "fa8adbad-5db3-44a9-aa82-f544a756e783": {
       "attrs": {
        "height": 0.8,
        "width": 0.8,
        "x": 0.1,
        "y": 0.1
       },
       "content": {
        "cell": "06226955-5293-4410-9a70-cda808984874",
        "part": "whole"
       },
       "id": "fa8adbad-5db3-44a9-aa82-f544a756e783"
      }
     }
    },
    "1e4cc345-46f9-4f8b-b658-b447a497247b": {
     "id": "1e4cc345-46f9-4f8b-b658-b447a497247b",
     "prev": "6c86e3fa-8fcd-4dd8-b387-f166923a5bab",
     "regions": {
      "9822a8f7-8db9-4080-8188-7902b42fec3e": {
       "attrs": {
        "height": 0.8,
        "width": 0.8,
        "x": 0.1,
        "y": 0.1
       },
       "content": {
        "cell": "fc856cec-a4f5-49c4-bb96-239bb74b7401",
        "part": "whole"
       },
       "id": "9822a8f7-8db9-4080-8188-7902b42fec3e"
      }
     }
    },
    "1f6aeda1-d825-4b4a-9127-69f1bc009dc2": {
     "id": "1f6aeda1-d825-4b4a-9127-69f1bc009dc2",
     "prev": "1927d62d-ed4c-45fb-b771-5ecc3a1c1084",
     "regions": {
      "603720a9-6044-48aa-8489-caf130334ed2": {
       "attrs": {
        "height": 0.8,
        "width": 0.8,
        "x": 0.1,
        "y": 0.1
       },
       "content": {
        "cell": "940c7244-88b1-4261-a1be-5e35380d0195",
        "part": "whole"
       },
       "id": "603720a9-6044-48aa-8489-caf130334ed2"
      }
     }
    },
    "1f775d54-88a0-4ad8-9bf3-7628cbf3d21a": {
     "id": "1f775d54-88a0-4ad8-9bf3-7628cbf3d21a",
     "prev": "450a963d-6942-47f5-9c59-e076e7cb543a",
     "regions": {
      "81c84f71-b86b-4f42-a69e-b642002933c5": {
       "attrs": {
        "height": 0.8,
        "width": 0.8,
        "x": 0.1,
        "y": 0.1
       },
       "content": {
        "cell": "3e58f544-4db9-49f4-92df-d49c970e0b1d",
        "part": "whole"
       },
       "id": "81c84f71-b86b-4f42-a69e-b642002933c5"
      }
     }
    },
    "21ca127e-2fc9-43b6-82bb-34530d2fc4d1": {
     "id": "21ca127e-2fc9-43b6-82bb-34530d2fc4d1",
     "prev": "faa7485c-09e6-4cf8-af48-b593b1c8fdc0",
     "regions": {
      "b551bccf-7acc-4085-98f6-e062d41b91d7": {
       "attrs": {
        "height": 0.8,
        "width": 0.8,
        "x": 0.1,
        "y": 0.1
       },
       "content": {
        "cell": "c957587b-b868-49b8-a9c3-6bc312d93077",
        "part": "whole"
       },
       "id": "b551bccf-7acc-4085-98f6-e062d41b91d7"
      }
     }
    },
    "23891a53-abb6-4af8-8e49-f5e6a390fdb2": {
     "id": "23891a53-abb6-4af8-8e49-f5e6a390fdb2",
     "prev": "66bef383-1d2c-4a89-b934-5ac2443a2928",
     "regions": {
      "2edaf868-9978-4b0b-8165-4ef602b34778": {
       "attrs": {
        "height": 0.8,
        "width": 0.8,
        "x": 0.1,
        "y": 0.1
       },
       "content": {
        "cell": "9116bf47-dd42-4646-8d4e-7cf3c04c8cfa",
        "part": "whole"
       },
       "id": "2edaf868-9978-4b0b-8165-4ef602b34778"
      }
     }
    },
    "25587155-ca13-4eca-a635-c1695345a3d6": {
     "id": "25587155-ca13-4eca-a635-c1695345a3d6",
     "prev": "f83dc879-dbe9-4cba-823f-2070a392da33",
     "regions": {
      "953fd44d-319e-4d6d-a705-583d452534c6": {
       "attrs": {
        "height": 0.8,
        "width": 0.8,
        "x": 0.1,
        "y": 0.1
       },
       "content": {
        "cell": "92de2996-c482-4678-8723-2c422cd1e68d",
        "part": "whole"
       },
       "id": "953fd44d-319e-4d6d-a705-583d452534c6"
      }
     }
    },
    "2630a02c-9494-4cbc-b6f9-767e4c703c3a": {
     "id": "2630a02c-9494-4cbc-b6f9-767e4c703c3a",
     "prev": "6ac4c074-0253-4e27-bbcd-d59bca5c3164",
     "regions": {
      "276e5cc4-d0ee-47d3-8745-3d0968b7c868": {
       "attrs": {
        "height": 0.8,
        "width": 0.8,
        "x": 0.1,
        "y": 0.1
       },
       "content": {
        "cell": "fea885d3-fd3e-41e8-9f14-5135f9f88423",
        "part": "whole"
       },
       "id": "276e5cc4-d0ee-47d3-8745-3d0968b7c868"
      }
     }
    },
    "289a6f2c-23cc-454b-ab4a-d307d6a5366d": {
     "id": "289a6f2c-23cc-454b-ab4a-d307d6a5366d",
     "prev": "66905ed6-c9f6-43ff-ace9-6b050a08890b",
     "regions": {
      "cbc3eda2-89c1-42df-bab6-7d9d35a1c8fb": {
       "attrs": {
        "height": 0.8,
        "width": 0.8,
        "x": 0.1,
        "y": 0.1
       },
       "content": {
        "cell": "1db20f13-b57e-435a-b94c-f54768de9986",
        "part": "whole"
       },
       "id": "cbc3eda2-89c1-42df-bab6-7d9d35a1c8fb"
      }
     }
    },
    "2980422e-0a20-4823-ae59-9ed322e8af79": {
     "id": "2980422e-0a20-4823-ae59-9ed322e8af79",
     "prev": "843d399c-b39f-4c8c-85f0-501a529ceacc",
     "regions": {
      "0593fe22-3082-4e28-b244-3e630bf7b7be": {
       "attrs": {
        "height": 0.8,
        "width": 0.8,
        "x": 0.1,
        "y": 0.1
       },
       "content": {
        "cell": "121e4365-f9a1-4716-8232-ee01e03e8b48",
        "part": "whole"
       },
       "id": "0593fe22-3082-4e28-b244-3e630bf7b7be"
      }
     }
    },
    "29fc1f03-b7f3-41cb-be10-06b24b26dede": {
     "id": "29fc1f03-b7f3-41cb-be10-06b24b26dede",
     "prev": "977ab6e0-8a84-423a-9b5e-f1fe0feaec6a",
     "regions": {
      "3c240b4f-bab5-48b9-b5a9-beadf8916601": {
       "attrs": {
        "height": 0.8,
        "width": 0.8,
        "x": 0.1,
        "y": 0.1
       },
       "content": {
        "cell": "0272075c-1d1d-491d-a5cf-a7cb1749634c",
        "part": "whole"
       },
       "id": "3c240b4f-bab5-48b9-b5a9-beadf8916601"
      }
     }
    },
    "2c2ee873-a7b8-4f6d-8772-7a4653340459": {
     "id": "2c2ee873-a7b8-4f6d-8772-7a4653340459",
     "prev": "333a1e03-b78d-45ca-8414-8d8081b4f847",
     "regions": {
      "798ff458-446c-44e5-a093-827734820dd6": {
       "attrs": {
        "height": 0.8,
        "width": 0.8,
        "x": 0.1,
        "y": 0.1
       },
       "content": {
        "cell": "1b638bbc-a732-4393-85cb-e633026139b6",
        "part": "whole"
       },
       "id": "798ff458-446c-44e5-a093-827734820dd6"
      }
     }
    },
    "2c4c6b91-e8cd-4d1e-8a23-acbec5dbfbec": {
     "id": "2c4c6b91-e8cd-4d1e-8a23-acbec5dbfbec",
     "prev": "e5164da9-1ef2-454e-b7eb-833abdcb2be5",
     "regions": {
      "e163075f-b52d-435a-92d1-fd234af60e99": {
       "attrs": {
        "height": 0.8,
        "width": 0.8,
        "x": 0.1,
        "y": 0.1
       },
       "content": {
        "cell": "5eac69b5-a6e9-48e9-ada7-fd88047dd4c3",
        "part": "whole"
       },
       "id": "e163075f-b52d-435a-92d1-fd234af60e99"
      }
     }
    },
    "2fbbdfe9-2613-45f7-8b2a-9ccc08d9bb41": {
     "id": "2fbbdfe9-2613-45f7-8b2a-9ccc08d9bb41",
     "prev": "6d364dba-e390-4332-bb8f-ca281e5b3f4d",
     "regions": {
      "37ae1825-d472-40d2-851d-c407c7a8014c": {
       "attrs": {
        "height": 0.8,
        "width": 0.8,
        "x": 0.1,
        "y": 0.1
       },
       "content": {
        "cell": "66889b69-25a7-4dc6-804f-1cf35bd3008d",
        "part": "whole"
       },
       "id": "37ae1825-d472-40d2-851d-c407c7a8014c"
      }
     }
    },
    "3040fd22-c976-4270-8ca9-5c62dc5295d7": {
     "id": "3040fd22-c976-4270-8ca9-5c62dc5295d7",
     "prev": "fb43e0dc-a463-42ed-83f3-d1cb06560031",
     "regions": {
      "f01d22cd-773d-47b8-8a4a-011a5f64473d": {
       "attrs": {
        "height": 0.8,
        "width": 0.8,
        "x": 0.1,
        "y": 0.1
       },
       "content": {
        "cell": "ba402bcd-d676-412f-b706-54ce75721551",
        "part": "whole"
       },
       "id": "f01d22cd-773d-47b8-8a4a-011a5f64473d"
      }
     }
    },
    "318464ce-d517-4e5d-8d58-46342d2bad7a": {
     "id": "318464ce-d517-4e5d-8d58-46342d2bad7a",
     "prev": "9244ccb5-5a02-4918-b600-01c23bd3f824",
     "regions": {
      "fa1079f1-c8e8-4f12-a614-b4bfc60d99c9": {
       "attrs": {
        "height": 0.8,
        "width": 0.8,
        "x": 0.1,
        "y": 0.1
       },
       "content": {
        "cell": "7ca24526-1019-41cc-ba3b-a8aebde2a846",
        "part": "whole"
       },
       "id": "fa1079f1-c8e8-4f12-a614-b4bfc60d99c9"
      }
     }
    },
    "333a1e03-b78d-45ca-8414-8d8081b4f847": {
     "id": "333a1e03-b78d-45ca-8414-8d8081b4f847",
     "prev": "bfc923df-60ac-4c05-957a-5f1e486c3983",
     "regions": {
      "6190984a-c637-490b-b09e-f26e19ed2868": {
       "attrs": {
        "height": 0.8,
        "width": 0.8,
        "x": 0.1,
        "y": 0.1
       },
       "content": {
        "cell": "c2487bc5-22d0-4ad2-8f75-955368cd8310",
        "part": "whole"
       },
       "id": "6190984a-c637-490b-b09e-f26e19ed2868"
      }
     }
    },
    "3559c760-7182-4aae-81d0-11e2d39883c6": {
     "id": "3559c760-7182-4aae-81d0-11e2d39883c6",
     "prev": "11b7145f-9a89-4d02-9d29-170e0fa23b5c",
     "regions": {
      "f885530e-be23-4b39-a070-44461608b15e": {
       "attrs": {
        "height": 0.8,
        "width": 0.8,
        "x": 0.1,
        "y": 0.1
       },
       "content": {
        "cell": "8a622e0b-cffe-40c9-910a-51df9139e59e",
        "part": "whole"
       },
       "id": "f885530e-be23-4b39-a070-44461608b15e"
      }
     }
    },
    "3597d9d3-7222-4427-9e1c-7409fab934f3": {
     "id": "3597d9d3-7222-4427-9e1c-7409fab934f3",
     "prev": "aefac063-78e5-480b-86bb-aab09a6a518a",
     "regions": {
      "12b7f0a6-cd4e-4be8-a2b3-44d09ddfded6": {
       "attrs": {
        "height": 0.8,
        "width": 0.8,
        "x": 0.1,
        "y": 0.1
       },
       "content": {
        "cell": "5424fc25-2ffa-416a-aafd-748b054ae5cd",
        "part": "whole"
       },
       "id": "12b7f0a6-cd4e-4be8-a2b3-44d09ddfded6"
      }
     }
    },
    "3abf8b97-aca5-4015-9ad5-36e07c6f0f48": {
     "id": "3abf8b97-aca5-4015-9ad5-36e07c6f0f48",
     "prev": "be5e8022-4165-486a-9160-a878957b54df",
     "regions": {
      "879dc848-6692-4097-8b83-823b885a2437": {
       "attrs": {
        "height": 0.8,
        "width": 0.8,
        "x": 0.1,
        "y": 0.1
       },
       "content": {
        "cell": "80303f63-e801-42fe-8f2b-2f67afa2fce1",
        "part": "whole"
       },
       "id": "879dc848-6692-4097-8b83-823b885a2437"
      }
     }
    },
    "3c2cc5b0-3c38-41ff-8d10-090c2dcd10b8": {
     "id": "3c2cc5b0-3c38-41ff-8d10-090c2dcd10b8",
     "prev": "4dda04a0-d5c6-410d-972a-3cc103886d7d",
     "regions": {
      "5de9d7c2-cadb-4441-9e8f-db1ae587b2d9": {
       "attrs": {
        "height": 0.8,
        "width": 0.8,
        "x": 0.1,
        "y": 0.1
       },
       "content": {
        "cell": "86103bf5-0442-41e6-a77b-e5f67f8b52ea",
        "part": "whole"
       },
       "id": "5de9d7c2-cadb-4441-9e8f-db1ae587b2d9"
      }
     }
    },
    "3dc576c4-1e74-488e-9be7-4eab0e7eaa43": {
     "id": "3dc576c4-1e74-488e-9be7-4eab0e7eaa43",
     "prev": "be14a2af-2c5d-4d52-bff4-eac26b3a9d5a",
     "regions": {
      "61e4032c-55e2-44af-a3ba-d34fcd401ba7": {
       "attrs": {
        "height": 0.8,
        "width": 0.8,
        "x": 0.1,
        "y": 0.1
       },
       "content": {
        "cell": "e511c464-e804-40ae-a5af-33271ae46e22",
        "part": "whole"
       },
       "id": "61e4032c-55e2-44af-a3ba-d34fcd401ba7"
      }
     }
    },
    "3e630acf-3013-4354-b1fc-4643c1f32513": {
     "id": "3e630acf-3013-4354-b1fc-4643c1f32513",
     "prev": "7eac6a6d-fcdb-4da4-9f2e-704f7a9e00e9",
     "regions": {
      "79240f35-b30b-4744-a697-3483af848cb5": {
       "attrs": {
        "height": 0.8,
        "width": 0.8,
        "x": 0.1,
        "y": 0.1
       },
       "content": {
        "cell": "6cdde6b6-8ddb-4a1e-b9ac-06c635055a4b",
        "part": "whole"
       },
       "id": "79240f35-b30b-4744-a697-3483af848cb5"
      }
     }
    },
    "3f3e515d-4429-45e8-95ee-d1b50bd977b6": {
     "id": "3f3e515d-4429-45e8-95ee-d1b50bd977b6",
     "prev": "e0dc7249-2382-44d9-adc0-a3f8aae2ab44",
     "regions": {
      "e91ed38a-bef5-4d20-a172-6a1aeb385609": {
       "attrs": {
        "height": 0.8,
        "width": 0.8,
        "x": 0.1,
        "y": 0.1
       },
       "content": {
        "cell": "5408c944-2581-4083-91db-d443deb4eb78",
        "part": "whole"
       },
       "id": "e91ed38a-bef5-4d20-a172-6a1aeb385609"
      }
     }
    },
    "3fc1681b-172b-46c5-9b90-0dc7550f7940": {
     "id": "3fc1681b-172b-46c5-9b90-0dc7550f7940",
     "prev": "dcc1240d-e5cc-4d67-9a52-30165feaaf65",
     "regions": {
      "82f47088-fd63-4b2d-9d07-8a237027a4f4": {
       "attrs": {
        "height": 0.8,
        "width": 0.8,
        "x": 0.1,
        "y": 0.1
       },
       "content": {
        "cell": "0957501b-3358-4f01-84ba-0ec573cdb718",
        "part": "whole"
       },
       "id": "82f47088-fd63-4b2d-9d07-8a237027a4f4"
      }
     }
    },
    "406bab04-8766-40fd-9ac2-178a8cb1a177": {
     "id": "406bab04-8766-40fd-9ac2-178a8cb1a177",
     "prev": "f0fdb1fb-e1f3-40e1-9167-04c0ae5f2b43",
     "regions": {
      "d9a1d8e7-dfe9-4220-860e-2fe94f66ca40": {
       "attrs": {
        "height": 0.8,
        "width": 0.8,
        "x": 0.1,
        "y": 0.1
       },
       "content": {
        "cell": "df659cdd-4f09-446f-8041-473203347a97",
        "part": "whole"
       },
       "id": "d9a1d8e7-dfe9-4220-860e-2fe94f66ca40"
      }
     }
    },
    "4210d644-9cdc-4979-a6ff-27ecf729848e": {
     "id": "4210d644-9cdc-4979-a6ff-27ecf729848e",
     "prev": "9a2576bc-dc5d-41a6-864e-07eab8de2376",
     "regions": {
      "0a28da0a-de08-4f6f-9d0f-f649e7c8fde3": {
       "attrs": {
        "height": 0.8,
        "width": 0.8,
        "x": 0.1,
        "y": 0.1
       },
       "content": {
        "cell": "4331f03a-df6f-4a5f-8afc-8b3e69ce1503",
        "part": "whole"
       },
       "id": "0a28da0a-de08-4f6f-9d0f-f649e7c8fde3"
      }
     }
    },
    "450a963d-6942-47f5-9c59-e076e7cb543a": {
     "id": "450a963d-6942-47f5-9c59-e076e7cb543a",
     "prev": "eb098f0e-e9e0-4705-94b9-8f919f8a4acb",
     "regions": {
      "2ce0c2bf-03a4-4210-94c4-63d06e75e92a": {
       "attrs": {
        "height": 0.8,
        "width": 0.8,
        "x": 0.1,
        "y": 0.1
       },
       "content": {
        "cell": "0fcb9112-b896-42af-b785-3ee5d3522a21",
        "part": "whole"
       },
       "id": "2ce0c2bf-03a4-4210-94c4-63d06e75e92a"
      }
     }
    },
    "4808d562-80ec-4ed7-b8e0-b86d798bd0e5": {
     "id": "4808d562-80ec-4ed7-b8e0-b86d798bd0e5",
     "prev": "3e630acf-3013-4354-b1fc-4643c1f32513",
     "regions": {
      "8f572f2d-48f9-4c16-b7a9-f932e11f9b14": {
       "attrs": {
        "height": 0.8,
        "width": 0.8,
        "x": 0.1,
        "y": 0.1
       },
       "content": {
        "cell": "8f7725f4-9c43-40af-8a30-822525c4b54b",
        "part": "whole"
       },
       "id": "8f572f2d-48f9-4c16-b7a9-f932e11f9b14"
      }
     }
    },
    "4b76c634-c334-45e3-864d-31b602189efc": {
     "id": "4b76c634-c334-45e3-864d-31b602189efc",
     "prev": "90bd60fb-71d9-4746-8f32-000e2a72c5f7",
     "regions": {
      "d16f7947-1493-431c-9189-de375c8cede5": {
       "attrs": {
        "height": 0.8,
        "width": 0.8,
        "x": 0.1,
        "y": 0.1
       },
       "content": {
        "cell": "61f65804-406d-447b-8ea7-00f8886dc993",
        "part": "whole"
       },
       "id": "d16f7947-1493-431c-9189-de375c8cede5"
      }
     }
    },
    "4cba0752-e249-4820-9ccb-432b9c55d772": {
     "id": "4cba0752-e249-4820-9ccb-432b9c55d772",
     "prev": "a74123d3-06c0-4795-84cf-22e05312613e",
     "regions": {
      "9165089a-70da-4670-baca-241a45671fa5": {
       "attrs": {
        "height": 0.8,
        "width": 0.8,
        "x": 0.1,
        "y": 0.1
       },
       "content": {
        "cell": "f5ac7bc4-e8d4-489d-9f2b-49cdb91df355",
        "part": "whole"
       },
       "id": "9165089a-70da-4670-baca-241a45671fa5"
      }
     }
    },
    "4dda04a0-d5c6-410d-972a-3cc103886d7d": {
     "id": "4dda04a0-d5c6-410d-972a-3cc103886d7d",
     "prev": "93b9a252-e9fb-4f25-8cf7-d93b4057e601",
     "regions": {
      "67c0f2e9-1950-4c6e-8a88-c719705bfa4a": {
       "attrs": {
        "height": 0.8,
        "width": 0.8,
        "x": 0.1,
        "y": 0.1
       },
       "content": {
        "cell": "7a166c7d-264f-479e-b6a8-41485ffe86a7",
        "part": "whole"
       },
       "id": "67c0f2e9-1950-4c6e-8a88-c719705bfa4a"
      }
     }
    },
    "518f9675-ff26-4fdd-a7a1-cb6aef7d2469": {
     "id": "518f9675-ff26-4fdd-a7a1-cb6aef7d2469",
     "prev": "2980422e-0a20-4823-ae59-9ed322e8af79",
     "regions": {
      "b0862c3f-e92f-46cf-a805-b6958757206a": {
       "attrs": {
        "height": 0.8,
        "width": 0.8,
        "x": 0.1,
        "y": 0.1
       },
       "content": {
        "cell": "e40417ac-725b-413d-9252-33b59e5fde1b",
        "part": "whole"
       },
       "id": "b0862c3f-e92f-46cf-a805-b6958757206a"
      }
     }
    },
    "526f8bc4-8cc9-4440-b14d-18c96d174d5a": {
     "id": "526f8bc4-8cc9-4440-b14d-18c96d174d5a",
     "prev": "318464ce-d517-4e5d-8d58-46342d2bad7a",
     "regions": {
      "bc15ea62-3c87-4794-9e1a-ea78b07be347": {
       "attrs": {
        "height": 0.8,
        "width": 0.8,
        "x": 0.1,
        "y": 0.1
       },
       "content": {
        "cell": "8b63c089-d913-4ba4-8e23-a9d0ca546edf",
        "part": "whole"
       },
       "id": "bc15ea62-3c87-4794-9e1a-ea78b07be347"
      }
     }
    },
    "57e0be67-51a4-49a7-8dfd-2e7fde1e6de0": {
     "id": "57e0be67-51a4-49a7-8dfd-2e7fde1e6de0",
     "prev": "da626a57-6440-4d9d-b6b4-f6be6014d897",
     "regions": {
      "47cef9d1-807a-4874-8431-766281c766c0": {
       "attrs": {
        "height": 0.8,
        "width": 0.8,
        "x": 0.1,
        "y": 0.1
       },
       "content": {
        "cell": "f49ca7ab-e161-4cee-ba91-b46cd66c95bc",
        "part": "whole"
       },
       "id": "47cef9d1-807a-4874-8431-766281c766c0"
      }
     }
    },
    "5c618de6-0d7f-4cb7-a611-1f5781cb2edd": {
     "id": "5c618de6-0d7f-4cb7-a611-1f5781cb2edd",
     "prev": "620a889c-8dbf-4958-bc5c-7e7928e7433f",
     "regions": {
      "e261081a-709f-44bd-b6cf-974c2346d4c2": {
       "attrs": {
        "height": 0.8,
        "width": 0.8,
        "x": 0.1,
        "y": 0.1
       },
       "content": {
        "cell": "6187c8b2-c470-459a-a90c-ac84685010e9",
        "part": "whole"
       },
       "id": "e261081a-709f-44bd-b6cf-974c2346d4c2"
      }
     }
    },
    "5e8a7ca8-e9c8-4486-9321-ad7c4b0beed2": {
     "id": "5e8a7ca8-e9c8-4486-9321-ad7c4b0beed2",
     "prev": "ccd0265c-ac6a-445c-93cb-4c5a48106151",
     "regions": {
      "e80d8cc1-ed92-48cd-85dd-c80b8f0827cd": {
       "attrs": {
        "height": 0.8,
        "width": 0.8,
        "x": 0.1,
        "y": 0.1
       },
       "content": {
        "cell": "0e250ff0-07d1-47c5-9d97-9125086249e1",
        "part": "whole"
       },
       "id": "e80d8cc1-ed92-48cd-85dd-c80b8f0827cd"
      }
     }
    },
    "5f67e6e9-2818-4cb5-adbc-afbc5b7e5a2c": {
     "id": "5f67e6e9-2818-4cb5-adbc-afbc5b7e5a2c",
     "prev": "21ca127e-2fc9-43b6-82bb-34530d2fc4d1",
     "regions": {
      "411329ff-96e5-4881-afaf-a349191fabfa": {
       "attrs": {
        "height": 0.8,
        "width": 0.8,
        "x": 0.1,
        "y": 0.1
       },
       "content": {
        "cell": "5e9f354d-9c97-4451-901a-4e570b778b36",
        "part": "whole"
       },
       "id": "411329ff-96e5-4881-afaf-a349191fabfa"
      }
     }
    },
    "620a889c-8dbf-4958-bc5c-7e7928e7433f": {
     "id": "620a889c-8dbf-4958-bc5c-7e7928e7433f",
     "prev": "1f775d54-88a0-4ad8-9bf3-7628cbf3d21a",
     "regions": {
      "1facf7e9-d337-4416-b88c-c14dd73c4c91": {
       "attrs": {
        "height": 0.8,
        "width": 0.8,
        "x": 0.1,
        "y": 0.1
       },
       "content": {
        "cell": "c34d7860-0b23-42a3-82d8-514d66439d6e",
        "part": "whole"
       },
       "id": "1facf7e9-d337-4416-b88c-c14dd73c4c91"
      }
     }
    },
    "643f8713-18ea-4860-8466-c2c472b21874": {
     "id": "643f8713-18ea-4860-8466-c2c472b21874",
     "prev": "74df36a2-f1fa-4632-8312-34075a6cdee1",
     "regions": {
      "011e155c-a5db-4b44-ab45-918b79feda9c": {
       "attrs": {
        "height": 0.8,
        "width": 0.8,
        "x": 0.1,
        "y": 0.1
       },
       "content": {
        "cell": "aa15db6c-9227-4b2c-bdae-ee941c6dcab0",
        "part": "whole"
       },
       "id": "011e155c-a5db-4b44-ab45-918b79feda9c"
      }
     }
    },
    "64550f3e-93b8-4929-864f-0e94850753c5": {
     "id": "64550f3e-93b8-4929-864f-0e94850753c5",
     "prev": "9bbb0b6e-f2b7-4891-8791-af246419a974",
     "regions": {
      "3ea35cb5-8c77-4c10-8632-11d47e6b496b": {
       "attrs": {
        "height": 0.8,
        "width": 0.8,
        "x": 0.1,
        "y": 0.1
       },
       "content": {
        "cell": "69e7e68d-eb10-4e89-a936-2b8656ef9c9b",
        "part": "whole"
       },
       "id": "3ea35cb5-8c77-4c10-8632-11d47e6b496b"
      }
     }
    },
    "65f7ab2f-82a2-4439-948a-dd15c32adbc9": {
     "id": "65f7ab2f-82a2-4439-948a-dd15c32adbc9",
     "prev": "c60ee936-5768-4df0-9d2a-18ff1c63e9c5",
     "regions": {
      "e543707d-4c64-4d54-8a35-3530c975dad6": {
       "attrs": {
        "height": 0.8,
        "width": 0.8,
        "x": 0.1,
        "y": 0.1
       },
       "content": {
        "cell": "3f008c9f-c434-4cbb-91f7-5daf3ff44376",
        "part": "whole"
       },
       "id": "e543707d-4c64-4d54-8a35-3530c975dad6"
      }
     }
    },
    "6639d12a-0506-404c-8b21-c9ad6e2c6d35": {
     "id": "6639d12a-0506-404c-8b21-c9ad6e2c6d35",
     "prev": "1f6aeda1-d825-4b4a-9127-69f1bc009dc2",
     "regions": {
      "e3747c17-f2d6-4203-92c7-ef48c9f9582c": {
       "attrs": {
        "height": 0.8,
        "width": 0.8,
        "x": 0.1,
        "y": 0.1
       },
       "content": {
        "cell": "52936c6f-5dca-4c6a-8bc7-2d4cb39d7363",
        "part": "whole"
       },
       "id": "e3747c17-f2d6-4203-92c7-ef48c9f9582c"
      }
     }
    },
    "66905ed6-c9f6-43ff-ace9-6b050a08890b": {
     "id": "66905ed6-c9f6-43ff-ace9-6b050a08890b",
     "prev": "fa7b1ed1-6393-41df-8ddf-e8cdd946ad0a",
     "regions": {
      "1863e9d5-c186-415d-a8f2-7e0ff8c29197": {
       "attrs": {
        "height": 0.8,
        "width": 0.8,
        "x": 0.1,
        "y": 0.1
       },
       "content": {
        "cell": "73da587d-9d81-468a-b5ef-5fc7820e829a",
        "part": "whole"
       },
       "id": "1863e9d5-c186-415d-a8f2-7e0ff8c29197"
      }
     }
    },
    "66bef383-1d2c-4a89-b934-5ac2443a2928": {
     "id": "66bef383-1d2c-4a89-b934-5ac2443a2928",
     "prev": "caf363d5-0d5b-4e4e-92e4-52915cc5e03b",
     "regions": {
      "15ab9a78-a40f-4fce-a2ff-a6034c253558": {
       "attrs": {
        "height": 0.8,
        "width": 0.8,
        "x": 0.1,
        "y": 0.1
       },
       "content": {
        "cell": "f8439204-e435-487b-b91c-3d3016cb5f45",
        "part": "whole"
       },
       "id": "15ab9a78-a40f-4fce-a2ff-a6034c253558"
      }
     }
    },
    "68caf88d-5d89-49ae-b88c-e376a74cd1d0": {
     "id": "68caf88d-5d89-49ae-b88c-e376a74cd1d0",
     "prev": "8ce14d90-6a53-44e9-a620-9c57f48161e9",
     "regions": {
      "7b748bee-08eb-4a5c-a60e-971d0a00ddb4": {
       "attrs": {
        "height": 0.8,
        "width": 0.8,
        "x": 0.1,
        "y": 0.1
       },
       "content": {
        "cell": "d068912f-73b7-4ffb-9935-c3395b707962",
        "part": "whole"
       },
       "id": "7b748bee-08eb-4a5c-a60e-971d0a00ddb4"
      }
     }
    },
    "6ac4c074-0253-4e27-bbcd-d59bca5c3164": {
     "id": "6ac4c074-0253-4e27-bbcd-d59bca5c3164",
     "prev": "be72da2a-7317-47cd-aab5-7b81cb299c9e",
     "regions": {
      "3a910b2c-9aa8-4cbf-b594-198fda0d2ef9": {
       "attrs": {
        "height": 0.8,
        "width": 0.8,
        "x": 0.1,
        "y": 0.1
       },
       "content": {
        "cell": "92c27ea2-9cfb-445d-9e9a-1fcf424d590d",
        "part": "whole"
       },
       "id": "3a910b2c-9aa8-4cbf-b594-198fda0d2ef9"
      }
     }
    },
    "6c86e3fa-8fcd-4dd8-b387-f166923a5bab": {
     "id": "6c86e3fa-8fcd-4dd8-b387-f166923a5bab",
     "prev": "c48c75b0-26a6-4ba9-8fda-f4937ac39e8b",
     "regions": {
      "8c6aa529-eba4-4202-800e-c684442323ce": {
       "attrs": {
        "height": 0.8,
        "width": 0.8,
        "x": 0.1,
        "y": 0.1
       },
       "content": {
        "cell": "c8699867-289c-463c-b17c-975fb442c410",
        "part": "whole"
       },
       "id": "8c6aa529-eba4-4202-800e-c684442323ce"
      }
     }
    },
    "6d364dba-e390-4332-bb8f-ca281e5b3f4d": {
     "id": "6d364dba-e390-4332-bb8f-ca281e5b3f4d",
     "prev": "8b2ced14-2bd8-4728-a7da-64d9914317a0",
     "regions": {
      "a7b3b1d0-bbd0-4498-97b8-849d43d7dfd0": {
       "attrs": {
        "height": 0.8,
        "width": 0.8,
        "x": 0.1,
        "y": 0.1
       },
       "content": {
        "cell": "82b5f17d-b08f-4860-9290-1ca0ff17f0ab",
        "part": "whole"
       },
       "id": "a7b3b1d0-bbd0-4498-97b8-849d43d7dfd0"
      }
     }
    },
    "6f41d454-e71d-4932-9013-8bc80896cee1": {
     "id": "6f41d454-e71d-4932-9013-8bc80896cee1",
     "prev": "befaac73-5840-4c88-85c5-04e556b04c47",
     "regions": {
      "59b9d141-ca94-49ab-ae6a-e64cbaca9891": {
       "attrs": {
        "height": 0.8,
        "width": 0.8,
        "x": 0.1,
        "y": 0.1
       },
       "content": {
        "cell": "6e851657-0b46-4834-b091-1e7d8b7abec9",
        "part": "whole"
       },
       "id": "59b9d141-ca94-49ab-ae6a-e64cbaca9891"
      }
     }
    },
    "74df36a2-f1fa-4632-8312-34075a6cdee1": {
     "id": "74df36a2-f1fa-4632-8312-34075a6cdee1",
     "prev": "25587155-ca13-4eca-a635-c1695345a3d6",
     "regions": {
      "76cf4e49-d20d-42e8-be88-665d083ceeff": {
       "attrs": {
        "height": 0.8,
        "width": 0.8,
        "x": 0.1,
        "y": 0.1
       },
       "content": {
        "cell": "1e5f4d2a-5515-43b7-b974-438cf8e10c2e",
        "part": "whole"
       },
       "id": "76cf4e49-d20d-42e8-be88-665d083ceeff"
      }
     }
    },
    "76c1b15d-f874-492a-b259-d727e63f0832": {
     "id": "76c1b15d-f874-492a-b259-d727e63f0832",
     "prev": "8f019e16-2f75-4ee0-a932-4b99f05d7a29",
     "regions": {
      "23123d5f-7afe-4ce1-b7d4-6afd36bd6e0a": {
       "attrs": {
        "height": 0.8,
        "width": 0.8,
        "x": 0.1,
        "y": 0.1
       },
       "content": {
        "cell": "307b8900-a733-418c-9761-6d70c756c26a",
        "part": "whole"
       },
       "id": "23123d5f-7afe-4ce1-b7d4-6afd36bd6e0a"
      }
     }
    },
    "7a3eaf49-af5c-47db-b1d1-63802a917ee8": {
     "id": "7a3eaf49-af5c-47db-b1d1-63802a917ee8",
     "prev": "4cba0752-e249-4820-9ccb-432b9c55d772",
     "regions": {
      "4aeb580e-fea0-4ae9-9e92-5b6888e0e1d1": {
       "attrs": {
        "height": 0.8,
        "width": 0.8,
        "x": 0.1,
        "y": 0.1
       },
       "content": {
        "cell": "3440411b-0cd7-464e-9109-939c95b915d6",
        "part": "whole"
       },
       "id": "4aeb580e-fea0-4ae9-9e92-5b6888e0e1d1"
      }
     }
    },
    "7aa8363a-b51e-4e3c-a481-dbe805c7ffa6": {
     "id": "7aa8363a-b51e-4e3c-a481-dbe805c7ffa6",
     "prev": "3f3e515d-4429-45e8-95ee-d1b50bd977b6",
     "regions": {
      "03892f26-12c2-4ef1-8058-bd1c6238dd71": {
       "attrs": {
        "height": 0.8,
        "width": 0.8,
        "x": 0.1,
        "y": 0.1
       },
       "content": {
        "cell": "ebf94fff-6fc4-4234-85ff-2ed9f540373a",
        "part": "whole"
       },
       "id": "03892f26-12c2-4ef1-8058-bd1c6238dd71"
      }
     }
    },
    "7bc1287e-2e32-4bb9-8d1e-fbc25dc14420": {
     "id": "7bc1287e-2e32-4bb9-8d1e-fbc25dc14420",
     "prev": "5f67e6e9-2818-4cb5-adbc-afbc5b7e5a2c",
     "regions": {
      "bfa935f0-e37f-4867-9b80-936e79473c25": {
       "attrs": {
        "height": 0.8,
        "width": 0.8,
        "x": 0.1,
        "y": 0.1
       },
       "content": {
        "cell": "3f18bb32-cccb-4480-9a64-0bc9f5bd97c1",
        "part": "whole"
       },
       "id": "bfa935f0-e37f-4867-9b80-936e79473c25"
      }
     }
    },
    "7e4a43b7-1b34-499d-a8e3-69eb9fee54ce": {
     "id": "7e4a43b7-1b34-499d-a8e3-69eb9fee54ce",
     "prev": "3fc1681b-172b-46c5-9b90-0dc7550f7940",
     "regions": {
      "29a6ee6c-b9a7-4c69-afc0-1510540738e5": {
       "attrs": {
        "height": 0.8,
        "width": 0.8,
        "x": 0.1,
        "y": 0.1
       },
       "content": {
        "cell": "0fffe06b-10e4-41eb-8e6e-7c652f361cbf",
        "part": "whole"
       },
       "id": "29a6ee6c-b9a7-4c69-afc0-1510540738e5"
      }
     }
    },
    "7eac6a6d-fcdb-4da4-9f2e-704f7a9e00e9": {
     "id": "7eac6a6d-fcdb-4da4-9f2e-704f7a9e00e9",
     "prev": "158fe7d0-553d-4d46-8898-41b2716dfd8d",
     "regions": {
      "9d324a12-a36b-471f-98c9-a36390b613cb": {
       "attrs": {
        "height": 0.8,
        "width": 0.8,
        "x": 0.1,
        "y": 0.1
       },
       "content": {
        "cell": "71d15ed1-649b-4241-bf03-cadb45c5e1fe",
        "part": "whole"
       },
       "id": "9d324a12-a36b-471f-98c9-a36390b613cb"
      }
     }
    },
    "843d399c-b39f-4c8c-85f0-501a529ceacc": {
     "id": "843d399c-b39f-4c8c-85f0-501a529ceacc",
     "prev": "cfeb8782-baa1-4880-9f24-c3a477fb1b68",
     "regions": {
      "39284e49-655d-49ad-b3c8-5a7c10895026": {
       "attrs": {
        "height": 0.8,
        "width": 0.8,
        "x": 0.1,
        "y": 0.1
       },
       "content": {
        "cell": "5f3e807d-b2ab-4e32-986d-c8a877f259e7",
        "part": "whole"
       },
       "id": "39284e49-655d-49ad-b3c8-5a7c10895026"
      }
     }
    },
    "86d46456-c281-4f1b-b3a1-7e6928e34209": {
     "id": "86d46456-c281-4f1b-b3a1-7e6928e34209",
     "prev": "03a78d3e-84fa-408e-bf00-309379534488",
     "regions": {
      "dd1179e2-2fd1-4c21-9bf8-f8422f4e1500": {
       "attrs": {
        "height": 0.8,
        "width": 0.8,
        "x": 0.1,
        "y": 0.1
       },
       "content": {
        "cell": "4b267af7-264f-409d-96ea-bc01925dd93a",
        "part": "whole"
       },
       "id": "dd1179e2-2fd1-4c21-9bf8-f8422f4e1500"
      }
     }
    },
    "8b258c6f-cc2f-427e-bdf3-ca06bf57063f": {
     "id": "8b258c6f-cc2f-427e-bdf3-ca06bf57063f",
     "prev": "29fc1f03-b7f3-41cb-be10-06b24b26dede",
     "regions": {
      "da01f9af-e6a0-4c4e-9e98-3fd3fdfed679": {
       "attrs": {
        "height": 0.8,
        "width": 0.8,
        "x": 0.1,
        "y": 0.1
       },
       "content": {
        "cell": "7ce06778-8ba9-4053-94eb-db0af5385a39",
        "part": "whole"
       },
       "id": "da01f9af-e6a0-4c4e-9e98-3fd3fdfed679"
      }
     }
    },
    "8b2ced14-2bd8-4728-a7da-64d9914317a0": {
     "id": "8b2ced14-2bd8-4728-a7da-64d9914317a0",
     "prev": "6639d12a-0506-404c-8b21-c9ad6e2c6d35",
     "regions": {
      "50ff0223-35f1-463b-b202-8ff4b8dde3fa": {
       "attrs": {
        "height": 0.8,
        "width": 0.8,
        "x": 0.1,
        "y": 0.1
       },
       "content": {
        "cell": "2a921012-bbca-46ae-96e5-7fe4fc0efb67",
        "part": "whole"
       },
       "id": "50ff0223-35f1-463b-b202-8ff4b8dde3fa"
      }
     }
    },
    "8ce14d90-6a53-44e9-a620-9c57f48161e9": {
     "id": "8ce14d90-6a53-44e9-a620-9c57f48161e9",
     "prev": "0df0b24b-bef0-4d7c-a577-dce262071bd9",
     "regions": {
      "5f6ed856-9015-478c-9ead-48493f38a1d6": {
       "attrs": {
        "height": 0.8,
        "width": 0.8,
        "x": 0.1,
        "y": 0.1
       },
       "content": {
        "cell": "c8efe021-34f6-4c90-8b53-e7b2e42e5939",
        "part": "whole"
       },
       "id": "5f6ed856-9015-478c-9ead-48493f38a1d6"
      }
     }
    },
    "8f019e16-2f75-4ee0-a932-4b99f05d7a29": {
     "id": "8f019e16-2f75-4ee0-a932-4b99f05d7a29",
     "prev": "5e8a7ca8-e9c8-4486-9321-ad7c4b0beed2",
     "regions": {
      "9fa0d2ff-cd3a-485a-8b80-74f2db9195ee": {
       "attrs": {
        "height": 0.8,
        "width": 0.8,
        "x": 0.1,
        "y": 0.1
       },
       "content": {
        "cell": "07699500-d57d-42e8-9c34-759eb057dba9",
        "part": "whole"
       },
       "id": "9fa0d2ff-cd3a-485a-8b80-74f2db9195ee"
      }
     }
    },
    "90531b7a-49fc-418e-9fd6-3deda81de81a": {
     "id": "90531b7a-49fc-418e-9fd6-3deda81de81a",
     "prev": "13db7776-8564-4dce-b4f0-251441ccda14",
     "regions": {
      "d54f4a36-f1f0-46cc-ad16-c779bbe1da16": {
       "attrs": {
        "height": 0.8,
        "width": 0.8,
        "x": 0.1,
        "y": 0.1
       },
       "content": {
        "cell": "4e0c6a9b-ccdc-40f7-b550-153f97a8fe44",
        "part": "whole"
       },
       "id": "d54f4a36-f1f0-46cc-ad16-c779bbe1da16"
      }
     }
    },
    "90bd60fb-71d9-4746-8f32-000e2a72c5f7": {
     "id": "90bd60fb-71d9-4746-8f32-000e2a72c5f7",
     "prev": "bace98ff-dc1b-4726-85d2-de3bdcce920b",
     "regions": {
      "75f077fe-96c5-4df5-b581-f5f8da2e67b1": {
       "attrs": {
        "height": 0.8,
        "width": 0.8,
        "x": 0.1,
        "y": 0.1
       },
       "content": {
        "cell": "b07b7a7b-1e86-4741-a4e2-753319a5de57",
        "part": "whole"
       },
       "id": "75f077fe-96c5-4df5-b581-f5f8da2e67b1"
      }
     }
    },
    "9244ccb5-5a02-4918-b600-01c23bd3f824": {
     "id": "9244ccb5-5a02-4918-b600-01c23bd3f824",
     "prev": "9dbf3d9f-134e-4b4b-b2cf-18c4c6d80f93",
     "regions": {
      "37377dc8-9051-45d0-82f6-7f65e6236cf8": {
       "attrs": {
        "height": 0.8,
        "width": 0.8,
        "x": 0.1,
        "y": 0.1
       },
       "content": {
        "cell": "0207fd58-ace3-427d-812e-3c5a619db856",
        "part": "whole"
       },
       "id": "37377dc8-9051-45d0-82f6-7f65e6236cf8"
      }
     }
    },
    "931a842c-2078-4711-a638-9c80ac279fd3": {
     "id": "931a842c-2078-4711-a638-9c80ac279fd3",
     "prev": "019040a2-7f2d-41b2-9ca9-85f6500d2996",
     "regions": {
      "f88d67a2-7525-4045-aac0-7fff0203008e": {
       "attrs": {
        "height": 0.8,
        "width": 0.8,
        "x": 0.1,
        "y": 0.1
       },
       "content": {
        "cell": "27828f12-9d3b-406b-82f1-b5c09a40d411",
        "part": "whole"
       },
       "id": "f88d67a2-7525-4045-aac0-7fff0203008e"
      }
     }
    },
    "93b9a252-e9fb-4f25-8cf7-d93b4057e601": {
     "id": "93b9a252-e9fb-4f25-8cf7-d93b4057e601",
     "prev": "7aa8363a-b51e-4e3c-a481-dbe805c7ffa6",
     "regions": {
      "11a86f1b-355b-43e4-b6d2-2a896ddb57be": {
       "attrs": {
        "height": 0.8,
        "width": 0.8,
        "x": 0.1,
        "y": 0.1
       },
       "content": {
        "cell": "10622ff0-93d6-4f8d-a62e-862b8510a2c6",
        "part": "whole"
       },
       "id": "11a86f1b-355b-43e4-b6d2-2a896ddb57be"
      }
     }
    },
    "94f0d3bb-0aa4-412f-9045-8d35eae44fc6": {
     "id": "94f0d3bb-0aa4-412f-9045-8d35eae44fc6",
     "prev": "ee6daaf0-1f00-49f4-8317-ef81b267be9a",
     "regions": {
      "693d84ab-db9d-4207-950a-a264dadca887": {
       "attrs": {
        "height": 0.8,
        "width": 0.8,
        "x": 0.1,
        "y": 0.1
       },
       "content": {
        "cell": "12a6ee52-d55d-4522-a51f-26c9513ea79a",
        "part": "whole"
       },
       "id": "693d84ab-db9d-4207-950a-a264dadca887"
      }
     }
    },
    "977ab6e0-8a84-423a-9b5e-f1fe0feaec6a": {
     "id": "977ab6e0-8a84-423a-9b5e-f1fe0feaec6a",
     "prev": "0b335c62-cbb5-40ce-9f9d-77d9384e9496",
     "regions": {
      "ca0189d0-fe29-4c55-a464-32096590c455": {
       "attrs": {
        "height": 0.8,
        "width": 0.8,
        "x": 0.1,
        "y": 0.1
       },
       "content": {
        "cell": "9141c546-4cb4-4bd6-b87b-2b00e1e5589a",
        "part": "whole"
       },
       "id": "ca0189d0-fe29-4c55-a464-32096590c455"
      }
     }
    },
    "98ea7f48-2d3c-4a2e-8a56-8f89108535b4": {
     "id": "98ea7f48-2d3c-4a2e-8a56-8f89108535b4",
     "prev": "b453a0fc-b790-4cab-ad55-73cffb9f9b78",
     "regions": {
      "661e5419-259c-4fa0-84ae-4a7a5803b2a5": {
       "attrs": {
        "height": 0.8,
        "width": 0.8,
        "x": 0.1,
        "y": 0.1
       },
       "content": {
        "cell": "0ad08e2f-a401-47ab-8a54-1866b2981b80",
        "part": "whole"
       },
       "id": "661e5419-259c-4fa0-84ae-4a7a5803b2a5"
      }
     }
    },
    "9a2576bc-dc5d-41a6-864e-07eab8de2376": {
     "id": "9a2576bc-dc5d-41a6-864e-07eab8de2376",
     "prev": "d7d51352-a5d4-45b7-9d82-2a981090bd67",
     "regions": {
      "f47f2c7b-0b50-4cca-b00a-a954ed0a40f2": {
       "attrs": {
        "height": 0.8,
        "width": 0.8,
        "x": 0.1,
        "y": 0.1
       },
       "content": {
        "cell": "fa7d5007-e04c-4b5c-a778-9ed3bf319109",
        "part": "whole"
       },
       "id": "f47f2c7b-0b50-4cca-b00a-a954ed0a40f2"
      }
     }
    },
    "9bbb0b6e-f2b7-4891-8791-af246419a974": {
     "id": "9bbb0b6e-f2b7-4891-8791-af246419a974",
     "prev": "643f8713-18ea-4860-8466-c2c472b21874",
     "regions": {
      "f8e94bcc-0d28-47f5-b47c-ae1444b6dbb1": {
       "attrs": {
        "height": 0.8,
        "width": 0.8,
        "x": 0.1,
        "y": 0.1
       },
       "content": {
        "cell": "37d834c8-a594-4f0a-9a84-191837d8424a",
        "part": "whole"
       },
       "id": "f8e94bcc-0d28-47f5-b47c-ae1444b6dbb1"
      }
     }
    },
    "9c41bbc5-e12a-424a-b5de-de9f3e56263f": {
     "id": "9c41bbc5-e12a-424a-b5de-de9f3e56263f",
     "prev": "e994a207-3400-4eaf-aba0-6f7ff2b7bc5d",
     "regions": {
      "a832d64c-d94c-4f4d-be72-7fddb1ea2654": {
       "attrs": {
        "height": 0.8,
        "width": 0.8,
        "x": 0.1,
        "y": 0.1
       },
       "content": {
        "cell": "a87ec383-1c3e-45c9-ae92-09723fd623d6",
        "part": "whole"
       },
       "id": "a832d64c-d94c-4f4d-be72-7fddb1ea2654"
      }
     }
    },
    "9dbf3d9f-134e-4b4b-b2cf-18c4c6d80f93": {
     "id": "9dbf3d9f-134e-4b4b-b2cf-18c4c6d80f93",
     "prev": "5c618de6-0d7f-4cb7-a611-1f5781cb2edd",
     "regions": {
      "9c7385ee-f1da-4ac8-9e82-a86c4a9d67f5": {
       "attrs": {
        "height": 0.8,
        "width": 0.8,
        "x": 0.1,
        "y": 0.1
       },
       "content": {
        "cell": "b04abfa2-4633-405a-a269-c635b18ee261",
        "part": "whole"
       },
       "id": "9c7385ee-f1da-4ac8-9e82-a86c4a9d67f5"
      }
     }
    },
    "a0aa81b8-f150-41ef-b17d-1e853d131028": {
     "id": "a0aa81b8-f150-41ef-b17d-1e853d131028",
     "prev": "3559c760-7182-4aae-81d0-11e2d39883c6",
     "regions": {
      "f42aa89d-5548-4d48-8b8d-32d2545ead7b": {
       "attrs": {
        "height": 0.8,
        "width": 0.8,
        "x": 0.1,
        "y": 0.1
       },
       "content": {
        "cell": "c3ca0c91-cf33-44ef-94dc-8ed3170cfc19",
        "part": "whole"
       },
       "id": "f42aa89d-5548-4d48-8b8d-32d2545ead7b"
      }
     }
    },
    "a6515a55-bd2d-46aa-ad78-800029f0792a": {
     "id": "a6515a55-bd2d-46aa-ad78-800029f0792a",
     "prev": "11c6cdfa-d7e0-4e0a-baa9-67c520aba944",
     "regions": {
      "092d4184-688b-460c-ad9f-9667c5f5d5e3": {
       "attrs": {
        "height": 0.8,
        "width": 0.8,
        "x": 0.1,
        "y": 0.1
       },
       "content": {
        "cell": "18460c50-cec4-43b2-87e4-211266f0446a",
        "part": "whole"
       },
       "id": "092d4184-688b-460c-ad9f-9667c5f5d5e3"
      }
     }
    },
    "a74123d3-06c0-4795-84cf-22e05312613e": {
     "id": "a74123d3-06c0-4795-84cf-22e05312613e",
     "prev": "c724fab9-8341-448d-a651-db61d64b2feb",
     "regions": {
      "c98aab03-c079-44d5-ac39-8087dddc57aa": {
       "attrs": {
        "height": 0.8,
        "width": 0.8,
        "x": 0.1,
        "y": 0.1
       },
       "content": {
        "cell": "2674e0c5-6dca-4c9f-b984-fe8a981031ad",
        "part": "whole"
       },
       "id": "c98aab03-c079-44d5-ac39-8087dddc57aa"
      }
     }
    },
    "aefac063-78e5-480b-86bb-aab09a6a518a": {
     "id": "aefac063-78e5-480b-86bb-aab09a6a518a",
     "prev": "23891a53-abb6-4af8-8e49-f5e6a390fdb2",
     "regions": {
      "6b76663a-810a-4464-bd96-b9f14f9181b8": {
       "attrs": {
        "height": 0.8,
        "width": 0.8,
        "x": 0.1,
        "y": 0.1
       },
       "content": {
        "cell": "7d5fc738-da5d-4299-927c-bf49a8b363ed",
        "part": "whole"
       },
       "id": "6b76663a-810a-4464-bd96-b9f14f9181b8"
      }
     }
    },
    "b453a0fc-b790-4cab-ad55-73cffb9f9b78": {
     "id": "b453a0fc-b790-4cab-ad55-73cffb9f9b78",
     "prev": "2c2ee873-a7b8-4f6d-8772-7a4653340459",
     "regions": {
      "932d228f-a316-40f7-bfaf-bb17e7553147": {
       "attrs": {
        "height": 0.8,
        "width": 0.8,
        "x": 0.1,
        "y": 0.1
       },
       "content": {
        "cell": "f0b2043e-d139-4167-8336-c3fb3794d54b",
        "part": "whole"
       },
       "id": "932d228f-a316-40f7-bfaf-bb17e7553147"
      }
     }
    },
    "b974958e-0ea7-4c02-b56a-477f6a932075": {
     "id": "b974958e-0ea7-4c02-b56a-477f6a932075",
     "prev": "bd039835-8b7f-4a1b-85ea-c45fcd20edbf",
     "regions": {
      "77454c7b-661d-43bd-ab6f-8e51711ef9b5": {
       "attrs": {
        "height": 0.8,
        "width": 0.8,
        "x": 0.1,
        "y": 0.1
       },
       "content": {
        "cell": "7c1b4143-f7f4-4205-b3c1-a8f9bfc56077",
        "part": "whole"
       },
       "id": "77454c7b-661d-43bd-ab6f-8e51711ef9b5"
      }
     }
    },
    "bace98ff-dc1b-4726-85d2-de3bdcce920b": {
     "id": "bace98ff-dc1b-4726-85d2-de3bdcce920b",
     "prev": "a6515a55-bd2d-46aa-ad78-800029f0792a",
     "regions": {
      "8c734257-5526-4870-a999-6ff7ef236eab": {
       "attrs": {
        "height": 0.8,
        "width": 0.8,
        "x": 0.1,
        "y": 0.1
       },
       "content": {
        "cell": "1dfad069-81d6-4e81-9bc8-1724b8c66e07",
        "part": "whole"
       },
       "id": "8c734257-5526-4870-a999-6ff7ef236eab"
      }
     }
    },
    "bc797342-199a-4426-90ad-8453392ff921": {
     "id": "bc797342-199a-4426-90ad-8453392ff921",
     "prev": "7a3eaf49-af5c-47db-b1d1-63802a917ee8",
     "regions": {
      "51376c7b-465f-46da-823d-19ca5f7dff4b": {
       "attrs": {
        "height": 0.8,
        "width": 0.8,
        "x": 0.1,
        "y": 0.1
       },
       "content": {
        "cell": "d383b5c4-be25-4fb2-b840-5d72f086ebc0",
        "part": "whole"
       },
       "id": "51376c7b-465f-46da-823d-19ca5f7dff4b"
      }
     }
    },
    "bd039835-8b7f-4a1b-85ea-c45fcd20edbf": {
     "id": "bd039835-8b7f-4a1b-85ea-c45fcd20edbf",
     "prev": "8b258c6f-cc2f-427e-bdf3-ca06bf57063f",
     "regions": {
      "1cdaed10-f8c0-4ca4-99f5-58eeb7f8ad9d": {
       "attrs": {
        "height": 0.8,
        "width": 0.8,
        "x": 0.1,
        "y": 0.1
       },
       "content": {
        "cell": "11423590-385c-4098-a68c-cf2e3432bdb9",
        "part": "whole"
       },
       "id": "1cdaed10-f8c0-4ca4-99f5-58eeb7f8ad9d"
      }
     }
    },
    "be14a2af-2c5d-4d52-bff4-eac26b3a9d5a": {
     "id": "be14a2af-2c5d-4d52-bff4-eac26b3a9d5a",
     "prev": "ef711737-af94-417e-ac8e-166c02e7b34d",
     "regions": {
      "d1c19913-1e57-40c2-a4d4-933d97722fb2": {
       "attrs": {
        "height": 0.8,
        "width": 0.8,
        "x": 0.1,
        "y": 0.1
       },
       "content": {
        "cell": "2c69de8c-9cd7-4e4d-bb6a-170b5cf21622",
        "part": "whole"
       },
       "id": "d1c19913-1e57-40c2-a4d4-933d97722fb2"
      }
     }
    },
    "be5e8022-4165-486a-9160-a878957b54df": {
     "id": "be5e8022-4165-486a-9160-a878957b54df",
     "prev": "b974958e-0ea7-4c02-b56a-477f6a932075",
     "regions": {
      "a792a52d-8443-4049-a3c3-505abf0d4710": {
       "attrs": {
        "height": 0.8,
        "width": 0.8,
        "x": 0.1,
        "y": 0.1
       },
       "content": {
        "cell": "298622fc-019f-450d-afac-6ecefdff15f3",
        "part": "whole"
       },
       "id": "a792a52d-8443-4049-a3c3-505abf0d4710"
      }
     }
    },
    "be72da2a-7317-47cd-aab5-7b81cb299c9e": {
     "id": "be72da2a-7317-47cd-aab5-7b81cb299c9e",
     "prev": "3c2cc5b0-3c38-41ff-8d10-090c2dcd10b8",
     "regions": {
      "0152c691-dede-4803-9595-98f5bd03edf8": {
       "attrs": {
        "height": 0.8,
        "width": 0.8,
        "x": 0.1,
        "y": 0.1
       },
       "content": {
        "cell": "b3872a02-8651-42db-8df3-ad64214b31d9",
        "part": "whole"
       },
       "id": "0152c691-dede-4803-9595-98f5bd03edf8"
      }
     }
    },
    "befaac73-5840-4c88-85c5-04e556b04c47": {
     "id": "befaac73-5840-4c88-85c5-04e556b04c47",
     "prev": "90531b7a-49fc-418e-9fd6-3deda81de81a",
     "regions": {
      "c982a834-f4a0-41f5-8ee7-6deb94c7ad72": {
       "attrs": {
        "height": 0.8,
        "width": 0.8,
        "x": 0.1,
        "y": 0.1
       },
       "content": {
        "cell": "c2bb41cc-8392-4368-be2d-de6ddfd2b2e5",
        "part": "whole"
       },
       "id": "c982a834-f4a0-41f5-8ee7-6deb94c7ad72"
      }
     }
    },
    "bfc923df-60ac-4c05-957a-5f1e486c3983": {
     "id": "bfc923df-60ac-4c05-957a-5f1e486c3983",
     "prev": "9c41bbc5-e12a-424a-b5de-de9f3e56263f",
     "regions": {
      "c62e221c-c16a-4dd6-8000-8ef74465b0ae": {
       "attrs": {
        "height": 0.8,
        "width": 0.8,
        "x": 0.1,
        "y": 0.1
       },
       "content": {
        "cell": "f8c43cda-ad33-4e50-b2ee-d543355739b6",
        "part": "whole"
       },
       "id": "c62e221c-c16a-4dd6-8000-8ef74465b0ae"
      }
     }
    },
    "c0fa0f26-2c5b-4f41-8c61-0a4b645c8834": {
     "id": "c0fa0f26-2c5b-4f41-8c61-0a4b645c8834",
     "prev": "526f8bc4-8cc9-4440-b14d-18c96d174d5a",
     "regions": {
      "3d6487a1-6be6-4eb0-a6a5-8b3db18d33b3": {
       "attrs": {
        "height": 0.8,
        "width": 0.8,
        "x": 0.1,
        "y": 0.1
       },
       "content": {
        "cell": "570fb9d7-aed6-4ed6-b092-df3a46d85fad",
        "part": "whole"
       },
       "id": "3d6487a1-6be6-4eb0-a6a5-8b3db18d33b3"
      }
     }
    },
    "c48c75b0-26a6-4ba9-8fda-f4937ac39e8b": {
     "id": "c48c75b0-26a6-4ba9-8fda-f4937ac39e8b",
     "prev": "65f7ab2f-82a2-4439-948a-dd15c32adbc9",
     "regions": {
      "36b9576c-fc6c-440d-801c-df84d26af6d5": {
       "attrs": {
        "height": 0.8,
        "width": 0.8,
        "x": 0.1,
        "y": 0.1
       },
       "content": {
        "cell": "4810dd5d-5bdb-4ad5-a58b-b94120923802",
        "part": "whole"
       },
       "id": "36b9576c-fc6c-440d-801c-df84d26af6d5"
      }
     }
    },
    "c4d94d42-fd16-4793-8264-1e65b04017b0": {
     "id": "c4d94d42-fd16-4793-8264-1e65b04017b0",
     "prev": "06e9c92b-32df-42f1-9493-832fd34756f8",
     "regions": {
      "f8f8203d-8085-40e8-adce-dc2565041f5f": {
       "attrs": {
        "height": 0.8,
        "width": 0.8,
        "x": 0.1,
        "y": 0.1
       },
       "content": {
        "cell": "fa47bfdf-6be2-45d6-b1dd-f8ff77c9aab7",
        "part": "whole"
       },
       "id": "f8f8203d-8085-40e8-adce-dc2565041f5f"
      }
     }
    },
    "c60ee936-5768-4df0-9d2a-18ff1c63e9c5": {
     "id": "c60ee936-5768-4df0-9d2a-18ff1c63e9c5",
     "prev": "e933ce4b-ceea-4aa3-8cdb-36cbbb286a96",
     "regions": {
      "62024186-70ce-46dc-a763-325cc60cb2c6": {
       "attrs": {
        "height": 0.8,
        "width": 0.8,
        "x": 0.1,
        "y": 0.1
       },
       "content": {
        "cell": "5157c98b-de01-4896-b9d5-3a7f34b3c291",
        "part": "whole"
       },
       "id": "62024186-70ce-46dc-a763-325cc60cb2c6"
      }
     }
    },
    "c724fab9-8341-448d-a651-db61d64b2feb": {
     "id": "c724fab9-8341-448d-a651-db61d64b2feb",
     "prev": "dd61c370-2c56-4522-8e69-583c1a13bab1",
     "regions": {
      "738e7d40-0926-4291-850c-262754f664c8": {
       "attrs": {
        "height": 0.8,
        "width": 0.8,
        "x": 0.1,
        "y": 0.1
       },
       "content": {
        "cell": "c54aa88e-e1c7-4633-9c63-e7666c200035",
        "part": "whole"
       },
       "id": "738e7d40-0926-4291-850c-262754f664c8"
      }
     }
    },
    "ca4a4c57-37a8-4722-921b-1693b33e0272": {
     "id": "ca4a4c57-37a8-4722-921b-1693b33e0272",
     "prev": "3dc576c4-1e74-488e-9be7-4eab0e7eaa43",
     "regions": {
      "232b7f41-b36c-4f81-b2a8-c753f8eeb544": {
       "attrs": {
        "height": 0.8,
        "width": 0.8,
        "x": 0.1,
        "y": 0.1
       },
       "content": {
        "cell": "7595569e-f46c-47c0-8d0f-da2ca07afe18",
        "part": "whole"
       },
       "id": "232b7f41-b36c-4f81-b2a8-c753f8eeb544"
      }
     }
    },
    "caf363d5-0d5b-4e4e-92e4-52915cc5e03b": {
     "id": "caf363d5-0d5b-4e4e-92e4-52915cc5e03b",
     "prev": "bc797342-199a-4426-90ad-8453392ff921",
     "regions": {
      "0d68599a-9e03-42ab-9dd1-444b153fb9c5": {
       "attrs": {
        "height": 0.8,
        "width": 0.8,
        "x": 0.1,
        "y": 0.1
       },
       "content": {
        "cell": "f48665c3-ac23-4996-ad0a-8fcbba9c12f0",
        "part": "whole"
       },
       "id": "0d68599a-9e03-42ab-9dd1-444b153fb9c5"
      }
     }
    },
    "ccd0265c-ac6a-445c-93cb-4c5a48106151": {
     "id": "ccd0265c-ac6a-445c-93cb-4c5a48106151",
     "prev": "3040fd22-c976-4270-8ca9-5c62dc5295d7",
     "regions": {
      "e8f795c9-9ee3-496a-84af-eb217250eed2": {
       "attrs": {
        "height": 0.8,
        "width": 0.8,
        "x": 0.1,
        "y": 0.1
       },
       "content": {
        "cell": "8f67586b-b1d9-40fa-8cd2-8fac0674f238",
        "part": "whole"
       },
       "id": "e8f795c9-9ee3-496a-84af-eb217250eed2"
      }
     }
    },
    "cfeb8782-baa1-4880-9f24-c3a477fb1b68": {
     "id": "cfeb8782-baa1-4880-9f24-c3a477fb1b68",
     "prev": "11833ea5-8cc4-4b27-9a8f-e2313b7c75d5",
     "regions": {
      "f782eb07-ce0f-41f0-97ea-a1d688ae9f7b": {
       "attrs": {
        "height": 0.8,
        "width": 0.8,
        "x": 0.1,
        "y": 0.1
       },
       "content": {
        "cell": "8b97ad57-208c-4b0b-aeec-a7b00b305e9f",
        "part": "whole"
       },
       "id": "f782eb07-ce0f-41f0-97ea-a1d688ae9f7b"
      }
     }
    },
    "d615bccf-2c8b-49e9-a5ef-a8f8b5a98014": {
     "id": "d615bccf-2c8b-49e9-a5ef-a8f8b5a98014",
     "prev": "4210d644-9cdc-4979-a6ff-27ecf729848e",
     "regions": {
      "732eb404-9be5-4505-bcce-8da59d290cb6": {
       "attrs": {
        "height": 0.8,
        "width": 0.8,
        "x": 0.1,
        "y": 0.1
       },
       "content": {
        "cell": "d65f1d30-19ae-4338-97f1-db0cd2413c39",
        "part": "whole"
       },
       "id": "732eb404-9be5-4505-bcce-8da59d290cb6"
      }
     }
    },
    "d64fd208-c977-40b0-a55b-3bb61d8e35aa": {
     "id": "d64fd208-c977-40b0-a55b-3bb61d8e35aa",
     "prev": "dae00b1e-1883-4b9c-a9c6-6dd34e0f8114",
     "regions": {
      "3ccba4ad-3a0c-4ec7-94e3-f78914145df8": {
       "attrs": {
        "height": 0.8,
        "width": 0.8,
        "x": 0.1,
        "y": 0.1
       },
       "content": {
        "cell": "9309bef1-e972-4ed5-95a2-2c30cf8aea88",
        "part": "whole"
       },
       "id": "3ccba4ad-3a0c-4ec7-94e3-f78914145df8"
      }
     }
    },
    "d68998ec-ab70-45b0-8499-4da44592d181": {
     "id": "d68998ec-ab70-45b0-8499-4da44592d181",
     "prev": "7e4a43b7-1b34-499d-a8e3-69eb9fee54ce",
     "regions": {
      "27ece6b3-3346-48bf-bf54-def78286f517": {
       "attrs": {
        "height": 0.8,
        "width": 0.8,
        "x": 0.1,
        "y": 0.1
       },
       "content": {
        "cell": "7e91f969-a38b-40b9-9ea6-817f5cd987f5",
        "part": "whole"
       },
       "id": "27ece6b3-3346-48bf-bf54-def78286f517"
      }
     }
    },
    "d6ec88d3-7626-45d2-b560-a59f7da006ef": {
     "id": "d6ec88d3-7626-45d2-b560-a59f7da006ef",
     "prev": "d64fd208-c977-40b0-a55b-3bb61d8e35aa",
     "regions": {
      "dbf42836-a2e6-4f85-a551-82d238b9cd7e": {
       "attrs": {
        "height": 0.8,
        "width": 0.8,
        "x": 0.1,
        "y": 0.1
       },
       "content": {
        "cell": "289dd424-72a8-4851-bd6d-f82fc124f878",
        "part": "whole"
       },
       "id": "dbf42836-a2e6-4f85-a551-82d238b9cd7e"
      }
     }
    },
    "d7d51352-a5d4-45b7-9d82-2a981090bd67": {
     "id": "d7d51352-a5d4-45b7-9d82-2a981090bd67",
     "prev": null,
     "regions": {
      "c3adf8b3-b17a-4eab-bf38-dd5420ce0f09": {
       "attrs": {
        "height": 0.8,
        "width": 0.8,
        "x": 0.1,
        "y": 0.1
       },
       "content": {
        "cell": "755e49c3-ca97-41ce-84bb-89d2fd6f4ca4",
        "part": "whole"
       },
       "id": "c3adf8b3-b17a-4eab-bf38-dd5420ce0f09"
      }
     }
    },
    "da626a57-6440-4d9d-b6b4-f6be6014d897": {
     "id": "da626a57-6440-4d9d-b6b4-f6be6014d897",
     "prev": "10762029-8854-4a7f-a8ff-a78fd75fb18f",
     "regions": {
      "6da6a185-98c6-473f-8872-f8fa66f10eef": {
       "attrs": {
        "height": 0.8,
        "width": 0.8,
        "x": 0.1,
        "y": 0.1
       },
       "content": {
        "cell": "16e1438b-d3cd-41e9-b954-5c08fdec4aa6",
        "part": "whole"
       },
       "id": "6da6a185-98c6-473f-8872-f8fa66f10eef"
      }
     }
    },
    "dae00b1e-1883-4b9c-a9c6-6dd34e0f8114": {
     "id": "dae00b1e-1883-4b9c-a9c6-6dd34e0f8114",
     "prev": "64550f3e-93b8-4929-864f-0e94850753c5",
     "regions": {
      "e6794529-712c-48d6-aa54-3e3466c88380": {
       "attrs": {
        "height": 0.8,
        "width": 0.8,
        "x": 0.1,
        "y": 0.1
       },
       "content": {
        "cell": "7edbabe8-bf36-4ca7-86af-0f8d75eb48ee",
        "part": "whole"
       },
       "id": "e6794529-712c-48d6-aa54-3e3466c88380"
      }
     }
    },
    "dcc1240d-e5cc-4d67-9a52-30165feaaf65": {
     "id": "dcc1240d-e5cc-4d67-9a52-30165feaaf65",
     "prev": "4b76c634-c334-45e3-864d-31b602189efc",
     "regions": {
      "37d76d87-2c49-42c5-9024-2db275fbbd10": {
       "attrs": {
        "height": 0.8,
        "width": 0.8,
        "x": 0.1,
        "y": 0.1
       },
       "content": {
        "cell": "fa609476-1bf2-4619-a529-376ce1a56ee7",
        "part": "whole"
       },
       "id": "37d76d87-2c49-42c5-9024-2db275fbbd10"
      }
     }
    },
    "dd61c370-2c56-4522-8e69-583c1a13bab1": {
     "id": "dd61c370-2c56-4522-8e69-583c1a13bab1",
     "prev": "eb929828-fa98-4c2d-96cd-4072afe11ebf",
     "regions": {
      "c5e9f0e6-1625-4103-877c-ac3d36c6c1ab": {
       "attrs": {
        "height": 0.8,
        "width": 0.8,
        "x": 0.1,
        "y": 0.1
       },
       "content": {
        "cell": "b484ab67-cbbc-4672-be0e-8784cd2718e8",
        "part": "whole"
       },
       "id": "c5e9f0e6-1625-4103-877c-ac3d36c6c1ab"
      }
     }
    },
    "e0dc7249-2382-44d9-adc0-a3f8aae2ab44": {
     "id": "e0dc7249-2382-44d9-adc0-a3f8aae2ab44",
     "prev": "518f9675-ff26-4fdd-a7a1-cb6aef7d2469",
     "regions": {
      "0215fc01-0765-47f0-8a60-50735cb025fb": {
       "attrs": {
        "height": 0.8,
        "width": 0.8,
        "x": 0.1,
        "y": 0.1
       },
       "content": {
        "cell": "8ec31a63-ec46-4db8-aefb-578cffb994da",
        "part": "whole"
       },
       "id": "0215fc01-0765-47f0-8a60-50735cb025fb"
      }
     }
    },
    "e5164da9-1ef2-454e-b7eb-833abdcb2be5": {
     "id": "e5164da9-1ef2-454e-b7eb-833abdcb2be5",
     "prev": "2630a02c-9494-4cbc-b6f9-767e4c703c3a",
     "regions": {
      "3a5bdf81-1f59-4da6-a254-fd8ddea29536": {
       "attrs": {
        "height": 0.8,
        "width": 0.8,
        "x": 0.1,
        "y": 0.1
       },
       "content": {
        "cell": "55033908-dbf9-4ad3-a414-767073069f0e",
        "part": "whole"
       },
       "id": "3a5bdf81-1f59-4da6-a254-fd8ddea29536"
      }
     }
    },
    "e933ce4b-ceea-4aa3-8cdb-36cbbb286a96": {
     "id": "e933ce4b-ceea-4aa3-8cdb-36cbbb286a96",
     "prev": "0f14702a-9be0-4354-b850-f0be4bb9cdfe",
     "regions": {
      "e31ce689-9122-4c9c-94b6-c7dec3279390": {
       "attrs": {
        "height": 0.8,
        "width": 0.8,
        "x": 0.1,
        "y": 0.1
       },
       "content": {
        "cell": "39adfec8-bf76-4cb7-a948-31d817a8c500",
        "part": "whole"
       },
       "id": "e31ce689-9122-4c9c-94b6-c7dec3279390"
      }
     }
    },
    "e994a207-3400-4eaf-aba0-6f7ff2b7bc5d": {
     "id": "e994a207-3400-4eaf-aba0-6f7ff2b7bc5d",
     "prev": "094d0110-d69e-4e55-8f07-722e6ab88166",
     "regions": {
      "61dff296-20f1-484c-97a3-18af4fcffced": {
       "attrs": {
        "height": 0.8,
        "width": 0.8,
        "x": 0.1,
        "y": 0.1
       },
       "content": {
        "cell": "ab8d0d53-889e-48c7-9b5f-24dbfeb4930b",
        "part": "whole"
       },
       "id": "61dff296-20f1-484c-97a3-18af4fcffced"
      }
     }
    },
    "eb098f0e-e9e0-4705-94b9-8f919f8a4acb": {
     "id": "eb098f0e-e9e0-4705-94b9-8f919f8a4acb",
     "prev": "4808d562-80ec-4ed7-b8e0-b86d798bd0e5",
     "regions": {
      "fa31962a-ea2b-4022-8545-cc1961937e34": {
       "attrs": {
        "height": 0.8,
        "width": 0.8,
        "x": 0.1,
        "y": 0.1
       },
       "content": {
        "cell": "fd43f27e-7785-4c3c-8873-cb774f83b286",
        "part": "whole"
       },
       "id": "fa31962a-ea2b-4022-8545-cc1961937e34"
      }
     }
    },
    "eb6036d2-a8d6-4a8f-883e-c60decf24a03": {
     "id": "eb6036d2-a8d6-4a8f-883e-c60decf24a03",
     "prev": "3abf8b97-aca5-4015-9ad5-36e07c6f0f48",
     "regions": {
      "72694879-b5eb-4950-a2a2-00a2cb5c07d1": {
       "attrs": {
        "height": 0.8,
        "width": 0.8,
        "x": 0.1,
        "y": 0.1
       },
       "content": {
        "cell": "429bbb4c-9a71-4da4-b21f-9d71d95daf30",
        "part": "whole"
       },
       "id": "72694879-b5eb-4950-a2a2-00a2cb5c07d1"
      }
     }
    },
    "eb6609e5-1e87-4b8c-bab5-8461837f9d74": {
     "id": "eb6609e5-1e87-4b8c-bab5-8461837f9d74",
     "prev": "ca4a4c57-37a8-4722-921b-1693b33e0272",
     "regions": {
      "221676b8-c20f-4c07-a5eb-cc69bb490528": {
       "attrs": {
        "height": 0.8,
        "width": 0.8,
        "x": 0.1,
        "y": 0.1
       },
       "content": {
        "cell": "39bedd36-685f-4d13-879b-6e1d0b2f703b",
        "part": "whole"
       },
       "id": "221676b8-c20f-4c07-a5eb-cc69bb490528"
      }
     }
    },
    "eb929828-fa98-4c2d-96cd-4072afe11ebf": {
     "id": "eb929828-fa98-4c2d-96cd-4072afe11ebf",
     "prev": "86d46456-c281-4f1b-b3a1-7e6928e34209",
     "regions": {
      "5a565819-a626-4c4a-87f1-40772026ec0a": {
       "attrs": {
        "height": 0.8,
        "width": 0.8,
        "x": 0.1,
        "y": 0.1
       },
       "content": {
        "cell": "54f70dc6-16f8-4376-a57e-ff0905275d43",
        "part": "whole"
       },
       "id": "5a565819-a626-4c4a-87f1-40772026ec0a"
      }
     }
    },
    "ee6daaf0-1f00-49f4-8317-ef81b267be9a": {
     "id": "ee6daaf0-1f00-49f4-8317-ef81b267be9a",
     "prev": "eb6036d2-a8d6-4a8f-883e-c60decf24a03",
     "regions": {
      "4f0d12da-cb40-4b74-8cf9-3f5dfd1e191e": {
       "attrs": {
        "height": 0.8,
        "width": 0.8,
        "x": 0.1,
        "y": 0.1
       },
       "content": {
        "cell": "561f47a7-3742-4781-baf7-96461bb0c8ef",
        "part": "whole"
       },
       "id": "4f0d12da-cb40-4b74-8cf9-3f5dfd1e191e"
      }
     }
    },
    "ef711737-af94-417e-ac8e-166c02e7b34d": {
     "id": "ef711737-af94-417e-ac8e-166c02e7b34d",
     "prev": "2fbbdfe9-2613-45f7-8b2a-9ccc08d9bb41",
     "regions": {
      "35c1fff9-dd95-4df6-acb1-35182ad294e4": {
       "attrs": {
        "height": 0.8,
        "width": 0.8,
        "x": 0.1,
        "y": 0.1
       },
       "content": {
        "cell": "d723bd3c-50c8-4cd5-bad8-998435556cf2",
        "part": "whole"
       },
       "id": "35c1fff9-dd95-4df6-acb1-35182ad294e4"
      }
     }
    },
    "f0fd313d-9a2f-493a-9284-9b86e4156934": {
     "id": "f0fd313d-9a2f-493a-9284-9b86e4156934",
     "prev": "94f0d3bb-0aa4-412f-9045-8d35eae44fc6",
     "regions": {
      "29ccebb3-f3f5-4079-8a4f-b763bdc47be6": {
       "attrs": {
        "height": 0.8,
        "width": 0.8,
        "x": 0.1,
        "y": 0.1
       },
       "content": {
        "cell": "41e68fd6-7822-4c46-aa17-91e00aad2e9c",
        "part": "whole"
       },
       "id": "29ccebb3-f3f5-4079-8a4f-b763bdc47be6"
      }
     }
    },
    "f0fdb1fb-e1f3-40e1-9167-04c0ae5f2b43": {
     "id": "f0fdb1fb-e1f3-40e1-9167-04c0ae5f2b43",
     "prev": "1e4cc345-46f9-4f8b-b658-b447a497247b",
     "regions": {
      "293ea868-7bed-40d5-9a5a-ede55c07db75": {
       "attrs": {
        "height": 0.8,
        "width": 0.8,
        "x": 0.1,
        "y": 0.1
       },
       "content": {
        "cell": "0ad09dac-0345-4b21-b352-e3622b82d7b4",
        "part": "whole"
       },
       "id": "293ea868-7bed-40d5-9a5a-ede55c07db75"
      }
     }
    },
    "f51660fb-07ce-4173-9879-54f57c6d6be6": {
     "id": "f51660fb-07ce-4173-9879-54f57c6d6be6",
     "prev": "57e0be67-51a4-49a7-8dfd-2e7fde1e6de0",
     "regions": {
      "e0cf678a-7441-4564-aecf-aaaa2063bc78": {
       "attrs": {
        "height": 0.8,
        "width": 0.8,
        "x": 0.1,
        "y": 0.1
       },
       "content": {
        "cell": "523107f1-c3d3-4cfa-8b51-0e76c4d9d340",
        "part": "whole"
       },
       "id": "e0cf678a-7441-4564-aecf-aaaa2063bc78"
      }
     }
    },
    "f83dc879-dbe9-4cba-823f-2070a392da33": {
     "id": "f83dc879-dbe9-4cba-823f-2070a392da33",
     "prev": "c4d94d42-fd16-4793-8264-1e65b04017b0",
     "regions": {
      "635fb996-cf39-4634-807e-939c56ce11f9": {
       "attrs": {
        "height": 0.8,
        "width": 0.8,
        "x": 0.1,
        "y": 0.1
       },
       "content": {
        "cell": "c044a24f-2263-4ebb-bac9-32a2b1499bfd",
        "part": "whole"
       },
       "id": "635fb996-cf39-4634-807e-939c56ce11f9"
      }
     }
    },
    "f9188e85-0cb7-4113-ab93-6ed3350214d8": {
     "id": "f9188e85-0cb7-4113-ab93-6ed3350214d8",
     "prev": "2c4c6b91-e8cd-4d1e-8a23-acbec5dbfbec",
     "regions": {
      "513d2c66-4353-429c-b7bd-87af54f3b9f7": {
       "attrs": {
        "height": 0.8,
        "width": 0.8,
        "x": 0.1,
        "y": 0.1
       },
       "content": {
        "cell": "840a8b0c-6728-4fff-ae2a-bc0a03e0b6dd",
        "part": "whole"
       },
       "id": "513d2c66-4353-429c-b7bd-87af54f3b9f7"
      }
     }
    },
    "fa7b1ed1-6393-41df-8ddf-e8cdd946ad0a": {
     "id": "fa7b1ed1-6393-41df-8ddf-e8cdd946ad0a",
     "prev": "f0fd313d-9a2f-493a-9284-9b86e4156934",
     "regions": {
      "747d853f-7a63-4561-a496-a16f9f860966": {
       "attrs": {
        "height": 0.8,
        "width": 0.8,
        "x": 0.1,
        "y": 0.1
       },
       "content": {
        "cell": "358b9f0e-d97d-4ba4-931f-3b604483e7d5",
        "part": "whole"
       },
       "id": "747d853f-7a63-4561-a496-a16f9f860966"
      }
     }
    },
    "faa7485c-09e6-4cf8-af48-b593b1c8fdc0": {
     "id": "faa7485c-09e6-4cf8-af48-b593b1c8fdc0",
     "prev": "289a6f2c-23cc-454b-ab4a-d307d6a5366d",
     "regions": {
      "f7452aed-33b3-4910-bacc-e65c1e09d9ee": {
       "attrs": {
        "height": 0.8,
        "width": 0.8,
        "x": 0.1,
        "y": 0.1
       },
       "content": {
        "cell": "b886b64d-1c3c-452a-9667-752fa47a79e6",
        "part": "whole"
       },
       "id": "f7452aed-33b3-4910-bacc-e65c1e09d9ee"
      }
     }
    },
    "fb43e0dc-a463-42ed-83f3-d1cb06560031": {
     "id": "fb43e0dc-a463-42ed-83f3-d1cb06560031",
     "prev": "097f7c8f-8b0b-4efb-b847-8b563e8a94b7",
     "regions": {
      "88657387-0aa5-4a2c-ba65-584187223e46": {
       "attrs": {
        "height": 0.8,
        "width": 0.8,
        "x": 0.1,
        "y": 0.1
       },
       "content": {
        "cell": "b86746b7-2c76-438a-b0f4-3e244fac08b6",
        "part": "whole"
       },
       "id": "88657387-0aa5-4a2c-ba65-584187223e46"
      }
     }
    }
   },
   "themes": {
    "default": "caa8d842-9804-4227-9918-24a214e9c8cb",
    "theme": {
     "caa8d842-9804-4227-9918-24a214e9c8cb": {
      "id": "caa8d842-9804-4227-9918-24a214e9c8cb",
      "palette": {
       "19cc588f-0593-49c9-9f4b-e4d7cc113b1c": {
        "id": "19cc588f-0593-49c9-9f4b-e4d7cc113b1c",
        "rgb": [
         252,
         252,
         252
        ]
       },
       "31af15d2-7e15-44c5-ab5e-e04b16a89eff": {
        "id": "31af15d2-7e15-44c5-ab5e-e04b16a89eff",
        "rgb": [
         68,
         68,
         68
        ]
       },
       "50f92c45-a630-455b-aec3-788680ec7410": {
        "id": "50f92c45-a630-455b-aec3-788680ec7410",
        "rgb": [
         155,
         177,
         192
        ]
       },
       "c5cc3653-2ee1-402a-aba2-7caae1da4f6c": {
        "id": "c5cc3653-2ee1-402a-aba2-7caae1da4f6c",
        "rgb": [
         43,
         126,
         184
        ]
       },
       "efa7f048-9acb-414c-8b04-a26811511a21": {
        "id": "efa7f048-9acb-414c-8b04-a26811511a21",
        "rgb": [
         25.118061674008803,
         73.60176211453744,
         107.4819383259912
        ]
       }
      },
      "rules": {
       "blockquote": {
        "color": "50f92c45-a630-455b-aec3-788680ec7410"
       },
       "code": {
        "font-family": "Anonymous Pro"
       },
       "h1": {
        "color": "c5cc3653-2ee1-402a-aba2-7caae1da4f6c",
        "font-family": "Lato",
        "font-size": 8
       },
       "h2": {
        "color": "c5cc3653-2ee1-402a-aba2-7caae1da4f6c",
        "font-family": "Lato",
        "font-size": 6
       },
       "h3": {
        "color": "50f92c45-a630-455b-aec3-788680ec7410",
        "font-family": "Lato",
        "font-size": 5.5
       },
       "h4": {
        "color": "c5cc3653-2ee1-402a-aba2-7caae1da4f6c",
        "font-family": "Lato",
        "font-size": 5
       },
       "h5": {
        "font-family": "Lato"
       },
       "h6": {
        "font-family": "Lato"
       },
       "h7": {
        "font-family": "Lato"
       },
       "pre": {
        "font-family": "Anonymous Pro",
        "font-size": 4
       }
      },
      "text-base": {
       "font-family": "Merriweather",
       "font-size": 4
      }
     }
    }
   }
  }
 },
 "nbformat": 4,
 "nbformat_minor": 2
}
