{
 "cells": [
  {
   "cell_type": "code",
   "execution_count": 1,
   "metadata": {},
   "outputs": [],
   "source": [
    "import pandas as pd\n",
    "import matplotlib.pyplot as plt\n",
    "import seaborn as sns\n",
    "import numpy as np\n",
    "\n",
    "%matplotlib inline"
   ]
  },
  {
   "cell_type": "markdown",
   "metadata": {},
   "source": [
    "We will be using a dataset containing measurements for diagnosis of inflamatory diseases in the urinary system. [Read the info here](https://archive.ics.uci.edu/ml/datasets/Acute+Inflammations)\n",
    "Load `acute.data` (tab-delimited file) into a pandas DataFrame, using the following column names:\n",
    "\n",
    "'Temperature', 'nausea', 'Lumbar pain', 'Urine pushing', 'Micturition pains', 'Burning', 'UBI', 'Neph'"
   ]
  },
  {
   "cell_type": "code",
   "execution_count": null,
   "metadata": {},
   "outputs": [],
   "source": []
  },
  {
   "cell_type": "markdown",
   "metadata": {},
   "source": [
    "The data needs some cleaning before we can actually do something with it.\n",
    "\n",
    "- First, fix the Temperature column by removing the spaces, replacing the comma (,) with a period (.) and changing the data type from string to float.\n",
    "- Next, replace all the ' y e s ' values with 1 and the ' n o ' values with 0"
   ]
  },
  {
   "cell_type": "code",
   "execution_count": null,
   "metadata": {},
   "outputs": [],
   "source": []
  },
  {
   "cell_type": "markdown",
   "metadata": {},
   "source": [
    "Next, we would like to do some unsupervised clustering of the features and compare it to the labels. \n",
    "\n",
    "Split the data to X and y as follows:\n",
    "- X should contain all the features (exclude UBI and Neph columns)\n",
    "- y should be a new list, where each value equals 'UBI', 'Neph', 'Both', or 'Neither' according to the values in the UBI and Neph columns"
   ]
  },
  {
   "cell_type": "code",
   "execution_count": null,
   "metadata": {},
   "outputs": [],
   "source": []
  },
  {
   "cell_type": "markdown",
   "metadata": {},
   "source": [
    "- Visualize the value counts for each diagnosis using a pie chart."
   ]
  },
  {
   "cell_type": "code",
   "execution_count": null,
   "metadata": {},
   "outputs": [],
   "source": []
  },
  {
   "cell_type": "markdown",
   "metadata": {},
   "source": [
    "- Use the KMeans estimator from the scikit-learn cluster module to find 4 clusters in the data using all the features in X.\n",
    "- Can you figure out which cluster is which?\n",
    "- Are value counts enough to make a determination?"
   ]
  },
  {
   "cell_type": "code",
   "execution_count": null,
   "metadata": {},
   "outputs": [],
   "source": []
  },
  {
   "cell_type": "markdown",
   "metadata": {},
   "source": [
    "To find out, let's perform dimensionality reduction:\n",
    "- use the sklearn PCA estimator to fit and transform X onto 2 dimensions.\n",
    "- Visualize the transformed data as a scatter plot (tip: create a new pandas dataframe with the transformed data, and add a column with the diagnosis. Then use seaborn's pointplot function to visualize. Set join=False to avoid connecting the dots)\n",
    "- Visualize the same but using the predicted clusters as the label. \n",
    "- Can you figure out with label matches which cluster now? Try using the sklearn confusion_matrix to verify your conclusion. **Bonus**: use imshow to visualize the confusion matrix."
   ]
  },
  {
   "cell_type": "code",
   "execution_count": null,
   "metadata": {},
   "outputs": [],
   "source": []
  },
  {
   "cell_type": "markdown",
   "metadata": {},
   "source": [
    "Use the `pca_results` function defined below to visualize the PCA. Do you understand the result?"
   ]
  },
  {
   "cell_type": "code",
   "execution_count": 43,
   "metadata": {},
   "outputs": [],
   "source": [
    "def pca_results(df, pca):\n",
    "    '''\n",
    "    Create a DataFrame of the PCA results\n",
    "    Includes dimension feature weights and explained variance\n",
    "    Visualizes the PCA results\n",
    "    '''\n",
    "\n",
    "    # Dimension indexing\n",
    "    dimensions = dimensions = ['Dimension {}'.format(i) for i in range(1,len(pca.components_)+1)]\n",
    "\n",
    "    # PCA components\n",
    "    components = pd.DataFrame(np.round(pca.components_, 4), columns = df.keys())\n",
    "    components.index = dimensions\n",
    "\n",
    "    # PCA explained variance\n",
    "    ratios = pca.explained_variance_ratio_.reshape(len(pca.components_), 1)\n",
    "    variance_ratios = pd.DataFrame(np.round(ratios, 4), columns = ['Explained Variance'])\n",
    "    variance_ratios.index = dimensions\n",
    "\n",
    "    # Create a bar plot visualization\n",
    "    fig, ax = plt.subplots(figsize = (14,8))\n",
    "\n",
    "    # Plot the feature weights as a function of the components\n",
    "    components.plot(ax = ax, kind = 'bar');\n",
    "    ax.set_ylabel(\"Feature Weights\")\n",
    "    ax.set_xticklabels(dimensions, rotation=0)\n",
    "\n",
    "\n",
    "    # Display the explained variance ratios\n",
    "    for i, ev in enumerate(pca.explained_variance_ratio_):\n",
    "        ax.text(i-0.40, ax.get_ylim()[1] + 0.05, \"Explained Variance\\n          %.4f\"%(ev))\n",
    "\n",
    "    # Return a concatenated DataFrame\n",
    "    return pd.concat([variance_ratios, components], axis = 1)\n"
   ]
  },
  {
   "cell_type": "code",
   "execution_count": null,
   "metadata": {},
   "outputs": [],
   "source": []
  },
  {
   "cell_type": "markdown",
   "metadata": {},
   "source": [
    "Supervised classification:\n",
    "- Use the KneighborsClassifier estimator from sklearn to fit a model to the data:\n",
    "    - Perform train-test-split\n",
    "    - Initiate a classifier instance and fit it on the training data & labels (You can train with both labels at once with `y = data[['UBI', 'Neph']]` as the label) \n",
    "    - Check the model performance using the score method. What does that score mean?\n",
    "    - Verify the validity of your score with a cross validation score on a stratified 5 fold crossvalidation set."
   ]
  },
  {
   "cell_type": "code",
   "execution_count": null,
   "metadata": {},
   "outputs": [],
   "source": []
  }
 ],
 "metadata": {
  "anaconda-cloud": {},
  "kernelspec": {
   "display_name": "Python [conda env:Radical_1]",
   "language": "python",
   "name": "conda-env-Radical_1-py"
  },
  "language_info": {
   "codemirror_mode": {
    "name": "ipython",
    "version": 3
   },
   "file_extension": ".py",
   "mimetype": "text/x-python",
   "name": "python",
   "nbconvert_exporter": "python",
   "pygments_lexer": "ipython3",
   "version": "3.5.3"
  }
 },
 "nbformat": 4,
 "nbformat_minor": 2
}
