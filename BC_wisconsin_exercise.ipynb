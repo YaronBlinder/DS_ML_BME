{
 "cells": [
  {
   "cell_type": "code",
   "execution_count": 7,
   "metadata": {},
   "outputs": [],
   "source": [
    "import pandas as pd\n",
    "import numpy as np\n",
    "import seaborn as sns\n",
    "import matplotlib.pyplot as plt\n",
    "\n",
    "%matplotlib inline"
   ]
  },
  {
   "cell_type": "markdown",
   "metadata": {},
   "source": [
    "# EDA "
   ]
  },
  {
   "cell_type": "markdown",
   "metadata": {},
   "source": [
    "load the file `breast_cancer_wisconsin.csv` into a pandas DataFrame.\n",
    "\n",
    "[Read the description of the dataset](https://archive.ics.uci.edu/ml/datasets/Breast+Cancer+Wisconsin+%28Diagnostic%29)\n",
    "\n",
    "Use pandas to do some exploratory data analysis to understand the data. \n",
    "\n",
    "Think about questions like: \n",
    "    - How many observations? \n",
    "    - How many features? \n",
    "    - What kind of features? What do they mean?\n",
    "    - Are all the features important for classification?\n",
    "    - Is there any connection between the features?"
   ]
  },
  {
   "cell_type": "code",
   "execution_count": null,
   "metadata": {},
   "outputs": [],
   "source": []
  },
  {
   "cell_type": "markdown",
   "metadata": {},
   "source": [
    "Cleaning the data:\n",
    "\n",
    "- Remove rows `id` and `Unnamed: 32`"
   ]
  },
  {
   "cell_type": "code",
   "execution_count": null,
   "metadata": {},
   "outputs": [],
   "source": []
  },
  {
   "cell_type": "markdown",
   "metadata": {},
   "source": [
    "- Use the map method to change the values in the `diagnosis` column as follows: Change `B` to `0` and `M` to `1`."
   ]
  },
  {
   "cell_type": "code",
   "execution_count": null,
   "metadata": {},
   "outputs": [],
   "source": []
  },
  {
   "cell_type": "markdown",
   "metadata": {},
   "source": [
    "Data subsetting:\n",
    "\n",
    "- Create 4 new DataFrames:\n",
    "    - mean_df for the features ending in 'mean'\n",
    "    - se_df for the features ending in 'se' \n",
    "    - worst_df for the features ending in 'worst'\n",
    "    - naive_df containing only 'area_mean' and 'texture_mean'. \n",
    "    \n",
    "- Each of the DataFrames above should also include the `diagnosis` column."
   ]
  },
  {
   "cell_type": "code",
   "execution_count": null,
   "metadata": {},
   "outputs": [],
   "source": []
  },
  {
   "cell_type": "markdown",
   "metadata": {},
   "source": [
    "Visualization:\n",
    "- Create a pair plot of each dataframe, color-separated by diagnosis.\n",
    "- Can you recognize any clear patterns? What could they mean?"
   ]
  },
  {
   "cell_type": "code",
   "execution_count": null,
   "metadata": {},
   "outputs": [],
   "source": []
  },
  {
   "cell_type": "markdown",
   "metadata": {},
   "source": [
    "Scaling\n",
    "1. Take a look at the summary statistics of the `mean_df` dataframe.\n",
    "2. Use StandardScaler from sklearn to scale the features (don't scale the diagnosis column)\n",
    "3. Take a look at the summary statistics of the scales means. Does the result make sense?"
   ]
  },
  {
   "cell_type": "code",
   "execution_count": null,
   "metadata": {},
   "outputs": [],
   "source": []
  },
  {
   "cell_type": "markdown",
   "metadata": {},
   "source": [
    "### Classification"
   ]
  },
  {
   "cell_type": "markdown",
   "metadata": {},
   "source": [
    "Train a LogisticRegression model using the `naive_df` dataframe and show the model score.\n",
    "(Don't forget to do a train-test-split first)"
   ]
  },
  {
   "cell_type": "code",
   "execution_count": null,
   "metadata": {},
   "outputs": [],
   "source": []
  },
  {
   "cell_type": "markdown",
   "metadata": {},
   "source": [
    "Take a deeper look at the results with `classification_report` and `confusion_matrix` from sklearn"
   ]
  },
  {
   "cell_type": "code",
   "execution_count": null,
   "metadata": {},
   "outputs": [],
   "source": []
  },
  {
   "cell_type": "markdown",
   "metadata": {},
   "source": [
    "- Define a function `report(df, clf)` that receives a dataframe `df` and a classifier `clf`, prints out the stratified 5-fold cross-validation scores and the mean cross-validation scores, and returns the mean cross-validation score."
   ]
  },
  {
   "cell_type": "code",
   "execution_count": null,
   "metadata": {},
   "outputs": [],
   "source": []
  },
  {
   "cell_type": "markdown",
   "metadata": {},
   "source": [
    "#### Which dataframe is most predictive?\n",
    "- Call `report()` with `clf = LogisticRegression()` on each of the 5 (non-scaled) dataframes you have (including the entire dataset). What result do you expect? Were you right?\n",
    "- Read about the make_pipeline function and figure out how to include StandardScaler into your cross-validation. Add a boolean `scale` parameter to the `report` function to include this functionality.\n",
    "- Run the `report` on all datasets again, this time with `scale=True`. Did the results change?"
   ]
  },
  {
   "cell_type": "code",
   "execution_count": null,
   "metadata": {},
   "outputs": [],
   "source": []
  },
  {
   "cell_type": "markdown",
   "metadata": {},
   "source": [
    "**Bonus**:\n",
    "Read the [classifier comparison documentation from sklearn](http://scikit-learn.org/stable/auto_examples/classification/plot_classifier_comparison.html#sphx-glr-auto-examples-classification-plot-classifier-comparison-py).\n",
    "\n",
    "Based on the code in the documentation, compare the same classifiers on your various dataframes to find an optimal classification. Some classifiers may take a while to train, so have patience."
   ]
  },
  {
   "cell_type": "code",
   "execution_count": null,
   "metadata": {},
   "outputs": [],
   "source": []
  }
 ],
 "metadata": {
  "anaconda-cloud": {},
  "kernelspec": {
   "display_name": "Python [conda env:Radical_1]",
   "language": "python",
   "name": "conda-env-Radical_1-py"
  },
  "language_info": {
   "codemirror_mode": {
    "name": "ipython",
    "version": 3
   },
   "file_extension": ".py",
   "mimetype": "text/x-python",
   "name": "python",
   "nbconvert_exporter": "python",
   "pygments_lexer": "ipython3",
   "version": "3.5.3"
  }
 },
 "nbformat": 4,
 "nbformat_minor": 1
}
