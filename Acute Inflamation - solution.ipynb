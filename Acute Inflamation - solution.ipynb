{
 "cells": [
  {
   "cell_type": "code",
   "execution_count": 1,
   "metadata": {},
   "outputs": [],
   "source": [
    "import pandas as pd\n",
    "import matplotlib.pyplot as plt\n",
    "import seaborn as sns\n",
    "import numpy as np\n",
    "\n",
    "%matplotlib inline"
   ]
  },
  {
   "cell_type": "markdown",
   "metadata": {},
   "source": [
    "We will be using a dataset containing measurements for diagnosis of inflamatory diseases in the urinary system. [Read the info here](https://archive.ics.uci.edu/ml/datasets/Acute+Inflammations)\n",
    "Load `acute.data` (tab-delimited file) into a pandas DataFrame, using the following column names:\n",
    "\n",
    "'Temperature', 'nausea', 'Lumbar pain', 'Urine pushing', 'Micturition pains', 'Burning', 'UBI', 'Neph'"
   ]
  },
  {
   "cell_type": "code",
   "execution_count": 2,
   "metadata": {},
   "outputs": [],
   "source": [
    "features = ['Temperature', 'nausea', 'Lumbar pain', 'Urine pushing', 'Micturition pains', 'Burning', 'UBI', 'Neph']"
   ]
  },
  {
   "cell_type": "code",
   "execution_count": 3,
   "metadata": {},
   "outputs": [],
   "source": [
    "df = pd.read_csv('acute.data', sep='\\t', names=features)"
   ]
  },
  {
   "cell_type": "code",
   "execution_count": 4,
   "metadata": {},
   "outputs": [
    {
     "data": {
      "text/html": [
       "<div>\n",
       "<style>\n",
       "    .dataframe thead tr:only-child th {\n",
       "        text-align: right;\n",
       "    }\n",
       "\n",
       "    .dataframe thead th {\n",
       "        text-align: left;\n",
       "    }\n",
       "\n",
       "    .dataframe tbody tr th {\n",
       "        vertical-align: top;\n",
       "    }\n",
       "</style>\n",
       "<table border=\"1\" class=\"dataframe\">\n",
       "  <thead>\n",
       "    <tr style=\"text-align: right;\">\n",
       "      <th></th>\n",
       "      <th>Temperature</th>\n",
       "      <th>nausea</th>\n",
       "      <th>Lumbar pain</th>\n",
       "      <th>Urine pushing</th>\n",
       "      <th>Micturition pains</th>\n",
       "      <th>Burning</th>\n",
       "      <th>UBI</th>\n",
       "      <th>Neph</th>\n",
       "    </tr>\n",
       "  </thead>\n",
       "  <tbody>\n",
       "    <tr>\n",
       "      <th>0</th>\n",
       "      <td>3 5 , 5</td>\n",
       "      <td>n o</td>\n",
       "      <td>y e s</td>\n",
       "      <td>n o</td>\n",
       "      <td>n o</td>\n",
       "      <td>n o</td>\n",
       "      <td>n o</td>\n",
       "      <td>n o</td>\n",
       "    </tr>\n",
       "    <tr>\n",
       "      <th>1</th>\n",
       "      <td>3 5 , 9</td>\n",
       "      <td>n o</td>\n",
       "      <td>n o</td>\n",
       "      <td>y e s</td>\n",
       "      <td>y e s</td>\n",
       "      <td>y e s</td>\n",
       "      <td>y e s</td>\n",
       "      <td>n o</td>\n",
       "    </tr>\n",
       "    <tr>\n",
       "      <th>2</th>\n",
       "      <td>3 5 , 9</td>\n",
       "      <td>n o</td>\n",
       "      <td>y e s</td>\n",
       "      <td>n o</td>\n",
       "      <td>n o</td>\n",
       "      <td>n o</td>\n",
       "      <td>n o</td>\n",
       "      <td>n o</td>\n",
       "    </tr>\n",
       "    <tr>\n",
       "      <th>3</th>\n",
       "      <td>3 6 , 0</td>\n",
       "      <td>n o</td>\n",
       "      <td>n o</td>\n",
       "      <td>y e s</td>\n",
       "      <td>y e s</td>\n",
       "      <td>y e s</td>\n",
       "      <td>y e s</td>\n",
       "      <td>n o</td>\n",
       "    </tr>\n",
       "    <tr>\n",
       "      <th>4</th>\n",
       "      <td>3 6 , 0</td>\n",
       "      <td>n o</td>\n",
       "      <td>y e s</td>\n",
       "      <td>n o</td>\n",
       "      <td>n o</td>\n",
       "      <td>n o</td>\n",
       "      <td>n o</td>\n",
       "      <td>n o</td>\n",
       "    </tr>\n",
       "  </tbody>\n",
       "</table>\n",
       "</div>"
      ],
      "text/plain": [
       "  Temperature nausea Lumbar pain Urine pushing Micturition pains  Burning  \\\n",
       "0    3 5 , 5    n o       y e s           n o               n o      n o    \n",
       "1    3 5 , 9    n o         n o         y e s             y e s    y e s    \n",
       "2    3 5 , 9    n o       y e s           n o               n o      n o    \n",
       "3    3 6 , 0    n o         n o         y e s             y e s    y e s    \n",
       "4    3 6 , 0    n o       y e s           n o               n o      n o    \n",
       "\n",
       "       UBI   Neph  \n",
       "0     n o    n o   \n",
       "1   y e s    n o   \n",
       "2     n o    n o   \n",
       "3   y e s    n o   \n",
       "4     n o    n o   "
      ]
     },
     "execution_count": 4,
     "metadata": {},
     "output_type": "execute_result"
    }
   ],
   "source": [
    "df.head()"
   ]
  },
  {
   "cell_type": "code",
   "execution_count": 5,
   "metadata": {},
   "outputs": [
    {
     "name": "stdout",
     "output_type": "stream",
     "text": [
      "<class 'pandas.core.frame.DataFrame'>\n",
      "RangeIndex: 120 entries, 0 to 119\n",
      "Data columns (total 8 columns):\n",
      "Temperature          120 non-null object\n",
      "nausea               120 non-null object\n",
      "Lumbar pain          120 non-null object\n",
      "Urine pushing        120 non-null object\n",
      "Micturition pains    120 non-null object\n",
      "Burning              120 non-null object\n",
      "UBI                  120 non-null object\n",
      "Neph                 120 non-null object\n",
      "dtypes: object(8)\n",
      "memory usage: 7.6+ KB\n"
     ]
    }
   ],
   "source": [
    "df.info()"
   ]
  },
  {
   "cell_type": "markdown",
   "metadata": {},
   "source": [
    "The data needs some cleaning before we can actually do something with it.\n",
    "\n",
    "- First, fix the Temperature column by removing the spaces, replacing the comma (,) with a period (.) and changing the data type from string to float.\n",
    "- Next, replace all the ' y e s ' values with 1 and the ' n o ' values with 0"
   ]
  },
  {
   "cell_type": "code",
   "execution_count": 6,
   "metadata": {},
   "outputs": [
    {
     "name": "stdout",
     "output_type": "stream",
     "text": [
      "3 5 , 5  <class 'str'>\n",
      "35,5 <class 'str'>\n",
      "35.5 <class 'str'>\n",
      "35.5 <class 'float'>\n",
      "35.5 <class 'float'>\n"
     ]
    }
   ],
   "source": [
    "# take a look at a sample value:\n",
    "test = df.Temperature[0]\n",
    "print(test, type(test))\n",
    "\n",
    "# remove the spaces\n",
    "test = test.replace(' ', '')\n",
    "print(test, type(test))\n",
    "\n",
    "# replace the comma with a point\n",
    "test = test.replace(',', '.')\n",
    "print(test, type(test))\n",
    "\n",
    "# change type from string to float\n",
    "test = float(test)\n",
    "print(test, type(test))\n",
    "\n",
    "# in one step:\n",
    "test = float(df.Temperature[0].replace(' ', '').replace(',', '.'))\n",
    "print(test, type(test))"
   ]
  },
  {
   "cell_type": "code",
   "execution_count": 7,
   "metadata": {
    "scrolled": false
   },
   "outputs": [],
   "source": [
    "clean = df.drop('Temperature', axis=1).replace({' n o ' : 0, ' y e s ' : 1})\n",
    "clean['Temperature'] = df['Temperature'].map(lambda x:float(x.replace(' ', '').replace(',', '.')))\n",
    "clean['Temperature'] = clean['Temperature'].transform(lambda x:(x-x.min())/x.ptp())"
   ]
  },
  {
   "cell_type": "code",
   "execution_count": 8,
   "metadata": {},
   "outputs": [
    {
     "data": {
      "text/html": [
       "<div>\n",
       "<style>\n",
       "    .dataframe thead tr:only-child th {\n",
       "        text-align: right;\n",
       "    }\n",
       "\n",
       "    .dataframe thead th {\n",
       "        text-align: left;\n",
       "    }\n",
       "\n",
       "    .dataframe tbody tr th {\n",
       "        vertical-align: top;\n",
       "    }\n",
       "</style>\n",
       "<table border=\"1\" class=\"dataframe\">\n",
       "  <thead>\n",
       "    <tr style=\"text-align: right;\">\n",
       "      <th></th>\n",
       "      <th>nausea</th>\n",
       "      <th>Lumbar pain</th>\n",
       "      <th>Urine pushing</th>\n",
       "      <th>Micturition pains</th>\n",
       "      <th>Burning</th>\n",
       "      <th>UBI</th>\n",
       "      <th>Neph</th>\n",
       "      <th>Temperature</th>\n",
       "    </tr>\n",
       "  </thead>\n",
       "  <tbody>\n",
       "    <tr>\n",
       "      <th>0</th>\n",
       "      <td>0</td>\n",
       "      <td>1</td>\n",
       "      <td>0</td>\n",
       "      <td>0</td>\n",
       "      <td>0</td>\n",
       "      <td>0</td>\n",
       "      <td>0</td>\n",
       "      <td>0.000000</td>\n",
       "    </tr>\n",
       "    <tr>\n",
       "      <th>1</th>\n",
       "      <td>0</td>\n",
       "      <td>0</td>\n",
       "      <td>1</td>\n",
       "      <td>1</td>\n",
       "      <td>1</td>\n",
       "      <td>1</td>\n",
       "      <td>0</td>\n",
       "      <td>0.066667</td>\n",
       "    </tr>\n",
       "    <tr>\n",
       "      <th>2</th>\n",
       "      <td>0</td>\n",
       "      <td>1</td>\n",
       "      <td>0</td>\n",
       "      <td>0</td>\n",
       "      <td>0</td>\n",
       "      <td>0</td>\n",
       "      <td>0</td>\n",
       "      <td>0.066667</td>\n",
       "    </tr>\n",
       "    <tr>\n",
       "      <th>3</th>\n",
       "      <td>0</td>\n",
       "      <td>0</td>\n",
       "      <td>1</td>\n",
       "      <td>1</td>\n",
       "      <td>1</td>\n",
       "      <td>1</td>\n",
       "      <td>0</td>\n",
       "      <td>0.083333</td>\n",
       "    </tr>\n",
       "    <tr>\n",
       "      <th>4</th>\n",
       "      <td>0</td>\n",
       "      <td>1</td>\n",
       "      <td>0</td>\n",
       "      <td>0</td>\n",
       "      <td>0</td>\n",
       "      <td>0</td>\n",
       "      <td>0</td>\n",
       "      <td>0.083333</td>\n",
       "    </tr>\n",
       "  </tbody>\n",
       "</table>\n",
       "</div>"
      ],
      "text/plain": [
       "   nausea  Lumbar pain  Urine pushing  Micturition pains  Burning  UBI  Neph  \\\n",
       "0       0            1              0                  0        0    0     0   \n",
       "1       0            0              1                  1        1    1     0   \n",
       "2       0            1              0                  0        0    0     0   \n",
       "3       0            0              1                  1        1    1     0   \n",
       "4       0            1              0                  0        0    0     0   \n",
       "\n",
       "   Temperature  \n",
       "0     0.000000  \n",
       "1     0.066667  \n",
       "2     0.066667  \n",
       "3     0.083333  \n",
       "4     0.083333  "
      ]
     },
     "execution_count": 8,
     "metadata": {},
     "output_type": "execute_result"
    }
   ],
   "source": [
    "clean.head()"
   ]
  },
  {
   "cell_type": "markdown",
   "metadata": {},
   "source": [
    "Next, we would like to do some unsupervised clustering of the features and compare it to the labels. \n",
    "\n",
    "Split the data to X and y as follows:\n",
    "- X should contain all the features (exclude UBI and Neph columns)\n",
    "- y should be a new list, where each value equals 'UBI', 'Neph', 'Both', or 'Neither' according to the values in the UBI and Neph columns"
   ]
  },
  {
   "cell_type": "code",
   "execution_count": 9,
   "metadata": {},
   "outputs": [],
   "source": [
    "X = clean.drop(['UBI', 'Neph'], axis=1)\n",
    "y_UBI = clean['UBI']\n",
    "y_Neph = clean['Neph']\n",
    "\n",
    "diagnoses = []\n",
    "for UBI, Neph in zip(y_UBI, y_Neph):\n",
    "    if (UBI and Neph):\n",
    "        diagnosis = 'Both'\n",
    "    elif UBI:\n",
    "        diagnosis = 'UBI'\n",
    "    elif Neph:\n",
    "        diagnosis = 'Neph'\n",
    "    else:\n",
    "        diagnosis = 'Neither'\n",
    "    diagnoses.append(diagnosis)"
   ]
  },
  {
   "cell_type": "code",
   "execution_count": 10,
   "metadata": {
    "scrolled": false
   },
   "outputs": [
    {
     "data": {
      "text/plain": [
       "['Neither',\n",
       " 'UBI',\n",
       " 'Neither',\n",
       " 'UBI',\n",
       " 'Neither',\n",
       " 'Neither',\n",
       " 'UBI',\n",
       " 'Neither',\n",
       " 'UBI',\n",
       " 'UBI',\n",
       " 'UBI',\n",
       " 'Neither',\n",
       " 'Neither',\n",
       " 'UBI',\n",
       " 'Neither',\n",
       " 'Neither',\n",
       " 'UBI',\n",
       " 'UBI',\n",
       " 'UBI',\n",
       " 'Neither',\n",
       " 'UBI',\n",
       " 'UBI',\n",
       " 'Neither',\n",
       " 'UBI',\n",
       " 'UBI',\n",
       " 'UBI',\n",
       " 'UBI',\n",
       " 'UBI',\n",
       " 'Neither',\n",
       " 'UBI',\n",
       " 'UBI',\n",
       " 'UBI',\n",
       " 'Neither',\n",
       " 'UBI',\n",
       " 'Neither',\n",
       " 'UBI',\n",
       " 'UBI',\n",
       " 'Neither',\n",
       " 'UBI',\n",
       " 'UBI',\n",
       " 'Neither',\n",
       " 'Neither',\n",
       " 'UBI',\n",
       " 'UBI',\n",
       " 'UBI',\n",
       " 'UBI',\n",
       " 'UBI',\n",
       " 'UBI',\n",
       " 'UBI',\n",
       " 'UBI',\n",
       " 'Neither',\n",
       " 'UBI',\n",
       " 'Neither',\n",
       " 'UBI',\n",
       " 'UBI',\n",
       " 'UBI',\n",
       " 'UBI',\n",
       " 'Neither',\n",
       " 'UBI',\n",
       " 'UBI',\n",
       " 'Neph',\n",
       " 'Neph',\n",
       " 'Neph',\n",
       " 'Neph',\n",
       " 'Neph',\n",
       " 'Neph',\n",
       " 'Neph',\n",
       " 'Neph',\n",
       " 'Neph',\n",
       " 'Neph',\n",
       " 'Both',\n",
       " 'Both',\n",
       " 'Both',\n",
       " 'Neither',\n",
       " 'Neither',\n",
       " 'Neph',\n",
       " 'Neph',\n",
       " 'Neph',\n",
       " 'Both',\n",
       " 'Both',\n",
       " 'Neither',\n",
       " 'Neph',\n",
       " 'Neph',\n",
       " 'Both',\n",
       " 'Both',\n",
       " 'Both',\n",
       " 'Neither',\n",
       " 'Neph',\n",
       " 'Both',\n",
       " 'Both',\n",
       " 'Neither',\n",
       " 'Neph',\n",
       " 'Both',\n",
       " 'Both',\n",
       " 'Neither',\n",
       " 'Neph',\n",
       " 'Neph',\n",
       " 'Neph',\n",
       " 'Both',\n",
       " 'Both',\n",
       " 'Neph',\n",
       " 'Both',\n",
       " 'Neither',\n",
       " 'Neph',\n",
       " 'Neph',\n",
       " 'Both',\n",
       " 'Both',\n",
       " 'Neither',\n",
       " 'Neph',\n",
       " 'Neph',\n",
       " 'Both',\n",
       " 'Neither',\n",
       " 'Neph',\n",
       " 'Neph',\n",
       " 'Both',\n",
       " 'Neph',\n",
       " 'Neither',\n",
       " 'Neph',\n",
       " 'Neph',\n",
       " 'Neph']"
      ]
     },
     "execution_count": 10,
     "metadata": {},
     "output_type": "execute_result"
    }
   ],
   "source": [
    "diagnoses"
   ]
  },
  {
   "cell_type": "markdown",
   "metadata": {},
   "source": [
    "- Visualize the value counts for each diagnosis using a pie chart."
   ]
  },
  {
   "cell_type": "code",
   "execution_count": 11,
   "metadata": {},
   "outputs": [
    {
     "data": {
      "text/plain": [
       "UBI        40\n",
       "Neph       31\n",
       "Neither    30\n",
       "Both       19\n",
       "dtype: int64"
      ]
     },
     "execution_count": 11,
     "metadata": {},
     "output_type": "execute_result"
    }
   ],
   "source": [
    "pd.Series(diagnoses).value_counts()"
   ]
  },
  {
   "cell_type": "code",
   "execution_count": 15,
   "metadata": {},
   "outputs": [
    {
     "data": {
      "text/plain": [
       "Text(0,0.5,'')"
      ]
     },
     "execution_count": 15,
     "metadata": {},
     "output_type": "execute_result"
    },
    {
     "data": {
      "image/png": "[encoded data removed]",
      "text/plain": [
       "<matplotlib.figure.Figure at 0x26ccd98b208>"
      ]
     },
     "metadata": {},
     "output_type": "display_data"
    }
   ],
   "source": [
    "fig = plt.figure(figsize=[5, 5])\n",
    "pd.Series(diagnoses).value_counts().plot.pie(autopct='%.2f', startangle = 90)\n",
    "plt.ylabel('')"
   ]
  },
  {
   "cell_type": "code",
   "execution_count": 16,
   "metadata": {},
   "outputs": [
    {
     "data": {
      "text/html": [
       "<div>\n",
       "<style>\n",
       "    .dataframe thead tr:only-child th {\n",
       "        text-align: right;\n",
       "    }\n",
       "\n",
       "    .dataframe thead th {\n",
       "        text-align: left;\n",
       "    }\n",
       "\n",
       "    .dataframe tbody tr th {\n",
       "        vertical-align: top;\n",
       "    }\n",
       "</style>\n",
       "<table border=\"1\" class=\"dataframe\">\n",
       "  <thead>\n",
       "    <tr style=\"text-align: right;\">\n",
       "      <th></th>\n",
       "      <th>nausea</th>\n",
       "      <th>Lumbar pain</th>\n",
       "      <th>Urine pushing</th>\n",
       "      <th>Micturition pains</th>\n",
       "      <th>Burning</th>\n",
       "      <th>UBI</th>\n",
       "      <th>Neph</th>\n",
       "      <th>Temperature</th>\n",
       "      <th>diagnosis</th>\n",
       "    </tr>\n",
       "  </thead>\n",
       "  <tbody>\n",
       "    <tr>\n",
       "      <th>0</th>\n",
       "      <td>0</td>\n",
       "      <td>1</td>\n",
       "      <td>0</td>\n",
       "      <td>0</td>\n",
       "      <td>0</td>\n",
       "      <td>0</td>\n",
       "      <td>0</td>\n",
       "      <td>0.000000</td>\n",
       "      <td>Neither</td>\n",
       "    </tr>\n",
       "    <tr>\n",
       "      <th>1</th>\n",
       "      <td>0</td>\n",
       "      <td>0</td>\n",
       "      <td>1</td>\n",
       "      <td>1</td>\n",
       "      <td>1</td>\n",
       "      <td>1</td>\n",
       "      <td>0</td>\n",
       "      <td>0.066667</td>\n",
       "      <td>UBI</td>\n",
       "    </tr>\n",
       "    <tr>\n",
       "      <th>2</th>\n",
       "      <td>0</td>\n",
       "      <td>1</td>\n",
       "      <td>0</td>\n",
       "      <td>0</td>\n",
       "      <td>0</td>\n",
       "      <td>0</td>\n",
       "      <td>0</td>\n",
       "      <td>0.066667</td>\n",
       "      <td>Neither</td>\n",
       "    </tr>\n",
       "    <tr>\n",
       "      <th>3</th>\n",
       "      <td>0</td>\n",
       "      <td>0</td>\n",
       "      <td>1</td>\n",
       "      <td>1</td>\n",
       "      <td>1</td>\n",
       "      <td>1</td>\n",
       "      <td>0</td>\n",
       "      <td>0.083333</td>\n",
       "      <td>UBI</td>\n",
       "    </tr>\n",
       "    <tr>\n",
       "      <th>4</th>\n",
       "      <td>0</td>\n",
       "      <td>1</td>\n",
       "      <td>0</td>\n",
       "      <td>0</td>\n",
       "      <td>0</td>\n",
       "      <td>0</td>\n",
       "      <td>0</td>\n",
       "      <td>0.083333</td>\n",
       "      <td>Neither</td>\n",
       "    </tr>\n",
       "  </tbody>\n",
       "</table>\n",
       "</div>"
      ],
      "text/plain": [
       "   nausea  Lumbar pain  Urine pushing  Micturition pains  Burning  UBI  Neph  \\\n",
       "0       0            1              0                  0        0    0     0   \n",
       "1       0            0              1                  1        1    1     0   \n",
       "2       0            1              0                  0        0    0     0   \n",
       "3       0            0              1                  1        1    1     0   \n",
       "4       0            1              0                  0        0    0     0   \n",
       "\n",
       "   Temperature diagnosis  \n",
       "0     0.000000   Neither  \n",
       "1     0.066667       UBI  \n",
       "2     0.066667   Neither  \n",
       "3     0.083333       UBI  \n",
       "4     0.083333   Neither  "
      ]
     },
     "execution_count": 16,
     "metadata": {},
     "output_type": "execute_result"
    }
   ],
   "source": [
    "clean['diagnosis'] = pd.Series(diagnoses)\n",
    "\n",
    "clean.head()"
   ]
  },
  {
   "cell_type": "code",
   "execution_count": 17,
   "metadata": {
    "scrolled": true
   },
   "outputs": [
    {
     "data": {
      "text/html": [
       "<div>\n",
       "<style>\n",
       "    .dataframe thead tr:only-child th {\n",
       "        text-align: right;\n",
       "    }\n",
       "\n",
       "    .dataframe thead th {\n",
       "        text-align: left;\n",
       "    }\n",
       "\n",
       "    .dataframe tbody tr th {\n",
       "        vertical-align: top;\n",
       "    }\n",
       "</style>\n",
       "<table border=\"1\" class=\"dataframe\">\n",
       "  <thead>\n",
       "    <tr style=\"text-align: right;\">\n",
       "      <th></th>\n",
       "      <th>nausea</th>\n",
       "      <th>Lumbar pain</th>\n",
       "      <th>Urine pushing</th>\n",
       "      <th>Micturition pains</th>\n",
       "      <th>Burning</th>\n",
       "      <th>Temperature</th>\n",
       "    </tr>\n",
       "  </thead>\n",
       "  <tbody>\n",
       "    <tr>\n",
       "      <th>0</th>\n",
       "      <td>0</td>\n",
       "      <td>1</td>\n",
       "      <td>0</td>\n",
       "      <td>0</td>\n",
       "      <td>0</td>\n",
       "      <td>0.000000</td>\n",
       "    </tr>\n",
       "    <tr>\n",
       "      <th>1</th>\n",
       "      <td>0</td>\n",
       "      <td>0</td>\n",
       "      <td>1</td>\n",
       "      <td>1</td>\n",
       "      <td>1</td>\n",
       "      <td>0.066667</td>\n",
       "    </tr>\n",
       "    <tr>\n",
       "      <th>2</th>\n",
       "      <td>0</td>\n",
       "      <td>1</td>\n",
       "      <td>0</td>\n",
       "      <td>0</td>\n",
       "      <td>0</td>\n",
       "      <td>0.066667</td>\n",
       "    </tr>\n",
       "    <tr>\n",
       "      <th>3</th>\n",
       "      <td>0</td>\n",
       "      <td>0</td>\n",
       "      <td>1</td>\n",
       "      <td>1</td>\n",
       "      <td>1</td>\n",
       "      <td>0.083333</td>\n",
       "    </tr>\n",
       "    <tr>\n",
       "      <th>4</th>\n",
       "      <td>0</td>\n",
       "      <td>1</td>\n",
       "      <td>0</td>\n",
       "      <td>0</td>\n",
       "      <td>0</td>\n",
       "      <td>0.083333</td>\n",
       "    </tr>\n",
       "  </tbody>\n",
       "</table>\n",
       "</div>"
      ],
      "text/plain": [
       "   nausea  Lumbar pain  Urine pushing  Micturition pains  Burning  Temperature\n",
       "0       0            1              0                  0        0     0.000000\n",
       "1       0            0              1                  1        1     0.066667\n",
       "2       0            1              0                  0        0     0.066667\n",
       "3       0            0              1                  1        1     0.083333\n",
       "4       0            1              0                  0        0     0.083333"
      ]
     },
     "execution_count": 17,
     "metadata": {},
     "output_type": "execute_result"
    }
   ],
   "source": [
    "X.head()"
   ]
  },
  {
   "cell_type": "markdown",
   "metadata": {},
   "source": [
    "- Use the KMeans estimator from the scikit-learn cluster module to find 4 clusters in the data using all the features in X.\n",
    "- Can you figure out which cluster is which?\n",
    "- Are value counts enough to make a determination?"
   ]
  },
  {
   "cell_type": "code",
   "execution_count": 18,
   "metadata": {},
   "outputs": [],
   "source": [
    "from sklearn.cluster import KMeans"
   ]
  },
  {
   "cell_type": "code",
   "execution_count": 19,
   "metadata": {},
   "outputs": [],
   "source": [
    "clf = KMeans(n_clusters = 4, random_state=987)\n",
    "diag_pred = clf.fit_predict(X)"
   ]
  },
  {
   "cell_type": "code",
   "execution_count": 20,
   "metadata": {},
   "outputs": [
    {
     "data": {
      "text/plain": [
       "UBI        40\n",
       "Neph       31\n",
       "Neither    30\n",
       "Both       19\n",
       "Name: diagnosis, dtype: int64"
      ]
     },
     "execution_count": 20,
     "metadata": {},
     "output_type": "execute_result"
    }
   ],
   "source": [
    "clean.diagnosis.value_counts()"
   ]
  },
  {
   "cell_type": "code",
   "execution_count": 21,
   "metadata": {},
   "outputs": [
    {
     "data": {
      "text/plain": [
       "array([2, 1, 2, 1, 2, 2, 1, 2, 1, 1, 1, 2, 2, 1, 2, 2, 1, 1, 1, 2, 1, 1,\n",
       "       2, 1, 1, 1, 1, 1, 2, 1, 1, 1, 2, 1, 2, 1, 1, 2, 1, 1, 2, 2, 1, 1,\n",
       "       1, 1, 1, 1, 1, 1, 2, 1, 2, 1, 1, 1, 1, 2, 1, 1, 3, 3, 3, 3, 3, 3,\n",
       "       3, 3, 3, 3, 0, 0, 0, 2, 2, 0, 0, 3, 0, 0, 2, 0, 3, 0, 0, 0, 2, 0,\n",
       "       0, 0, 2, 0, 0, 0, 2, 0, 3, 3, 0, 0, 3, 0, 2, 0, 3, 0, 0, 2, 0, 3,\n",
       "       0, 2, 0, 3, 0, 3, 2, 0, 3, 3])"
      ]
     },
     "execution_count": 21,
     "metadata": {},
     "output_type": "execute_result"
    }
   ],
   "source": [
    "diag_pred"
   ]
  },
  {
   "cell_type": "code",
   "execution_count": 22,
   "metadata": {},
   "outputs": [
    {
     "data": {
      "text/plain": [
       "array([29, 40, 30, 21], dtype=int64)"
      ]
     },
     "execution_count": 22,
     "metadata": {},
     "output_type": "execute_result"
    }
   ],
   "source": [
    "np.bincount(diag_pred)"
   ]
  },
  {
   "cell_type": "markdown",
   "metadata": {},
   "source": [
    "To find out, let's perform dimensionality reduction:\n",
    "- use the sklearn PCA estimator to fit and transform X onto 2 dimensions.\n",
    "- Visualize the transformed data as a scatter plot (tip: create a new pandas dataframe with the transformed data, and add a column with the diagnosis. Then use seaborn's pointplot function to visualize. Set join=False to avoid connecting the dots)\n",
    "- Visualize the same but using the predicted clusters as the label. \n",
    "- Can you figure out with label matches which cluster now? Try using the sklearn confusion_matrix to verify your conclusion. **Bonus**: use imshow to visualize the confusion matrix."
   ]
  },
  {
   "cell_type": "code",
   "execution_count": null,
   "metadata": {},
   "outputs": [
    {
     "data": {
      "text/plain": [
       "<matplotlib.axes._subplots.AxesSubplot at 0x26cd041cda0>"
      ]
     },
     "execution_count": 23,
     "metadata": {},
     "output_type": "execute_result"
    },
    {
     "data": {
      "image/png": "[encoded data removed]",
      "text/plain": [
       "<matplotlib.figure.Figure at 0x26cd00d7780>"
      ]
     },
     "metadata": {},
     "output_type": "display_data"
    }
   ],
   "source": [
    "from sklearn.decomposition import PCA\n",
    "pca = PCA(n_components=2, random_state=123)\n",
    "X_pca = pca.fit_transform(X)\n",
    "X_pca_df = pd.DataFrame(X_pca, columns = ['pc1', 'pc2'])\n",
    "X_pca_df['label'] = clean['diagnosis']\n",
    "X_pca_df['pred_class'] = diag_pred\n",
    "\n",
    "plt.figure()\n",
    "sns.pointplot(data=X_pca_df, x='pc1', y='pc2', hue='label', join=False)\n",
    "plt.figure()\n",
    "sns.pointplot(data=X_pca_df, x='pc1', y='pc2', hue='pred_class', join=False)"
   ]
  },
  {
   "cell_type": "code",
   "execution_count": null,
   "metadata": {},
   "outputs": [],
   "source": [
    "X_pca_df"
   ]
  },
  {
   "cell_type": "code",
   "execution_count": null,
   "metadata": {},
   "outputs": [],
   "source": [
    "mapping = {'UBI':0, 'Neither':1, 'Both':2,  'Neph':3}\n",
    "diag_map = clean.diagnosis.map(mapping)\n",
    "\n",
    "from sklearn.metrics import confusion_matrix\n",
    "cm = confusion_matrix(diag_map, diag_pred)\n",
    "cm_norm = cm/np.sum(cm, axis=1)\n",
    "groups = ['UBI', 'Neither', 'Both', 'Neph']\n",
    "plt.imshow(cm, cmap='Greys_r')\n",
    "plt.xticks([0,1,2,3], groups)\n",
    "plt.yticks([0,1,2,3], groups)\n",
    "plt.xlabel('Predicted')\n",
    "plt.ylabel('Truth')"
   ]
  },
  {
   "cell_type": "markdown",
   "metadata": {},
   "source": [
    "Use the `pca_results` function defined below to visualize the PCA. Do you understand the result?"
   ]
  },
  {
   "cell_type": "code",
   "execution_count": null,
   "metadata": {},
   "outputs": [],
   "source": [
    "def pca_results(df, pca):\n",
    "    '''\n",
    "    Create a DataFrame of the PCA results\n",
    "    Includes dimension feature weights and explained variance\n",
    "    Visualizes the PCA results\n",
    "    '''\n",
    "\n",
    "    # Dimension indexing\n",
    "    dimensions = dimensions = ['Dimension {}'.format(i) for i in range(1,len(pca.components_)+1)]\n",
    "\n",
    "    # PCA components\n",
    "    components = pd.DataFrame(np.round(pca.components_, 4), columns = df.keys())\n",
    "    components.index = dimensions\n",
    "\n",
    "    # PCA explained variance\n",
    "    ratios = pca.explained_variance_ratio_.reshape(len(pca.components_), 1)\n",
    "    variance_ratios = pd.DataFrame(np.round(ratios, 4), columns = ['Explained Variance'])\n",
    "    variance_ratios.index = dimensions\n",
    "\n",
    "    # Create a bar plot visualization\n",
    "    fig, ax = plt.subplots(figsize = (14,8))\n",
    "\n",
    "    # Plot the feature weights as a function of the components\n",
    "    components.plot(ax = ax, kind = 'bar');\n",
    "    ax.set_ylabel(\"Feature Weights\")\n",
    "    ax.set_xticklabels(dimensions, rotation=0)\n",
    "\n",
    "\n",
    "    # Display the explained variance ratios\n",
    "    for i, ev in enumerate(pca.explained_variance_ratio_):\n",
    "        ax.text(i-0.40, ax.get_ylim()[1] + 0.05, \"Explained Variance\\n          %.4f\"%(ev))\n",
    "\n",
    "    # Return a concatenated DataFrame\n",
    "    return pd.concat([variance_ratios, components], axis = 1)\n"
   ]
  },
  {
   "cell_type": "code",
   "execution_count": null,
   "metadata": {},
   "outputs": [],
   "source": [
    "pca_results(X, pca)"
   ]
  },
  {
   "cell_type": "markdown",
   "metadata": {},
   "source": [
    "Supervised classification:\n",
    "- Use the KneighborsClassifier estimator from sklearn to fit a model to the data:\n",
    "    - Perform train-test-split\n",
    "    - Initiate a classifier instance and fit it on the training data & labels (You can train with both labels at once with `y = data[['UBI', 'Neph']]` as the label) \n",
    "    - Check the model performance using the score method. What does that score mean?\n",
    "    - Verify the validity of your score with a cross validation score on a stratified 5 fold crossvalidation set."
   ]
  },
  {
   "cell_type": "code",
   "execution_count": null,
   "metadata": {},
   "outputs": [],
   "source": [
    "y = clean[['UBI', 'Neph']]"
   ]
  },
  {
   "cell_type": "code",
   "execution_count": null,
   "metadata": {},
   "outputs": [],
   "source": [
    "from sklearn.neighbors import KNeighborsClassifier\n",
    "from sklearn.model_selection import train_test_split\n",
    "\n",
    "clf = KNeighborsClassifier()\n",
    "X_train, X_test, y_train, y_test = train_test_split(X, y)\n",
    "clf.fit(X_train, y_train)\n",
    "clf.score(X_test, y_test)"
   ]
  },
  {
   "cell_type": "code",
   "execution_count": null,
   "metadata": {},
   "outputs": [],
   "source": [
    "from sklearn.model_selection import StratifiedKFold, cross_val_score\n",
    "cv = StratifiedKFold(n_splits=5)\n",
    "cross_val_score(clf, X, clean['diagnosis'], cv=cv)"
   ]
  },
  {
   "cell_type": "code",
   "execution_count": null,
   "metadata": {},
   "outputs": [],
   "source": []
  }
 ],
 "metadata": {
  "anaconda-cloud": {},
  "kernelspec": {
   "display_name": "Python [conda env:Radical_1]",
   "language": "python",
   "name": "conda-env-Radical_1-py"
  },
  "language_info": {
   "codemirror_mode": {
    "name": "ipython",
    "version": 3
   },
   "file_extension": ".py",
   "mimetype": "text/x-python",
   "name": "python",
   "nbconvert_exporter": "python",
   "pygments_lexer": "ipython3",
   "version": "3.5.3"
  }
 },
 "nbformat": 4,
 "nbformat_minor": 2
}
